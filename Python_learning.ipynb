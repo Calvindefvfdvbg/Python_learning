{
 "cells": [
  {
   "cell_type": "code",
   "execution_count": 2,
   "id": "b25f42fd-c4be-4ed4-a4e3-aa046d074d60",
   "metadata": {},
   "outputs": [],
   "source": [
    "#Date:18 March 2025"
   ]
  },
  {
   "cell_type": "code",
   "execution_count": 2,
   "id": "371413ce-8740-4d54-bc2c-8604fe4d761f",
   "metadata": {},
   "outputs": [
    {
     "name": "stdout",
     "output_type": "stream",
     "text": [
      "welcome to codeswithcalvin.com\n"
     ]
    }
   ],
   "source": [
    "#print()\n",
    "print(\"welcome to codeswithcalvin.com\")"
   ]
  },
  {
   "cell_type": "code",
   "execution_count": 4,
   "id": "7582baa5-264a-40c0-b657-a46f0980f48c",
   "metadata": {},
   "outputs": [
    {
     "name": "stdout",
     "output_type": "stream",
     "text": [
      "welcome to blog cwpc.in\n"
     ]
    }
   ],
   "source": [
    "print('welcome to blog cwpc.in')"
   ]
  },
  {
   "cell_type": "code",
   "execution_count": 6,
   "id": "94a9a66c-ca49-44b0-8eeb-4abad757b7da",
   "metadata": {},
   "outputs": [
    {
     "name": "stdout",
     "output_type": "stream",
     "text": [
      "'cwpc.in'\n",
      "\"codeswithcalvin.com\"\n"
     ]
    }
   ],
   "source": [
    "print(\"'cwpc.in'\")\n",
    "print('\"codeswithcalvin.com\"')"
   ]
  },
  {
   "cell_type": "code",
   "execution_count": 8,
   "id": "f4d3c7b3-7cf3-444b-8485-f05d87d56175",
   "metadata": {},
   "outputs": [
    {
     "name": "stdout",
     "output_type": "stream",
     "text": [
      "this is number  10\n"
     ]
    }
   ],
   "source": [
    "# variable\n",
    "number = 10\n",
    "print('this is number ',number)"
   ]
  },
  {
   "cell_type": "code",
   "execution_count": 10,
   "id": "76805834-4f33-488c-9917-cdc21144c8f8",
   "metadata": {},
   "outputs": [
    {
     "name": "stdout",
     "output_type": "stream",
     "text": [
      "My name is   Nishant\n",
      "My age is   23\n",
      "height is  4.5\n"
     ]
    }
   ],
   "source": [
    "name = \"Nishant\"\n",
    "age = 23\n",
    "height = 4.5\n",
    "\n",
    "print(\"My name is  \",name)\n",
    "print(\"My age is  \",age)\n",
    "print(\"height is \",height)"
   ]
  },
  {
   "cell_type": "code",
   "execution_count": 12,
   "id": "6dbdc30d-7a11-48ed-9a76-32619689b921",
   "metadata": {},
   "outputs": [
    {
     "name": "stdin",
     "output_type": "stream",
     "text": [
      "Enter Your Name  Joy\n",
      "Enter Your Age  12\n",
      "Enter Your height  3.4\n"
     ]
    },
    {
     "name": "stdout",
     "output_type": "stream",
     "text": [
      "My name is   Joy\n",
      "My age is   12\n",
      "height is  3.4\n"
     ]
    }
   ],
   "source": [
    "# input\n",
    "name = input('Enter Your Name ')\n",
    "age = input('Enter Your Age ')\n",
    "height = input('Enter Your height ')\n",
    "\n",
    "print(\"My name is  \",name)\n",
    "print(\"My age is  \",age)\n",
    "print(\"height is \",height)"
   ]
  },
  {
   "cell_type": "code",
   "execution_count": 14,
   "id": "bb2da5ca-5a74-4533-a94d-e9ef5d960fb7",
   "metadata": {},
   "outputs": [
    {
     "name": "stdin",
     "output_type": "stream",
     "text": [
      "Enter Your Name  joy\n",
      "Enter Your Age  23\n",
      "Enter Your height  2.4\n"
     ]
    },
    {
     "name": "stdout",
     "output_type": "stream",
     "text": [
      "My name is   joy\n",
      "My age is   23\n",
      "height is  2.4\n"
     ]
    }
   ],
   "source": [
    "# int()\n",
    "# float()\n",
    "# str()\n",
    "\n",
    "name = str(input('Enter Your Name '))\n",
    "age = int(input('Enter Your Age '))\n",
    "height = float(input('Enter Your height '))\n",
    "\n",
    "print(\"My name is  \",name)\n",
    "print(\"My age is  \",age)\n",
    "print(\"height is \",height)"
   ]
  },
  {
   "cell_type": "code",
   "execution_count": null,
   "id": "192c3cd5-da1a-4385-80ec-86af4ebbd537",
   "metadata": {},
   "outputs": [],
   "source": [
    "#Date:20 March 2025"
   ]
  },
  {
   "cell_type": "code",
   "execution_count": 6,
   "id": "83f4c704-34c2-48d4-aee9-91a268ee3429",
   "metadata": {},
   "outputs": [],
   "source": [
    "#Arithmetic Operators"
   ]
  },
  {
   "cell_type": "code",
   "execution_count": 8,
   "id": "59e482ee-9e3b-454b-b5c3-d7d544fde3da",
   "metadata": {},
   "outputs": [
    {
     "name": "stdout",
     "output_type": "stream",
     "text": [
      "181\n",
      "135\n",
      "3634\n",
      "6.869565217391305\n",
      "6\n",
      "20\n",
      "24964\n"
     ]
    }
   ],
   "source": [
    "x = 158\n",
    "y = 23\n",
    "\n",
    "print(x + y)\n",
    "print(x - y)\n",
    "print(x * y)\n",
    "print(x / y)\n",
    "print(x // y)\n",
    "print(x % y)\n",
    "print(x ** 2)"
   ]
  },
  {
   "cell_type": "code",
   "execution_count": 10,
   "id": "cfecfdfc-3035-41ee-9cb8-ad0aed379c90",
   "metadata": {},
   "outputs": [],
   "source": [
    "#Comparison Operators"
   ]
  },
  {
   "cell_type": "code",
   "execution_count": 12,
   "id": "c2353d50-5d40-4f22-80d2-393e7b3d85c4",
   "metadata": {},
   "outputs": [
    {
     "name": "stdout",
     "output_type": "stream",
     "text": [
      "True\n",
      "False\n",
      "False\n",
      "True\n",
      "True\n",
      "False\n"
     ]
    }
   ],
   "source": [
    "print(23 < 34)\n",
    "print(23 > 34)\n",
    "print(23 == 34)\n",
    "print(23 != 34)\n",
    "print(23 <= 34)\n",
    "print(23 >= 34)"
   ]
  },
  {
   "cell_type": "code",
   "execution_count": 14,
   "id": "dbfdad01-962e-4e4e-a644-e25a5354da63",
   "metadata": {},
   "outputs": [],
   "source": [
    "#Logical Operators"
   ]
  },
  {
   "cell_type": "code",
   "execution_count": 16,
   "id": "62200e6d-251c-44cc-a55a-1e58bb075228",
   "metadata": {},
   "outputs": [
    {
     "name": "stdout",
     "output_type": "stream",
     "text": [
      "False\n",
      "True\n",
      "False\n"
     ]
    }
   ],
   "source": [
    "# and\n",
    "print(23 == 67 and 78 < 100) \n",
    "# or \n",
    "print(23 == 67 or 78 < 100) \n",
    "# not \n",
    "print( not 34 == 34)"
   ]
  },
  {
   "cell_type": "code",
   "execution_count": 18,
   "id": "66fde397-c3e5-4ea5-b592-ac09213dd019",
   "metadata": {},
   "outputs": [],
   "source": [
    "#Assignment Operators"
   ]
  },
  {
   "cell_type": "code",
   "execution_count": 20,
   "id": "f9648c53-0fe3-4ebc-9f40-4c368fbbdbb9",
   "metadata": {},
   "outputs": [
    {
     "name": "stdout",
     "output_type": "stream",
     "text": [
      "10\n",
      "20\n",
      "10\n",
      "100\n",
      "10.0\n"
     ]
    }
   ],
   "source": [
    "a = 10 \n",
    "print(a)\n",
    "\n",
    "# a = a + 10\n",
    "a += 10\n",
    "print(a)\n",
    "a -= 10\n",
    "print(a)\n",
    "a *= 10\n",
    "print(a)\n",
    "a /= 10\n",
    "print(a)"
   ]
  },
  {
   "cell_type": "code",
   "execution_count": 22,
   "id": "4dcb9536-f1a9-42be-9471-5a67dfe9af40",
   "metadata": {},
   "outputs": [],
   "source": [
    "#Identity Operators"
   ]
  },
  {
   "cell_type": "code",
   "execution_count": 24,
   "id": "c0ef3003-b36c-458d-9cb5-35b32cfa5da3",
   "metadata": {},
   "outputs": [
    {
     "name": "stdout",
     "output_type": "stream",
     "text": [
      "False\n",
      "True\n"
     ]
    }
   ],
   "source": [
    "#is \n",
    "a = 10\n",
    "b = 20\n",
    "print(a is b)\n",
    "# is not\n",
    "print(a is not b)"
   ]
  },
  {
   "cell_type": "code",
   "execution_count": null,
   "id": "e3ab2507-4af2-4fd7-8954-66bb634716fc",
   "metadata": {},
   "outputs": [],
   "source": [
    "#Membership Operators"
   ]
  },
  {
   "cell_type": "code",
   "execution_count": 26,
   "id": "94749c17-c2f6-4ca5-9da4-096a31aab32b",
   "metadata": {},
   "outputs": [
    {
     "name": "stdout",
     "output_type": "stream",
     "text": [
      "True\n",
      "False\n"
     ]
    }
   ],
   "source": [
    "web = \"codeswithcalvin.com\"\n",
    "print('c' in web)\n",
    "print('c' not in web)"
   ]
  },
  {
   "cell_type": "code",
   "execution_count": 28,
   "id": "f71c052a-d405-49f4-a2b6-5d63ae839748",
   "metadata": {},
   "outputs": [
    {
     "name": "stdout",
     "output_type": "stream",
     "text": [
      "a is smallest\n"
     ]
    }
   ],
   "source": [
    "# if else\n",
    "\n",
    "a = 10 \n",
    "b = 78\n",
    "\n",
    "# find the smallest values \n",
    "\n",
    "if a < b :\n",
    "    print(\"a is smallest\")\n",
    "else:\n",
    "    print(\"a is not smallest ...\")"
   ]
  },
  {
   "cell_type": "code",
   "execution_count": 30,
   "id": "b3819c39-8cd2-49ce-9212-9a65d023a0e6",
   "metadata": {},
   "outputs": [
    {
     "name": "stdout",
     "output_type": "stream",
     "text": [
      " a is smallest ...\n"
     ]
    }
   ],
   "source": [
    "a = 10\n",
    "b = 20\n",
    "c = 30\n",
    "\n",
    "if a < b and a < c:\n",
    "    print(' a is smallest ...')\n",
    "elif b < a and b < c:\n",
    "    print(\" b is smallest ...\")\n",
    "else:\n",
    "    print(' c is smallest ...')    "
   ]
  },
  {
   "cell_type": "code",
   "execution_count": null,
   "id": "4328f989-85e5-4d2e-82f2-81c7deea8f24",
   "metadata": {},
   "outputs": [],
   "source": [
    "#Date:22 March 2025"
   ]
  },
  {
   "cell_type": "code",
   "execution_count": 2,
   "id": "76847273-5057-4bae-b753-e14ef935ee55",
   "metadata": {},
   "outputs": [
    {
     "name": "stdout",
     "output_type": "stream",
     "text": [
      "c\n",
      "o\n",
      "d\n",
      "e\n",
      "s\n",
      "w\n",
      "i\n",
      "t\n",
      "h\n",
      "c\n",
      "a\n",
      "l\n",
      "v\n",
      "i\n",
      "n\n"
     ]
    }
   ],
   "source": [
    "web = \"codeswithcalvin\"\n",
    "for i in web:\n",
    "    print(i)"
   ]
  },
  {
   "cell_type": "code",
   "execution_count": 4,
   "id": "f3e832b7-1312-4c09-a6e0-1a408945361a",
   "metadata": {},
   "outputs": [
    {
     "name": "stdout",
     "output_type": "stream",
     "text": [
      "0\n",
      "1\n",
      "2\n",
      "3\n",
      "4\n",
      "5\n",
      "6\n",
      "7\n",
      "8\n",
      "9\n"
     ]
    }
   ],
   "source": [
    "# range(EndValue) # start 0\n",
    "\n",
    "for i in range(10):\n",
    "    print(i)"
   ]
  },
  {
   "cell_type": "code",
   "execution_count": 6,
   "id": "c1f20403-c146-417d-8863-4020921f774a",
   "metadata": {},
   "outputs": [
    {
     "name": "stdout",
     "output_type": "stream",
     "text": [
      "10\n",
      "11\n",
      "12\n",
      "13\n",
      "14\n",
      "15\n",
      "16\n",
      "17\n",
      "18\n",
      "19\n",
      "20\n",
      "21\n",
      "22\n"
     ]
    }
   ],
   "source": [
    "# range(start,end)\n",
    "\n",
    "for i in range(10,23):\n",
    "    print(i)"
   ]
  },
  {
   "cell_type": "code",
   "execution_count": 8,
   "id": "26de6af7-e8b0-435c-b1e4-f85a9394b767",
   "metadata": {},
   "outputs": [
    {
     "name": "stdout",
     "output_type": "stream",
     "text": [
      "1\n",
      "3\n",
      "5\n",
      "7\n",
      "9\n"
     ]
    }
   ],
   "source": [
    "# range(start,end,steps)\n",
    "\n",
    "for i in range(1,10,2):\n",
    "    print(i)"
   ]
  },
  {
   "cell_type": "code",
   "execution_count": 10,
   "id": "efe5dff0-fe03-44aa-8c50-6112a8c4eedd",
   "metadata": {},
   "outputs": [
    {
     "name": "stdin",
     "output_type": "stream",
     "text": [
      "enter start number  10\n",
      "enter end number  17\n"
     ]
    },
    {
     "name": "stdout",
     "output_type": "stream",
     "text": [
      "10\n",
      "11\n",
      "12\n",
      "13\n",
      "14\n",
      "15\n",
      "16\n",
      "17\n"
     ]
    }
   ],
   "source": [
    "# take user input\n",
    "start = int(input('enter start number '))\n",
    "end = int(input('enter end number '))\n",
    "\n",
    "for i in range(start,end+1):\n",
    "    print(i)"
   ]
  },
  {
   "cell_type": "code",
   "execution_count": 12,
   "id": "2bd0873f-474f-49bf-9cf0-daf7bf52b679",
   "metadata": {},
   "outputs": [
    {
     "name": "stdout",
     "output_type": "stream",
     "text": [
      "1 2 3 4 5 6 7 8 9 10 11 12 13 14 15 16 17 18 19 20 "
     ]
    }
   ],
   "source": [
    "#end=' '\n",
    "\n",
    "for i in range(1,21):\n",
    "    print(i,end=' ')"
   ]
  },
  {
   "cell_type": "code",
   "execution_count": 14,
   "id": "062cc4b8-dbb5-4dbb-9ce8-5a7a0a10b1ab",
   "metadata": {},
   "outputs": [
    {
     "name": "stdout",
     "output_type": "stream",
     "text": [
      "1\n",
      "2\n",
      "3\n",
      "4\n",
      "5\n",
      "6\n",
      "7\n",
      "8\n",
      "9\n",
      "10\n"
     ]
    }
   ],
   "source": [
    "# while loop \n",
    "\n",
    "# start point\n",
    "# end point\n",
    "# output\n",
    "# +/-\n",
    "\n",
    "i = 1\n",
    "while(i <= 10):\n",
    "    print(i)\n",
    "    i = i + 1"
   ]
  },
  {
   "cell_type": "code",
   "execution_count": 16,
   "id": "255f396a-7ca7-4e9f-9333-8efaffdfd8a8",
   "metadata": {},
   "outputs": [
    {
     "name": "stdout",
     "output_type": "stream",
     "text": [
      "welcome to codes with calvin\n",
      "cwpc.in\n",
      "welcome to codes with calvin\n",
      "cwpc.in\n"
     ]
    }
   ],
   "source": [
    "# function basic \n",
    "\n",
    "# def functionName():\n",
    "    # output\n",
    "\n",
    "def info():\n",
    "    print(\"welcome to codes with calvin\")\n",
    "    print(\"cwpc.in\")\n",
    "\n",
    "# call the function\n",
    "info()\n",
    "info()     "
   ]
  },
  {
   "cell_type": "code",
   "execution_count": 18,
   "id": "d01f409c-206d-42b3-97cb-2414bfd850de",
   "metadata": {},
   "outputs": [
    {
     "name": "stdout",
     "output_type": "stream",
     "text": [
      "1267\n"
     ]
    }
   ],
   "source": [
    "# with arg\n",
    "\n",
    "def add(num1,num2):\n",
    "    print(num1+num2)\n",
    "\n",
    "add(1200,67) "
   ]
  },
  {
   "cell_type": "code",
   "execution_count": 20,
   "id": "68ed977c-2bdb-4219-8f8e-605f3be23df6",
   "metadata": {},
   "outputs": [
    {
     "name": "stdout",
     "output_type": "stream",
     "text": [
      "this is number :  900\n"
     ]
    }
   ],
   "source": [
    "# return type\n",
    "\n",
    "def get_number():\n",
    "    return 900\n",
    "\n",
    "print(\"this is number : \",get_number())"
   ]
  },
  {
   "cell_type": "code",
   "execution_count": 22,
   "id": "0b159d43-ae3d-4c82-a8ca-644824aaa368",
   "metadata": {},
   "outputs": [],
   "source": [
    "# return type and with arg\n",
    "\n",
    "def get_result(total,per):\n",
    "    f_total = total*per/100\n",
    "    f_total = total+ f_total\n",
    "    return f_total"
   ]
  },
  {
   "cell_type": "code",
   "execution_count": 24,
   "id": "1adeaa15-7624-4f56-abc1-1c3c235c0100",
   "metadata": {},
   "outputs": [
    {
     "name": "stdout",
     "output_type": "stream",
     "text": [
      " this is main result  1416.0\n"
     ]
    }
   ],
   "source": [
    "final = get_result(1200,18)\n",
    "\n",
    "m_final = 345 + final\n",
    "print(' this is main result ',final)"
   ]
  },
  {
   "cell_type": "code",
   "execution_count": null,
   "id": "412ae7af-a1b1-470b-9bb7-3263d0d7d929",
   "metadata": {},
   "outputs": [],
   "source": [
    "#Date:25 March 2025"
   ]
  },
  {
   "cell_type": "code",
   "execution_count": 26,
   "id": "2687f273-2cf9-4794-b9d7-f9b1045ce34f",
   "metadata": {},
   "outputs": [
    {
     "name": "stdout",
     "output_type": "stream",
     "text": [
      "2025-03-29 10:17:55.084868\n"
     ]
    }
   ],
   "source": [
    "# Date and time in python \n",
    "\n",
    "import datetime\n",
    "\n",
    "# Get the current date and time\n",
    "now = datetime.datetime.now()\n",
    "\n",
    "print(now)"
   ]
  },
  {
   "cell_type": "code",
   "execution_count": 28,
   "id": "a12800e4-8446-455b-87d9-9b4ef9acc35e",
   "metadata": {},
   "outputs": [
    {
     "name": "stdout",
     "output_type": "stream",
     "text": [
      "3\n",
      "29\n",
      "2025\n",
      "10\n",
      "17\n",
      "55\n"
     ]
    }
   ],
   "source": [
    "# get only month \n",
    "print(now.month)\n",
    "\n",
    "# get only day\n",
    "print(now.day)\n",
    "\n",
    "# get only year\n",
    "print(now.year)\n",
    "\n",
    "\n",
    "# get only hour\n",
    "print(now.hour)\n",
    "\n",
    "# get only minute\n",
    "print(now.minute)\n",
    "\n",
    "# get only second\n",
    "print(now.second)"
   ]
  },
  {
   "cell_type": "code",
   "execution_count": 30,
   "id": "7ec7203b-5b74-4657-9de3-5fc513bb19b4",
   "metadata": {},
   "outputs": [
    {
     "name": "stdout",
     "output_type": "stream",
     "text": [
      "2025-03-29\n",
      "10:17:55\n",
      "March\n"
     ]
    }
   ],
   "source": [
    "# get complete date\n",
    "print(now.strftime(\"%Y-%m-%d\"))\n",
    "\n",
    "# get complete time\n",
    "print(now.strftime(\"%H:%M:%S\"))\n",
    "\n",
    "# get month name in character\n",
    "print(now.strftime(\"%B\"))"
   ]
  },
  {
   "cell_type": "code",
   "execution_count": 32,
   "id": "535c9b3c-e53c-468d-a64f-2d25f80cb925",
   "metadata": {},
   "outputs": [
    {
     "name": "stdout",
     "output_type": "stream",
     "text": [
      "     March 2025\n",
      "Mo Tu We Th Fr Sa Su\n",
      "                1  2\n",
      " 3  4  5  6  7  8  9\n",
      "10 11 12 13 14 15 16\n",
      "17 18 19 20 21 22 23\n",
      "24 25 26 27 28 29 30\n",
      "31\n",
      "\n"
     ]
    }
   ],
   "source": [
    "# show calendar\n",
    "import calendar\n",
    "print(calendar.month(2025, 3))  # prints the calendar for February 2024"
   ]
  },
  {
   "cell_type": "code",
   "execution_count": 34,
   "id": "8bab055a-cf4a-401d-a6ff-909bad1cfe69",
   "metadata": {},
   "outputs": [
    {
     "name": "stdout",
     "output_type": "stream",
     "text": [
      "                                  1995\n",
      "\n",
      "      January                   February                   March\n",
      "Mo Tu We Th Fr Sa Su      Mo Tu We Th Fr Sa Su      Mo Tu We Th Fr Sa Su\n",
      "                   1             1  2  3  4  5             1  2  3  4  5\n",
      " 2  3  4  5  6  7  8       6  7  8  9 10 11 12       6  7  8  9 10 11 12\n",
      " 9 10 11 12 13 14 15      13 14 15 16 17 18 19      13 14 15 16 17 18 19\n",
      "16 17 18 19 20 21 22      20 21 22 23 24 25 26      20 21 22 23 24 25 26\n",
      "23 24 25 26 27 28 29      27 28                     27 28 29 30 31\n",
      "30 31\n",
      "\n",
      "       April                      May                       June\n",
      "Mo Tu We Th Fr Sa Su      Mo Tu We Th Fr Sa Su      Mo Tu We Th Fr Sa Su\n",
      "                1  2       1  2  3  4  5  6  7                1  2  3  4\n",
      " 3  4  5  6  7  8  9       8  9 10 11 12 13 14       5  6  7  8  9 10 11\n",
      "10 11 12 13 14 15 16      15 16 17 18 19 20 21      12 13 14 15 16 17 18\n",
      "17 18 19 20 21 22 23      22 23 24 25 26 27 28      19 20 21 22 23 24 25\n",
      "24 25 26 27 28 29 30      29 30 31                  26 27 28 29 30\n",
      "\n",
      "        July                     August                  September\n",
      "Mo Tu We Th Fr Sa Su      Mo Tu We Th Fr Sa Su      Mo Tu We Th Fr Sa Su\n",
      "                1  2          1  2  3  4  5  6                   1  2  3\n",
      " 3  4  5  6  7  8  9       7  8  9 10 11 12 13       4  5  6  7  8  9 10\n",
      "10 11 12 13 14 15 16      14 15 16 17 18 19 20      11 12 13 14 15 16 17\n",
      "17 18 19 20 21 22 23      21 22 23 24 25 26 27      18 19 20 21 22 23 24\n",
      "24 25 26 27 28 29 30      28 29 30 31               25 26 27 28 29 30\n",
      "31\n",
      "\n",
      "      October                   November                  December\n",
      "Mo Tu We Th Fr Sa Su      Mo Tu We Th Fr Sa Su      Mo Tu We Th Fr Sa Su\n",
      "                   1             1  2  3  4  5                   1  2  3\n",
      " 2  3  4  5  6  7  8       6  7  8  9 10 11 12       4  5  6  7  8  9 10\n",
      " 9 10 11 12 13 14 15      13 14 15 16 17 18 19      11 12 13 14 15 16 17\n",
      "16 17 18 19 20 21 22      20 21 22 23 24 25 26      18 19 20 21 22 23 24\n",
      "23 24 25 26 27 28 29      27 28 29 30               25 26 27 28 29 30 31\n",
      "30 31\n",
      "\n"
     ]
    }
   ],
   "source": [
    "# get full year calendar\n",
    "year = 1995\n",
    "print(calendar.calendar(year))  # prints the calendar for 2022"
   ]
  },
  {
   "cell_type": "code",
   "execution_count": 18,
   "id": "a1a382da-c753-4a40-b8f6-c5ef983d36e7",
   "metadata": {},
   "outputs": [
    {
     "name": "stdout",
     "output_type": "stream",
     "text": [
      "👍\n"
     ]
    }
   ],
   "source": [
    "import emoji\n",
    "print(emoji.emojize(\":thumbs_up:\"))\n"
   ]
  },
  {
   "cell_type": "code",
   "execution_count": 40,
   "id": "2eaa4c5b-4e47-4109-ac8a-ce828925a837",
   "metadata": {},
   "outputs": [],
   "source": [
    "# List in python \n",
    "# List is a collection which is ordered and changeable. Allows duplicate members."
   ]
  },
  {
   "cell_type": "code",
   "execution_count": 42,
   "id": "65ebc2b5-1097-4805-9184-dc3d96549679",
   "metadata": {},
   "outputs": [
    {
     "name": "stdout",
     "output_type": "stream",
     "text": [
      "[]\n",
      "<class 'list'>\n"
     ]
    }
   ],
   "source": [
    "# create a empty list\n",
    "my_list = []\n",
    "print(my_list)  # Output: []\n",
    "# check the type of my_list\n",
    "print(type(my_list))  # Output: <class 'list'>"
   ]
  },
  {
   "cell_type": "code",
   "execution_count": 44,
   "id": "de5b0fdf-40f5-42e5-b80b-73e4be75c49e",
   "metadata": {},
   "outputs": [
    {
     "name": "stdout",
     "output_type": "stream",
     "text": [
      "[1, 2, 3, 4, 5]\n"
     ]
    }
   ],
   "source": [
    "# init list with values\n",
    "my_list = [1, 2, 3, 4, 5]\n",
    "print(my_list)  # Output: [1, 2, 3, 4,"
   ]
  },
  {
   "cell_type": "code",
   "execution_count": 46,
   "id": "e8dcd0b7-87c1-4312-ac5b-afca0b061739",
   "metadata": {},
   "outputs": [
    {
     "name": "stdout",
     "output_type": "stream",
     "text": [
      "[1, 2, 3, 4, 5, 'hello', 3.14]\n"
     ]
    }
   ],
   "source": [
    "# mixed data types\n",
    "my_list = [1, 2, 3, 4, 5, \"hello\", 3.14]\n",
    "print(my_list)  # Output: [1, 2, 3, 4, 5, 'hello', 3.14]"
   ]
  },
  {
   "cell_type": "code",
   "execution_count": 48,
   "id": "2da52f39-0b46-4689-bfe6-3775a2bbb2e1",
   "metadata": {},
   "outputs": [
    {
     "name": "stdout",
     "output_type": "stream",
     "text": [
      "apple\n",
      "apple\n",
      "banana\n"
     ]
    }
   ],
   "source": [
    "# aeccess list element\n",
    "#index       0        1          2        3        4        5       6\n",
    "fruits = [\"apple\", \"banana\", \"cherry\", \"orange\", \"kiwi\", \"melon\", \"mango\"]\n",
    "#-ve         -7       -6         -5       -4       -3       -2      -1\n",
    "\n",
    "# print the element at index 0\n",
    "print(fruits[0])  # Output: apple\n",
    "print(fruits[-7])  # Output: apple\n",
    "\n",
    "print(fruits[1])  # Output: banana"
   ]
  },
  {
   "cell_type": "code",
   "execution_count": 50,
   "id": "306044f9-4067-4cad-92e9-85d094bc2d1b",
   "metadata": {},
   "outputs": [
    {
     "name": "stdout",
     "output_type": "stream",
     "text": [
      "['banana', 'cherry', 'orange']\n",
      "['banana', 'cherry', 'orange']\n",
      "['apple', 'banana', 'cherry', 'orange']\n",
      "['cherry', 'orange', 'kiwi', 'melon', 'mango']\n",
      "['apple', 'banana', 'cherry', 'orange', 'kiwi', 'melon', 'mango']\n",
      "['apple', 'banana', 'cherry', 'orange', 'kiwi', 'melon', 'mango']\n"
     ]
    }
   ],
   "source": [
    "#slice list\n",
    "# get the elements from index 1 to 4 (not included)\n",
    "print(fruits[1:4])  # Output: ['banana', 'cherry', 'orange']\n",
    "print(fruits[-6:-3])  # Output: ['banana', 'cherry', 'orange']\n",
    "\n",
    "print(fruits[:4])  # Output: ['apple', 'banana', 'cherry', 'orange']\n",
    "\n",
    "print(fruits[2:])\n",
    "\n",
    "print(fruits[:])\n",
    "print(fruits)"
   ]
  },
  {
   "cell_type": "code",
   "execution_count": 52,
   "id": "106bf6a5-f483-45ca-a882-a74e0339b62d",
   "metadata": {},
   "outputs": [
    {
     "name": "stdout",
     "output_type": "stream",
     "text": [
      "['apple', 'banana', 'cherry', 'orange', 'kiwi', 'melon', 'mango']\n",
      "['avocado', 'banana', 'cherry', 'orange', 'kiwi', 'melon', 'mango']\n"
     ]
    }
   ],
   "source": [
    "print(fruits)\n",
    "# change the value of an element\n",
    "fruits[0] = \"avocado\"\n",
    "print(fruits)"
   ]
  },
  {
   "cell_type": "code",
   "execution_count": 54,
   "id": "b5ecadb3-8943-43e2-8f30-4789c58af450",
   "metadata": {},
   "outputs": [
    {
     "name": "stdout",
     "output_type": "stream",
     "text": [
      "['avocado', 'banana', 'blueberry', 'cherry', 'orange', 'kiwi', 'melon', 'mango']\n"
     ]
    }
   ],
   "source": [
    "# insert element at specific index\n",
    "fruits.insert(2, \"blueberry\")\n",
    "print(fruits)"
   ]
  },
  {
   "cell_type": "code",
   "execution_count": 56,
   "id": "9c55deea-c3f8-45b9-85e4-f2281141d913",
   "metadata": {},
   "outputs": [
    {
     "name": "stdout",
     "output_type": "stream",
     "text": [
      "['avocado', 'banana', 'blueberry', 'cherry', 'orange', 'kiwi', 'melon', 'mango', 'strawberry']\n"
     ]
    }
   ],
   "source": [
    "# append element at the end of the list\n",
    "fruits.append(\"strawberry\")\n",
    "print(fruits)"
   ]
  },
  {
   "cell_type": "code",
   "execution_count": 58,
   "id": "67be8f0f-8fa2-4382-82b7-ee93d4c2abb8",
   "metadata": {},
   "outputs": [
    {
     "name": "stdout",
     "output_type": "stream",
     "text": [
      "['avocado', 'blueberry', 'cherry', 'orange', 'kiwi', 'melon', 'mango', 'strawberry']\n"
     ]
    }
   ],
   "source": [
    "# remove element\n",
    "fruits.remove(\"banana\")\n",
    "print(fruits)"
   ]
  },
  {
   "cell_type": "code",
   "execution_count": 60,
   "id": "ef4fc3db-b376-4aca-a3db-5162e3b22d01",
   "metadata": {},
   "outputs": [
    {
     "data": {
      "text/plain": [
       "'cherry'"
      ]
     },
     "execution_count": 60,
     "metadata": {},
     "output_type": "execute_result"
    }
   ],
   "source": [
    "# remove element at specific index\n",
    "fruits.pop(2)"
   ]
  },
  {
   "cell_type": "code",
   "execution_count": 62,
   "id": "a219bcb1-2a99-452e-bb2a-52488fadd498",
   "metadata": {},
   "outputs": [
    {
     "name": "stdout",
     "output_type": "stream",
     "text": [
      "['avocado', 'blueberry', 'orange', 'kiwi', 'melon', 'mango', 'strawberry']\n"
     ]
    }
   ],
   "source": [
    "print(fruits)"
   ]
  },
  {
   "cell_type": "code",
   "execution_count": 64,
   "id": "650ee021-392e-4049-84a2-52679c4e157f",
   "metadata": {},
   "outputs": [
    {
     "name": "stdout",
     "output_type": "stream",
     "text": [
      "['avocado', 'blueberry', 'orange', 'kiwi', 'melon', 'mango', 'strawberry', 'grapes', 'watermelon']\n"
     ]
    }
   ],
   "source": [
    "# extend list\n",
    "new_fruits = [\"grapes\", \"watermelon\"]\n",
    "fruits.extend(new_fruits)\n",
    "print(fruits)"
   ]
  },
  {
   "cell_type": "code",
   "execution_count": 66,
   "id": "ef280894-ab93-48d3-a6a5-036a8bd4f38f",
   "metadata": {},
   "outputs": [
    {
     "name": "stdout",
     "output_type": "stream",
     "text": [
      "['avocado', 'blueberry', 'orange', 'kiwi', 'melon', 'mango', 'strawberry', 'grapes']\n"
     ]
    }
   ],
   "source": [
    "# pop element from the end of the list\n",
    "fruits.pop()\n",
    "print(fruits)"
   ]
  },
  {
   "cell_type": "code",
   "execution_count": 68,
   "id": "7ee19bb6-0e89-4d93-80e7-441e88ec0862",
   "metadata": {},
   "outputs": [
    {
     "name": "stdout",
     "output_type": "stream",
     "text": [
      "avocado\n",
      "blueberry\n",
      "orange\n",
      "kiwi\n",
      "melon\n",
      "mango\n",
      "strawberry\n",
      "grapes\n"
     ]
    }
   ],
   "source": [
    "# intreting list\n",
    "for i in fruits:\n",
    "    print(i)"
   ]
  },
  {
   "cell_type": "code",
   "execution_count": 70,
   "id": "03bdb2a4-4d26-4938-87d3-77689fa87f6b",
   "metadata": {},
   "outputs": [
    {
     "name": "stdout",
     "output_type": "stream",
     "text": [
      "False\n",
      "True\n"
     ]
    }
   ],
   "source": [
    "# check if an element is in the list\n",
    "\n",
    "print(\"apple\" in fruits) \n",
    "\n",
    "print(\"kiwi\" in fruits)  "
   ]
  },
  {
   "cell_type": "code",
   "execution_count": 5,
   "id": "2f4ce22a-b0d1-483c-9342-435d1c1059b3",
   "metadata": {},
   "outputs": [
    {
     "name": "stdin",
     "output_type": "stream",
     "text": [
      "Enter the size of the list:  2\n",
      "Enter the food:  jalebi\n",
      "Enter the food:  pav\n"
     ]
    },
    {
     "name": "stdout",
     "output_type": "stream",
     "text": [
      "jalebi\n",
      "pav\n"
     ]
    }
   ],
   "source": [
    "# how to take user input into list \n",
    "\n",
    "# define size and list \n",
    "\n",
    "size = int(input(\"Enter the size of the list: \"))\n",
    "food = []\n",
    "\n",
    "# take input from user\n",
    "for i in range(size):\n",
    "    f = input(\"Enter the food: \")\n",
    "    food.append(f)\n",
    "    \n",
    "    \n",
    "\n",
    "for i in food:\n",
    "    print(i)"
   ]
  },
  {
   "cell_type": "code",
   "execution_count": null,
   "id": "cd336c13-6ed8-4b5e-93d9-2ed8f67fef8c",
   "metadata": {},
   "outputs": [],
   "source": [
    "#Date:27 March 2025"
   ]
  },
  {
   "cell_type": "code",
   "execution_count": 7,
   "id": "8e13aeed-6fa0-49d8-808c-6a98d0497a84",
   "metadata": {},
   "outputs": [],
   "source": [
    "# name = joy\n",
    "# key = value\n",
    "\n",
    "# dict = {key1: value1, key2: value2, key3: value3}\n",
    "\n",
    "# Dictionary is a collection of key-value pairs\n",
    "# Dictionary is mutable\n",
    "# Dictionary is unordered\n",
    "# Dictionary is indexed"
   ]
  },
  {
   "cell_type": "code",
   "execution_count": 9,
   "id": "9c9b0be4-fda9-44c8-a786-52fca171abd7",
   "metadata": {},
   "outputs": [
    {
     "name": "stdout",
     "output_type": "stream",
     "text": [
      "{'name': 'joy', 'age': 25, 'city': 'Dhaka'}\n"
     ]
    }
   ],
   "source": [
    "# EXAMPLE : \n",
    "\n",
    "data = {'name': 'joy', 'age': 25, 'city': 'Dhaka'}\n",
    "print(data)"
   ]
  },
  {
   "cell_type": "code",
   "execution_count": 11,
   "id": "db70cb70-f95e-4038-99dc-0cad0c6d254d",
   "metadata": {},
   "outputs": [
    {
     "name": "stdout",
     "output_type": "stream",
     "text": [
      "joy\n"
     ]
    }
   ],
   "source": [
    "# access the items of a dictionary\n",
    "print(data['name'])"
   ]
  },
  {
   "cell_type": "code",
   "execution_count": 13,
   "id": "1ea13824-f122-483e-9fce-5dca0d63f0b0",
   "metadata": {},
   "outputs": [
    {
     "name": "stdout",
     "output_type": "stream",
     "text": [
      "dict_keys(['name', 'age', 'city'])\n"
     ]
    }
   ],
   "source": [
    "# get all keys of a dictionary\n",
    "print(data.keys())"
   ]
  },
  {
   "cell_type": "code",
   "execution_count": 15,
   "id": "913cb9d7-78e5-40a7-8afc-4e02f60e5d16",
   "metadata": {},
   "outputs": [
    {
     "name": "stdout",
     "output_type": "stream",
     "text": [
      "dict_values(['joy', 25, 'Dhaka'])\n"
     ]
    }
   ],
   "source": [
    "# get all values of a dictionary\n",
    "print(data.values())"
   ]
  },
  {
   "cell_type": "code",
   "execution_count": 17,
   "id": "8706a948-9f2c-4ba6-aaf5-c574e7659136",
   "metadata": {},
   "outputs": [
    {
     "name": "stdout",
     "output_type": "stream",
     "text": [
      "joy\n"
     ]
    }
   ],
   "source": [
    "# get data from keys \n",
    "print(data.get('name'))"
   ]
  },
  {
   "cell_type": "code",
   "execution_count": 19,
   "id": "e7f0442c-7a7c-47e3-b123-ccbe50acb82b",
   "metadata": {},
   "outputs": [
    {
     "name": "stdout",
     "output_type": "stream",
     "text": [
      "dict_items([('name', 'joy'), ('age', 25), ('city', 'Dhaka')])\n"
     ]
    }
   ],
   "source": [
    "# get all data from using items() method\n",
    "print(data.items())"
   ]
  },
  {
   "cell_type": "code",
   "execution_count": 21,
   "id": "e6e26006-88e5-4d91-82fd-d6c304c3eeaa",
   "metadata": {},
   "outputs": [
    {
     "name": "stdout",
     "output_type": "stream",
     "text": [
      "{'name': 'joy', 'age': 30, 'city': 'Dhaka'}\n"
     ]
    }
   ],
   "source": [
    "# update values of a dictionary\n",
    "data['age'] = 30\n",
    "print(data)"
   ]
  },
  {
   "cell_type": "code",
   "execution_count": 23,
   "id": "e9bd8ea5-c271-4e3e-b72e-4b0508126aad",
   "metadata": {},
   "outputs": [
    {
     "name": "stdout",
     "output_type": "stream",
     "text": [
      "{'name': 'joy', 'age': 30, 'city': 'Dhaka', 'country': 'Bangladesh'}\n"
     ]
    }
   ],
   "source": [
    "# add new key-value pair in a dictionary\n",
    "\n",
    "data['country'] = 'Bangladesh'\n",
    "print(data)"
   ]
  },
  {
   "cell_type": "code",
   "execution_count": 25,
   "id": "1b3b0174-0a0f-40a8-a162-11f46193f613",
   "metadata": {},
   "outputs": [
    {
     "name": "stdout",
     "output_type": "stream",
     "text": [
      "{'name': 'joy', 'age': 30, 'country': 'Bangladesh'}\n"
     ]
    }
   ],
   "source": [
    "# delete a key-value pair from a dictionary\n",
    "del data['city']\n",
    "print(data)"
   ]
  },
  {
   "cell_type": "code",
   "execution_count": 27,
   "id": "c418ff9a-5de6-426a-9b64-e8a74cf1f184",
   "metadata": {},
   "outputs": [
    {
     "name": "stdout",
     "output_type": "stream",
     "text": [
      "name = joy\n",
      "age = 30\n",
      "country = Bangladesh\n"
     ]
    }
   ],
   "source": [
    "# iterate through a dictionary\n",
    "# fetch data from loop\n",
    "for i in data:\n",
    "    print(i,'=', data[i])"
   ]
  },
  {
   "cell_type": "code",
   "execution_count": 29,
   "id": "0fcdefce-b5cd-4fea-86c8-bbc704bc3d98",
   "metadata": {},
   "outputs": [
    {
     "name": "stdout",
     "output_type": "stream",
     "text": [
      "name = joy\n",
      "age = 30\n",
      "country = Bangladesh\n"
     ]
    }
   ],
   "source": [
    "# fetch data from items() method\n",
    "for key, value in data.items():\n",
    "    print(key, '=', value)"
   ]
  },
  {
   "cell_type": "code",
   "execution_count": 31,
   "id": "863860e1-f14e-4e77-a6b2-25da2146bcda",
   "metadata": {},
   "outputs": [
    {
     "name": "stdout",
     "output_type": "stream",
     "text": [
      "True\n",
      "False\n"
     ]
    }
   ],
   "source": [
    "# check if a key exists in a dictionary\n",
    "\n",
    "print('name' in data)\n",
    "print('city' in data)"
   ]
  },
  {
   "cell_type": "code",
   "execution_count": 33,
   "id": "ea871cce-7ef9-490b-a6c8-432572de7ced",
   "metadata": {},
   "outputs": [
    {
     "name": "stdout",
     "output_type": "stream",
     "text": [
      "my name is :  joy\n",
      "my age is :  25\n",
      "my height is :  5.6\n"
     ]
    }
   ],
   "source": [
    "# format using in String\n",
    "\n",
    "name = 'joy'\n",
    "age = 25\n",
    "height = 5.6\n",
    "\n",
    "print('my name is : ',name)\n",
    "print('my age is : ',age)\n",
    "print('my height is : ',height)"
   ]
  },
  {
   "cell_type": "code",
   "execution_count": 35,
   "id": "e1cea12b-b56c-4f9f-970f-66c5890e0ee1",
   "metadata": {},
   "outputs": [
    {
     "name": "stdout",
     "output_type": "stream",
     "text": [
      "my name is  joy age is  25 height is  5.6\n"
     ]
    }
   ],
   "source": [
    "print('my name is ',name,'age is ',age,'height is ',height)"
   ]
  },
  {
   "cell_type": "code",
   "execution_count": 37,
   "id": "fc7037a3-035e-4f94-b39b-ff10499728e2",
   "metadata": {},
   "outputs": [
    {
     "name": "stdout",
     "output_type": "stream",
     "text": [
      "My name joy , height  5.6 and age 25\n"
     ]
    }
   ],
   "source": [
    "print('My name {0} , height  {2} and age {1}'.format(name, age, height))"
   ]
  },
  {
   "cell_type": "code",
   "execution_count": 39,
   "id": "b612f05c-8ef8-41ef-a297-a180785927df",
   "metadata": {},
   "outputs": [
    {
     "name": "stdout",
     "output_type": "stream",
     "text": [
      "My name is joy, age is 25 and height is 5.6\n"
     ]
    }
   ],
   "source": [
    "print(f'My name is {name}, age is {age} and height is {height}')"
   ]
  },
  {
   "cell_type": "code",
   "execution_count": 41,
   "id": "7f42e9f0-b885-4015-8b48-1293e1c0ee59",
   "metadata": {},
   "outputs": [
    {
     "name": "stdout",
     "output_type": "stream",
     "text": [
      "name = joy\n",
      "age = 30\n",
      "country = Bangladesh\n"
     ]
    }
   ],
   "source": [
    "for key, value in data.items():\n",
    "    print(f'{key} = {value}')"
   ]
  },
  {
   "cell_type": "code",
   "execution_count": 43,
   "id": "2006e026-abcc-4be1-adad-3a344098267b",
   "metadata": {},
   "outputs": [
    {
     "name": "stdin",
     "output_type": "stream",
     "text": [
      "Enter your name :  name\n",
      "Enter your age :  23\n",
      "Enter your city :  44\n"
     ]
    },
    {
     "name": "stdout",
     "output_type": "stream",
     "text": [
      "{'name': 'name', 'age': '23', 'city': '44'}\n"
     ]
    }
   ],
   "source": [
    "# how to take user input and store in a dictionary\n",
    "\n",
    "# step 1 : create a dictionary\n",
    "# step 2 : take user input\n",
    "# step 3 : store the input in the dictionary\n",
    "# step 4 : print the dictionary\n",
    "data = {}\n",
    "\n",
    "name = input('Enter your name : ')\n",
    "age = input('Enter your age : ')\n",
    "city = input('Enter your city : ')\n",
    "\n",
    "data['name'] = name\n",
    "data['age'] = age\n",
    "data['city'] = city\n",
    "\n",
    "print(data)"
   ]
  },
  {
   "cell_type": "code",
   "execution_count": 2,
   "id": "8798a958-ae7c-4d56-adcd-afafb603b26a",
   "metadata": {},
   "outputs": [
    {
     "name": "stdout",
     "output_type": "stream",
     "text": [
      "Defaulting to user installation because normal site-packages is not writeableNote: you may need to restart the kernel to use updated packages.\n",
      "\n",
      "Requirement already satisfied: pandas in c:\\users\\programming\\appdata\\roaming\\python\\python312\\site-packages (2.2.3)\n",
      "Requirement already satisfied: numpy>=1.26.0 in c:\\users\\programming\\appdata\\roaming\\python\\python312\\site-packages (from pandas) (1.26.4)\n",
      "Requirement already satisfied: python-dateutil>=2.8.2 in c:\\users\\programming\\appdata\\roaming\\python\\python312\\site-packages (from pandas) (2.9.0.post0)\n",
      "Requirement already satisfied: pytz>=2020.1 in c:\\users\\programming\\appdata\\roaming\\python\\python312\\site-packages (from pandas) (2024.2)\n",
      "Requirement already satisfied: tzdata>=2022.7 in c:\\users\\programming\\appdata\\roaming\\python\\python312\\site-packages (from pandas) (2024.2)\n",
      "Requirement already satisfied: six>=1.5 in c:\\users\\programming\\appdata\\roaming\\python\\python312\\site-packages (from python-dateutil>=2.8.2->pandas) (1.17.0)\n"
     ]
    },
    {
     "name": "stderr",
     "output_type": "stream",
     "text": [
      "\n",
      "[notice] A new release of pip is available: 24.3.1 -> 25.0.1\n",
      "[notice] To update, run: python.exe -m pip install --upgrade pip\n"
     ]
    }
   ],
   "source": [
    "# pandas in python\n",
    "# https://pandas.pydata.org/\n",
    "\n",
    "# install pandas \n",
    "%pip install pandas"
   ]
  },
  {
   "cell_type": "code",
   "execution_count": 8,
   "id": "a8d5cb50-a394-4f0b-a186-c3d2221189e1",
   "metadata": {},
   "outputs": [
    {
     "name": "stdout",
     "output_type": "stream",
     "text": [
      "name       Gopal\n",
      "age           20\n",
      "city    New York\n",
      "dtype: object\n"
     ]
    }
   ],
   "source": [
    "# create a series from a dictionary\n",
    "\n",
    "data = {\n",
    "    \"name\": \"Gopal\",\n",
    "    \"age\": 20,\n",
    "    \"city\": \"New York\"\n",
    "}\n",
    "\n",
    "s = pd.Series(data)\n",
    "print(s)"
   ]
  },
  {
   "cell_type": "code",
   "execution_count": 10,
   "id": "b725da7b-3d24-4c7b-b5d7-eb7d8b4e5dcf",
   "metadata": {},
   "outputs": [
    {
     "name": "stdout",
     "output_type": "stream",
     "text": [
      "a      Word\n",
      "b     Excel\n",
      "c       SQL\n",
      "d    Access\n",
      "dtype: object\n"
     ]
    }
   ],
   "source": [
    "# rename the index\n",
    "\n",
    "data = [\"Word\", \"Excel\", \"SQL\", \"Access\"]\n",
    "\n",
    "s = pd.Series(data, index=[\"a\", \"b\", \"c\", \"d\"])\n",
    "print(s)"
   ]
  },
  {
   "cell_type": "code",
   "execution_count": 12,
   "id": "e4985d64-7586-4c7d-8f5b-ae465c19954b",
   "metadata": {},
   "outputs": [
    {
     "name": "stdout",
     "output_type": "stream",
     "text": [
      "     name  age      city\n",
      "0   Gopal   28  New York\n",
      "1  Madhav   24     Paris\n",
      "2  Laxman   35    Berlin\n"
     ]
    }
   ],
   "source": [
    "#  data frame\n",
    "\n",
    "# what is a data frame\n",
    "# a data frame is a two-dimensional labeled data structure with columns of potentially different types\n",
    "# it is similar to a spreadsheet or SQL table, or a dictionary of Series objects\n",
    "# the data frame has an index and columns\n",
    "\n",
    "\n",
    "# example \n",
    "\n",
    "data = {\n",
    "    \"name\": [\"Gopal\", \"Madhav\", \"Laxman\"],\n",
    "    \"age\": [28, 24, 35],\n",
    "    \"city\": [\"New York\", \"Paris\", \"Berlin\"]\n",
    "}\n",
    "\n",
    "df = pd.DataFrame(data)\n",
    "\n",
    "print(df)"
   ]
  },
  {
   "cell_type": "code",
   "execution_count": 14,
   "id": "517dfd33-9529-45c5-98c6-b6cf2b0d5449",
   "metadata": {},
   "outputs": [
    {
     "name": "stdout",
     "output_type": "stream",
     "text": [
      "     name  age      city\n",
      "a   Gopal   28  New York\n",
      "b  Madhav   24     Paris\n",
      "c  Laxman   35    Berlin\n"
     ]
    }
   ],
   "source": [
    "# add index\n",
    "data = {\n",
    "    \"name\": [\"Gopal\", \"Madhav\", \"Laxman\"],\n",
    "    \"age\": [28, 24, 35],\n",
    "    \"city\": [\"New York\", \"Paris\", \"Berlin\"]\n",
    "}\n",
    "df = pd.DataFrame(data, index=[\"a\", \"b\", \"c\"])\n",
    "print(df)"
   ]
  },
  {
   "cell_type": "code",
   "execution_count": 16,
   "id": "a19bd24f-9cea-4c40-a557-7038c3626da4",
   "metadata": {},
   "outputs": [
    {
     "name": "stdout",
     "output_type": "stream",
     "text": [
      "          id Gender   Age           City Profession  Academic Pressure  \\\n",
      "0          2   Male  33.0  Visakhapatnam    Student                5.0   \n",
      "1         26   Male  31.0       Srinagar    Student                3.0   \n",
      "2         62   Male  31.0         Nashik    Student                2.0   \n",
      "3         91   Male  33.0       Vadodara    Student                3.0   \n",
      "4        186   Male  31.0      Ahmedabad    Student                2.0   \n",
      "...      ...    ...   ...            ...        ...                ...   \n",
      "6094  140536   Male  33.0         Nagpur    Student                1.0   \n",
      "6095  140624   Male  32.0         Rajkot    Student                4.0   \n",
      "6096  140631   Male  33.0      Ahmedabad    Student                1.0   \n",
      "6097  140684   Male  31.0        Lucknow    Student                2.0   \n",
      "6098  140689   Male  31.0      Faridabad    Student                3.0   \n",
      "\n",
      "      Work Pressure  CGPA  Study Satisfaction  Job Satisfaction  \\\n",
      "0               0.0  8.97                 2.0               0.0   \n",
      "1               0.0  7.03                 5.0               0.0   \n",
      "2               0.0  8.38                 3.0               0.0   \n",
      "3               0.0  7.03                 4.0               0.0   \n",
      "4               0.0  6.08                 5.0               0.0   \n",
      "...             ...   ...                 ...               ...   \n",
      "6094            0.0  7.39                 4.0               0.0   \n",
      "6095            0.0  9.19                 1.0               0.0   \n",
      "6096            0.0  5.70                 2.0               0.0   \n",
      "6097            0.0  7.27                 5.0               0.0   \n",
      "6098            0.0  6.61                 4.0               0.0   \n",
      "\n",
      "           Sleep Duration Dietary Habits   Degree  \\\n",
      "0             '5-6 hours'        Healthy  B.Pharm   \n",
      "1     'Less than 5 hours'        Healthy       BA   \n",
      "2     'Less than 5 hours'       Moderate      LLB   \n",
      "3     'Less than 5 hours'        Healthy       BE   \n",
      "4             '7-8 hours'       Moderate      LLB   \n",
      "...                   ...            ...      ...   \n",
      "6094          '7-8 hours'      Unhealthy      BHM   \n",
      "6095          '5-6 hours'        Healthy      MSc   \n",
      "6096  'Less than 5 hours'        Healthy      MCA   \n",
      "6097          '7-8 hours'       Moderate    B.Com   \n",
      "6098          '5-6 hours'      Unhealthy       MD   \n",
      "\n",
      "     Have you ever had suicidal thoughts ?  Work/Study Hours Financial Stress  \\\n",
      "0                                      Yes               3.0              1.0   \n",
      "1                                       No               9.0              1.0   \n",
      "2                                      Yes               2.0              5.0   \n",
      "3                                      Yes              10.0              2.0   \n",
      "4                                      Yes               3.0              3.0   \n",
      "...                                    ...               ...              ...   \n",
      "6094                                    No              12.0              2.0   \n",
      "6095                                    No               7.0              4.0   \n",
      "6096                                   Yes               2.0              2.0   \n",
      "6097                                   Yes               6.0              1.0   \n",
      "6098                                    No              12.0              2.0   \n",
      "\n",
      "     Family History of Mental Illness  Depression  \n",
      "0                                  No           1  \n",
      "1                                 Yes           0  \n",
      "2                                  No           1  \n",
      "3                                 Yes           0  \n",
      "4                                 Yes           1  \n",
      "...                               ...         ...  \n",
      "6094                               No           0  \n",
      "6095                              Yes           1  \n",
      "6096                               No           0  \n",
      "6097                              Yes           0  \n",
      "6098                               No           0  \n",
      "\n",
      "[6099 rows x 18 columns]\n"
     ]
    }
   ],
   "source": [
    "# read csv file\n",
    "data = pd.read_csv(\"student_depression_dataset.csv\")\n",
    "print(data)"
   ]
  },
  {
   "cell_type": "code",
   "execution_count": 18,
   "id": "5f31a9ae-0bd5-47f2-b9e2-5dca7757519b",
   "metadata": {},
   "outputs": [
    {
     "name": "stdout",
     "output_type": "stream",
     "text": [
      "    id Gender   Age           City Profession  Academic Pressure  \\\n",
      "0    2   Male  33.0  Visakhapatnam    Student                5.0   \n",
      "1   26   Male  31.0       Srinagar    Student                3.0   \n",
      "2   62   Male  31.0         Nashik    Student                2.0   \n",
      "3   91   Male  33.0       Vadodara    Student                3.0   \n",
      "4  186   Male  31.0      Ahmedabad    Student                2.0   \n",
      "\n",
      "   Work Pressure  CGPA  Study Satisfaction  Job Satisfaction  \\\n",
      "0            0.0  8.97                 2.0               0.0   \n",
      "1            0.0  7.03                 5.0               0.0   \n",
      "2            0.0  8.38                 3.0               0.0   \n",
      "3            0.0  7.03                 4.0               0.0   \n",
      "4            0.0  6.08                 5.0               0.0   \n",
      "\n",
      "        Sleep Duration Dietary Habits   Degree  \\\n",
      "0          '5-6 hours'        Healthy  B.Pharm   \n",
      "1  'Less than 5 hours'        Healthy       BA   \n",
      "2  'Less than 5 hours'       Moderate      LLB   \n",
      "3  'Less than 5 hours'        Healthy       BE   \n",
      "4          '7-8 hours'       Moderate      LLB   \n",
      "\n",
      "  Have you ever had suicidal thoughts ?  Work/Study Hours Financial Stress  \\\n",
      "0                                   Yes               3.0              1.0   \n",
      "1                                    No               9.0              1.0   \n",
      "2                                   Yes               2.0              5.0   \n",
      "3                                   Yes              10.0              2.0   \n",
      "4                                   Yes               3.0              3.0   \n",
      "\n",
      "  Family History of Mental Illness  Depression  \n",
      "0                               No           1  \n",
      "1                              Yes           0  \n",
      "2                               No           1  \n",
      "3                              Yes           0  \n",
      "4                              Yes           1  \n"
     ]
    }
   ],
   "source": [
    "# print the first 5 rows\n",
    "print(data.head())"
   ]
  },
  {
   "cell_type": "code",
   "execution_count": 20,
   "id": "47917bab-88fd-4949-8329-b2060ec444f7",
   "metadata": {},
   "outputs": [
    {
     "name": "stdout",
     "output_type": "stream",
     "text": [
      "(6099, 18)\n"
     ]
    }
   ],
   "source": [
    "# find the shape of the data frame\n",
    "print(data.shape)"
   ]
  },
  {
   "cell_type": "code",
   "execution_count": 22,
   "id": "3eae89b5-fd4a-4141-9889-4ef3253afaea",
   "metadata": {},
   "outputs": [
    {
     "name": "stdout",
     "output_type": "stream",
     "text": [
      "Index(['id', 'Gender', 'Age', 'City', 'Profession', 'Academic Pressure',\n",
      "       'Work Pressure', 'CGPA', 'Study Satisfaction', 'Job Satisfaction',\n",
      "       'Sleep Duration', 'Dietary Habits', 'Degree',\n",
      "       'Have you ever had suicidal thoughts ?', 'Work/Study Hours',\n",
      "       'Financial Stress', 'Family History of Mental Illness', 'Depression'],\n",
      "      dtype='object')\n"
     ]
    }
   ],
   "source": [
    "# get all columns name \n",
    "print(data.columns)"
   ]
  },
  {
   "cell_type": "code",
   "execution_count": 24,
   "id": "f2a0b038-f55f-47ff-aa57-a6f254f111e9",
   "metadata": {},
   "outputs": [
    {
     "name": "stdout",
     "output_type": "stream",
     "text": [
      "                  id          Age  Academic Pressure  Work Pressure  \\\n",
      "count    6099.000000  6099.000000        6099.000000    6099.000000   \n",
      "mean    71004.127234    32.628464           2.956714       0.000820   \n",
      "std     40883.064322     1.438136           1.376403       0.064024   \n",
      "min         2.000000    31.000000           0.000000       0.000000   \n",
      "25%     35390.000000    32.000000           2.000000       0.000000   \n",
      "50%     70820.000000    33.000000           3.000000       0.000000   \n",
      "75%    107443.500000    33.000000           4.000000       0.000000   \n",
      "max    140689.000000    59.000000           5.000000       5.000000   \n",
      "\n",
      "              CGPA  Study Satisfaction  Job Satisfaction  Work/Study Hours  \\\n",
      "count  6099.000000         6099.000000       6099.000000       6099.000000   \n",
      "mean      7.632515            3.015084          0.000656          6.994425   \n",
      "std       1.505554            1.339941          0.051219          3.762457   \n",
      "min       0.000000            0.000000          0.000000          0.000000   \n",
      "25%       6.210000            2.000000          0.000000          4.000000   \n",
      "50%       7.710000            3.000000          0.000000          8.000000   \n",
      "75%       8.950000            4.000000          0.000000         10.000000   \n",
      "max      10.000000            5.000000          4.000000         12.000000   \n",
      "\n",
      "        Depression  \n",
      "count  6099.000000  \n",
      "mean      0.408919  \n",
      "std       0.491675  \n",
      "min       0.000000  \n",
      "25%       0.000000  \n",
      "50%       0.000000  \n",
      "75%       1.000000  \n",
      "max       1.000000  \n"
     ]
    }
   ],
   "source": [
    "print(data.describe())"
   ]
  },
  {
   "cell_type": "code",
   "execution_count": 26,
   "id": "16a2c754-723a-4354-8fc8-caa0f1e87b89",
   "metadata": {},
   "outputs": [
    {
     "name": "stdout",
     "output_type": "stream",
     "text": [
      "id                                         int64\n",
      "Gender                                    object\n",
      "Age                                      float64\n",
      "City                                      object\n",
      "Profession                                object\n",
      "Academic Pressure                        float64\n",
      "Work Pressure                            float64\n",
      "CGPA                                     float64\n",
      "Study Satisfaction                       float64\n",
      "Job Satisfaction                         float64\n",
      "Sleep Duration                            object\n",
      "Dietary Habits                            object\n",
      "Degree                                    object\n",
      "Have you ever had suicidal thoughts ?     object\n",
      "Work/Study Hours                         float64\n",
      "Financial Stress                          object\n",
      "Family History of Mental Illness          object\n",
      "Depression                                 int64\n",
      "dtype: object\n"
     ]
    }
   ],
   "source": [
    "# get the data types of each column\n",
    "print(data.dtypes)"
   ]
  },
  {
   "cell_type": "code",
   "execution_count": 28,
   "id": "fb1bf972-3e17-4dee-9cf6-10a5d9e5325d",
   "metadata": {},
   "outputs": [
    {
     "name": "stdout",
     "output_type": "stream",
     "text": [
      "0       Visakhapatnam\n",
      "1            Srinagar\n",
      "2              Nashik\n",
      "3            Vadodara\n",
      "4           Ahmedabad\n",
      "            ...      \n",
      "6094           Nagpur\n",
      "6095           Rajkot\n",
      "6096        Ahmedabad\n",
      "6097          Lucknow\n",
      "6098        Faridabad\n",
      "Name: City, Length: 6099, dtype: object 0       33.0\n",
      "1       31.0\n",
      "2       31.0\n",
      "3       33.0\n",
      "4       31.0\n",
      "        ... \n",
      "6094    33.0\n",
      "6095    32.0\n",
      "6096    33.0\n",
      "6097    31.0\n",
      "6098    31.0\n",
      "Name: Age, Length: 6099, dtype: float64\n"
     ]
    }
   ],
   "source": [
    "# get specific column\n",
    "print(data[\"City\"], data[\"Age\"])"
   ]
  },
  {
   "cell_type": "code",
   "execution_count": 30,
   "id": "1c5be816-b37b-4545-992e-0c8b72e21b44",
   "metadata": {},
   "outputs": [
    {
     "name": "stdout",
     "output_type": "stream",
     "text": [
      "id                                                       208\n",
      "Gender                                                  Male\n",
      "Age                                                     33.0\n",
      "City                                                  Indore\n",
      "Profession                                           Student\n",
      "Academic Pressure                                        5.0\n",
      "Work Pressure                                            0.0\n",
      "CGPA                                                    5.74\n",
      "Study Satisfaction                                       2.0\n",
      "Job Satisfaction                                         0.0\n",
      "Sleep Duration                           'Less than 5 hours'\n",
      "Dietary Habits                                      Moderate\n",
      "Degree                                               M.Pharm\n",
      "Have you ever had suicidal thoughts ?                     No\n",
      "Work/Study Hours                                         8.0\n",
      "Financial Stress                                         3.0\n",
      "Family History of Mental Illness                         Yes\n",
      "Depression                                                 0\n",
      "Name: 5, dtype: object\n"
     ]
    }
   ],
   "source": [
    "# get specific row\n",
    "print(data.iloc[5])"
   ]
  },
  {
   "cell_type": "code",
   "execution_count": 32,
   "id": "09cdff02-6a3b-4c28-a840-886cb183cfdf",
   "metadata": {},
   "outputs": [
    {
     "name": "stdout",
     "output_type": "stream",
     "text": [
      "33.0\n"
     ]
    }
   ],
   "source": [
    "# get specific row and column\n",
    "\n",
    "print(data.iloc[5, 2])\n"
   ]
  },
  {
   "cell_type": "code",
   "execution_count": 34,
   "id": "ad941ec0-ead9-41ff-8dbe-16243b91f087",
   "metadata": {},
   "outputs": [],
   "source": [
    "# find the employee with  age is more than 30\n",
    "new_data = data[data[\"Age\"] > 30]\n",
    "\n",
    "# write the new data to a csv file\n",
    "new_data.to_csv(\"student_depression_dataset.csv\", index=False)"
   ]
  },
  {
   "cell_type": "code",
   "execution_count": 36,
   "id": "cc632a5a-2315-466e-9289-adf0ef44103e",
   "metadata": {},
   "outputs": [
    {
     "name": "stdout",
     "output_type": "stream",
     "text": [
      "id                                         int64\n",
      "Gender                                    object\n",
      "Age                                      float64\n",
      "City                                      object\n",
      "Profession                                object\n",
      "Academic Pressure                        float64\n",
      "Work Pressure                            float64\n",
      "CGPA                                     float64\n",
      "Study Satisfaction                       float64\n",
      "Job Satisfaction                         float64\n",
      "Sleep Duration                            object\n",
      "Dietary Habits                            object\n",
      "Degree                                    object\n",
      "Have you ever had suicidal thoughts ?     object\n",
      "Work/Study Hours                         float64\n",
      "Financial Stress                          object\n",
      "Family History of Mental Illness          object\n",
      "Depression                                 int64\n",
      "dtype: object\n"
     ]
    }
   ],
   "source": [
    "# check the data types of each column\n",
    "print(data.dtypes)"
   ]
  },
  {
   "cell_type": "code",
   "execution_count": 38,
   "id": "6486d75d-027c-4cab-91f2-e435e64cdfb1",
   "metadata": {},
   "outputs": [
    {
     "data": {
      "image/png": "[encoded data removed]",
      "text/plain": [
       "<Figure size 640x480 with 1 Axes>"
      ]
     },
     "metadata": {},
     "output_type": "display_data"
    }
   ],
   "source": [
    "#Date: 3 April 2025\n",
    "\n",
    "import matplotlib.pyplot as plt\n",
    "import numpy as np\n",
    "x = np.linspace(0, 2 * np.pi, 50)\n",
    "y = np.sin(x)\n",
    "plt.plot(x, y)\n",
    "plt.xlabel('X-axis')\n",
    "plt.ylabel('Y-axis')\n",
    "plt.title('Sine Wave')\n",
    "plt.show()"
   ]
  },
  {
   "cell_type": "code",
   "execution_count": 40,
   "id": "b2aa3cb9-b672-4df6-a6a3-e612f8de5966",
   "metadata": {},
   "outputs": [
    {
     "data": {
      "image/png": "[encoded data removed]",
      "text/plain": [
       "<Figure size 640x480 with 1 Axes>"
      ]
     },
     "metadata": {},
     "output_type": "display_data"
    }
   ],
   "source": [
    "import matplotlib.pyplot as plt\n",
    "import numpy as np\n",
    "x = np.random.rand(5)\n",
    "y = np.random.rand(5)\n",
    "plt.scatter(x, y)\n",
    "plt.xlabel('X-axis')\n",
    "plt.ylabel('Y-axis')\n",
    "plt.title('Scatter Plot')\n",
    "plt.show()"
   ]
  },
  {
   "cell_type": "code",
   "execution_count": 42,
   "id": "089c4f01-fe44-473d-b077-11aff916aa02",
   "metadata": {},
   "outputs": [
    {
     "data": {
      "image/png": "[encoded data removed]",
      "text/plain": [
       "<Figure size 640x480 with 1 Axes>"
      ]
     },
     "metadata": {},
     "output_type": "display_data"
    }
   ],
   "source": [
    "categories = ['Category A', 'Category B', 'Category C']\n",
    "values = [2, 5, 10]\n",
    "plt.bar(categories, values)\n",
    "plt.xlabel('Categories')\n",
    "plt.ylabel('Values')\n",
    "plt.title('Bar Plot')\n",
    "plt.show()"
   ]
  },
  {
   "cell_type": "code",
   "execution_count": 44,
   "id": "373d23b7-74f4-4d3d-9f16-52d45e0dca11",
   "metadata": {},
   "outputs": [
    {
     "data": {
      "image/png": "[encoded data removed]",
      "text/plain": [
       "<Figure size 640x480 with 1 Axes>"
      ]
     },
     "metadata": {},
     "output_type": "display_data"
    }
   ],
   "source": [
    "data = np.random.randn(1000)  # Generating random data\n",
    "plt.hist(data, bins=15, color='skyblue', edgecolor='black')\n",
    "plt.xlabel('Values')\n",
    "plt.ylabel('Frequency')\n",
    "plt.title('Histogram')\n",
    "plt.show()"
   ]
  },
  {
   "cell_type": "code",
   "execution_count": 46,
   "id": "0e850e11-52ea-499f-8683-a72f9356f305",
   "metadata": {},
   "outputs": [
    {
     "data": {
      "image/png": "[encoded data removed]",
      "text/plain": [
       "<Figure size 640x480 with 1 Axes>"
      ]
     },
     "metadata": {},
     "output_type": "display_data"
    }
   ],
   "source": [
    "labels = 'A', 'B', 'C', 'D'\n",
    "sizes = [2000, 100, 85, 5]\n",
    "colors = ['gold', 'yellowgreen', 'lightcoral', 'lightskyblue']\n",
    "plt.pie(sizes, labels=labels, colors=colors, autopct='%1.1f%%', shadow=True)\n",
    "plt.axis('equal')  # Equal aspect ratio ensures a circular pie\n",
    "plt.title('Pie Chart')\n",
    "plt.show()"
   ]
  },
  {
   "cell_type": "code",
   "execution_count": 48,
   "id": "d0e2e20b-268a-4c11-b502-ccb8b3efe37e",
   "metadata": {},
   "outputs": [
    {
     "data": {
      "image/png": "[encoded data removed]",
      "text/plain": [
       "<Figure size 640x480 with 1 Axes>"
      ]
     },
     "metadata": {},
     "output_type": "display_data"
    }
   ],
   "source": [
    "data = [np.random.normal(0, std, 50) for std in range(1, 4)]\n",
    "plt.boxplot(data, vert=True, patch_artist=True)\n",
    "plt.xlabel('Data Sets')\n",
    "plt.ylabel('Values')\n",
    "plt.title('Box Plot')\n",
    "plt.show()"
   ]
  },
  {
   "cell_type": "code",
   "execution_count": 50,
   "id": "f36d30f7-0a7c-4972-a7d1-3dd4ddd9a5d5",
   "metadata": {},
   "outputs": [
    {
     "data": {
      "image/png": "[encoded data removed]",
      "text/plain": [
       "<Figure size 640x480 with 2 Axes>"
      ]
     },
     "metadata": {},
     "output_type": "display_data"
    }
   ],
   "source": [
    "import matplotlib.pyplot as plt\n",
    "import numpy as np\n",
    "data = np.random.rand(50, 50)\n",
    "plt.imshow(data, cmap='viridis')\n",
    "plt.colorbar()\n",
    "plt.title('Heatmap')\n",
    "plt.show()"
   ]
  },
  {
   "cell_type": "code",
   "execution_count": 52,
   "id": "39251456-b7a6-4b71-87b4-027862040608",
   "metadata": {},
   "outputs": [],
   "source": [
    "#Date : 5 April 2025\n",
    "# numpy in python \n",
    "# https://cwpc.in/mastering-numpy-a-comprehensive-guide-codes-with-pankaj-178e191a9143"
   ]
  },
  {
   "cell_type": "code",
   "execution_count": 54,
   "id": "2db47259-0f7c-472c-ac58-5835d1af00b3",
   "metadata": {},
   "outputs": [
    {
     "name": "stdout",
     "output_type": "stream",
     "text": [
      "[20 21 22 23 24]\n"
     ]
    }
   ],
   "source": [
    "#inport numpy in python\n",
    "import numpy as np\n",
    "\n",
    "#create a numpy array in python\n",
    "a = np.array([20,21,22,23,24])\n",
    "print(a)"
   ]
  },
  {
   "cell_type": "code",
   "execution_count": 56,
   "id": "e8f61567-5559-4ea3-9328-efbd0f16a98a",
   "metadata": {},
   "outputs": [
    {
     "name": "stdout",
     "output_type": "stream",
     "text": [
      "20\n",
      "21\n"
     ]
    }
   ],
   "source": [
    "#access elements in numpy array in python\n",
    "print(a[0]) #first element\n",
    "print(a[1]) #second element"
   ]
  },
  {
   "cell_type": "code",
   "execution_count": 58,
   "id": "7b4e614b-a755-4e2d-a136-ebbae515b514",
   "metadata": {},
   "outputs": [
    {
     "name": "stdout",
     "output_type": "stream",
     "text": [
      "[200  21  22  23  24]\n"
     ]
    }
   ],
   "source": [
    "#modify elements in numpy array in python\n",
    "a[0] = 200\n",
    "print(a) #first element is modified to 200"
   ]
  },
  {
   "cell_type": "code",
   "execution_count": 60,
   "id": "c9b0e5a9-771e-4799-a18d-b370a1e97356",
   "metadata": {},
   "outputs": [
    {
     "name": "stdout",
     "output_type": "stream",
     "text": [
      "1.26.4\n"
     ]
    }
   ],
   "source": [
    "#checking version of numpy in python\n",
    "print(np.__version__) #print version of numpy"
   ]
  },
  {
   "cell_type": "code",
   "execution_count": 62,
   "id": "955bc940-f3a5-4c16-8ebe-44bf89f8d446",
   "metadata": {},
   "outputs": [
    {
     "name": "stdout",
     "output_type": "stream",
     "text": [
      "[[0. 0. 0. 0.]\n",
      " [0. 0. 0. 0.]\n",
      " [0. 0. 0. 0.]\n",
      " [0. 0. 0. 0.]]\n"
     ]
    }
   ],
   "source": [
    "#create a numpy array with zeros in python\n",
    "a = np.zeros ((4,4)) # 4 rows and 4 columns\n",
    "print(a) #print 2d numpy array\n"
   ]
  },
  {
   "cell_type": "code",
   "execution_count": 64,
   "id": "9dc7a742-b419-49c9-a35b-45821bea4740",
   "metadata": {},
   "outputs": [
    {
     "name": "stdout",
     "output_type": "stream",
     "text": [
      "[[20 21 22 23]\n",
      " [24 25 26 27]\n",
      " [28 29 30 31]]\n"
     ]
    }
   ],
   "source": [
    "# create 2d numpy array in python\n",
    "a = np.array([[20,21,22,23],[24,25,26,27],[28,29,30,31]]) # 4 rows and 4 columns\n",
    "print(a) # print 2d numpy array   "
   ]
  },
  {
   "cell_type": "code",
   "execution_count": 66,
   "id": "23e575ef-d4d1-494b-abf3-0224993f48fe",
   "metadata": {},
   "outputs": [
    {
     "name": "stdout",
     "output_type": "stream",
     "text": [
      "[[[20 21 22 23]\n",
      "  [24 25 26 27]\n",
      "  [28 29 30 31]]]\n",
      "(1, 3, 4)\n"
     ]
    }
   ],
   "source": [
    "#create a 3d numpy array in python\n",
    "a = np.array([[[20,21,22,23],[24,25,26,27],[28,29,30,31]]]) # 4 layers, 4 rows and 4 columns\n",
    "\n",
    "print(a) #print 3d numpy array\n",
    "print(a.shape) # print shape of 3d numpy array"
   ]
  },
  {
   "cell_type": "code",
   "execution_count": 68,
   "id": "65b02ba0-b9e8-42bf-a935-252bfcef4901",
   "metadata": {},
   "outputs": [
    {
     "name": "stdout",
     "output_type": "stream",
     "text": [
      "3\n"
     ]
    }
   ],
   "source": [
    "#check the demensions of numpy array in python\n",
    "print(a.ndim) #print number of dimensions of numpy array"
   ]
  },
  {
   "cell_type": "code",
   "execution_count": 70,
   "id": "4fea44c8-a71f-4430-8804-c4d24fb58abb",
   "metadata": {},
   "outputs": [
    {
     "name": "stdout",
     "output_type": "stream",
     "text": [
      "[[[20 21 22 23]\n",
      "  [24 25 26 27]\n",
      "  [28 29 30 31]]]\n",
      "(1, 3, 4)\n"
     ]
    }
   ],
   "source": [
    "#Higher- Dimensional Arrays \n",
    "#create a 4d numpy array in python\n",
    "a = np.array([[[20,21,22,23],[24,25,26,27],[28,29,30,31]]]) # 4 layer, 4 rows and 4 columns\n",
    "print(a) #print 4d numpy array\n",
    "print(a.shape) #print shape of 4d numpy array"
   ]
  },
  {
   "cell_type": "code",
   "execution_count": 72,
   "id": "69299f4a-20df-46f0-8ef3-51d6038abca4",
   "metadata": {},
   "outputs": [
    {
     "name": "stdout",
     "output_type": "stream",
     "text": [
      "[20. 24. 28. 32.]\n"
     ]
    }
   ],
   "source": [
    "#Ellipsis (...) Indexing\n",
    "arr_3d = np.array([[20,21,22,23],[24,25,26,27],[28,29,30,31],[32,33,34,.35]])\n",
    "print(arr_3d[...,0]) #Access the first element along the third dimension ([1,3],[5,7]])"
   ]
  },
  {
   "cell_type": "code",
   "execution_count": 74,
   "id": "0eb94303-fa45-4ab0-9213-fa5ee1268441",
   "metadata": {},
   "outputs": [],
   "source": [
    "#Date:8 April 2025"
   ]
  },
  {
   "cell_type": "code",
   "execution_count": 76,
   "id": "57628ea3-433a-45f5-87d0-4c0a982d9340",
   "metadata": {},
   "outputs": [
    {
     "name": "stdout",
     "output_type": "stream",
     "text": [
      "112\n"
     ]
    }
   ],
   "source": [
    "from numpy import random\n",
    "\n",
    "x = random.randint(200)\n",
    "print(x)"
   ]
  },
  {
   "cell_type": "code",
   "execution_count": 78,
   "id": "388de836-7bda-4ed3-80a1-ecea4da40eb7",
   "metadata": {},
   "outputs": [
    {
     "name": "stdout",
     "output_type": "stream",
     "text": [
      "0.7179096107590844\n"
     ]
    }
   ],
   "source": [
    "from numpy import random  \n",
    "\n",
    "x = random.rand()\n",
    "print(x)"
   ]
  },
  {
   "cell_type": "code",
   "execution_count": 80,
   "id": "28deba88-5109-482c-92a4-110f00066c6a",
   "metadata": {},
   "outputs": [
    {
     "name": "stdout",
     "output_type": "stream",
     "text": [
      "[33 55 49 55 36]\n"
     ]
    }
   ],
   "source": [
    "from numpy import random\n",
    "\n",
    "x = random.randint(100, size=(5))\n",
    "print(x)"
   ]
  },
  {
   "cell_type": "code",
   "execution_count": 82,
   "id": "5f88ecbe-630c-4542-a9ba-52367deec324",
   "metadata": {},
   "outputs": [
    {
     "name": "stdout",
     "output_type": "stream",
     "text": [
      "[[153  85  48  63 152]\n",
      " [ 14  75 194  11 125]\n",
      " [ 91 160 144  90  37]]\n"
     ]
    }
   ],
   "source": [
    "from numpy import random\n",
    "\n",
    "x = random.randint(200, size=(3, 5))\n",
    "print(x)"
   ]
  },
  {
   "cell_type": "code",
   "execution_count": 84,
   "id": "80d720be-a848-4b65-96d3-f631d738eade",
   "metadata": {},
   "outputs": [
    {
     "name": "stdout",
     "output_type": "stream",
     "text": [
      "[0.08319921 0.80288312 0.23562442 0.4544599  0.23077502]\n"
     ]
    }
   ],
   "source": [
    "from numpy import random\n",
    "\n",
    "x = random.rand(5)\n",
    "print(x)"
   ]
  },
  {
   "cell_type": "code",
   "execution_count": 86,
   "id": "1567887c-4405-4998-bfa0-ee2fcea734e1",
   "metadata": {},
   "outputs": [
    {
     "name": "stdout",
     "output_type": "stream",
     "text": [
      "[[0.78548362 0.95189102 0.69203995 0.8362229  0.28766002]\n",
      " [0.40492269 0.07813422 0.32615371 0.60882786 0.03895034]\n",
      " [0.52481849 0.84028297 0.61812436 0.86074003 0.60417832]]\n"
     ]
    }
   ],
   "source": [
    "from numpy import random\n",
    "\n",
    "x = random.rand(3, 5)\n",
    "print(x)"
   ]
  },
  {
   "cell_type": "code",
   "execution_count": 88,
   "id": "705e5a56-d869-4e95-9841-f911243bde96",
   "metadata": {},
   "outputs": [
    {
     "name": "stdout",
     "output_type": "stream",
     "text": [
      "9\n"
     ]
    }
   ],
   "source": [
    "from numpy import random\n",
    "\n",
    "x = random.choice([3, 5, 7, 9])\n",
    "print(x)"
   ]
  },
  {
   "cell_type": "code",
   "execution_count": 90,
   "id": "f760ef8b-fc60-4492-bd2f-2cae218f46af",
   "metadata": {},
   "outputs": [
    {
     "name": "stdout",
     "output_type": "stream",
     "text": [
      "[[9 3 5 9 9]\n",
      " [9 3 3 3 7]\n",
      " [5 7 9 5 5]]\n"
     ]
    }
   ],
   "source": [
    "from numpy import random\n",
    "\n",
    "x = random.choice([3, 5, 7, 9], size=(3, 5))\n",
    "print(x)"
   ]
  },
  {
   "cell_type": "code",
   "execution_count": 92,
   "id": "6a3db41c-615a-4986-acaf-46c523db2a09",
   "metadata": {},
   "outputs": [
    {
     "name": "stdout",
     "output_type": "stream",
     "text": [
      "[7 7 7 7 7 5 7 7 3 7 5 7 5 7 7 7 7 7 7 7 7 7 7 5 7 7 7 7 7 7 7 3 7 3 5 7 5\n",
      " 5 5 7 5 7 3 5 7 3 7 3 5 3 3 5 7 3 7 7 7 5 7 3 3 7 5 5 7 5 5 7 7 5 7 7 7 7\n",
      " 7 7 7 5 5 7 3 5 7 7 7 5 7 5 7 5 7 7 3 7 7 7 3 7 7 3]\n"
     ]
    }
   ],
   "source": [
    "from numpy import random\n",
    "\n",
    "# Define values and their probabilities\n",
    "values = [3, 5, 7, 9]\n",
    "probabilities = [0.1, 0.3, 0.6, 0.0]\n",
    "\n",
    "# Generate a 1-D array with 100 values based on probabilities\n",
    "x = random.choice(values, p=probabilities, size=(100))\n",
    "\n",
    "print(x)"
   ]
  },
  {
   "cell_type": "code",
   "execution_count": 94,
   "id": "1440ea9e-c63c-4aa9-bf1d-fa619f1a16d8",
   "metadata": {},
   "outputs": [
    {
     "name": "stdout",
     "output_type": "stream",
     "text": [
      "[[5 7 5 7 7]\n",
      " [5 5 5 7 5]\n",
      " [7 5 5 7 7]]\n"
     ]
    }
   ],
   "source": [
    "from numpy import random\n",
    "\n",
    "# Define values and their probabilities\n",
    "values = [3, 5, 7, 9]\n",
    "probabilities = [0.1, 0.3, 0.6, 0.0]\n",
    "\n",
    "# Generate a 2-D array with 3 rows and 5 columns based on probabilities\n",
    "x = random.choice(values, p=probabilities, size=(3, 5))\n",
    "\n",
    "print(x)"
   ]
  },
  {
   "cell_type": "code",
   "execution_count": 96,
   "id": "ba8673e5-b914-49b6-81f5-21e84e9a5f91",
   "metadata": {},
   "outputs": [
    {
     "name": "stdout",
     "output_type": "stream",
     "text": [
      "[2 1 3 5 4]\n"
     ]
    }
   ],
   "source": [
    "from numpy import random\n",
    "import numpy as np\n",
    "\n",
    "# Create an array\n",
    "arr = np.array([1, 2, 3, 4, 5])\n",
    "\n",
    "# Shuffle the array in-place\n",
    "random.shuffle(arr)\n",
    "\n",
    "# Print the shuffled array\n",
    "print(arr)"
   ]
  },
  {
   "cell_type": "code",
   "execution_count": 98,
   "id": "3b8dd3af-13a8-4a8c-8a74-aa358486838c",
   "metadata": {},
   "outputs": [
    {
     "name": "stdout",
     "output_type": "stream",
     "text": [
      "[4 5 1 2 3]\n"
     ]
    }
   ],
   "source": [
    "from numpy import random\n",
    "import numpy as np\n",
    "\n",
    "# Create an array\n",
    "arr = np.array([1, 2, 3, 4, 5])\n",
    "\n",
    "# Generate a random permutation of the array\n",
    "permuted_arr = random.permutation(arr)\n",
    "\n",
    "# Print the random permutation\n",
    "print(permuted_arr)"
   ]
  },
  {
   "cell_type": "code",
   "execution_count": 100,
   "id": "95c7b592-55bc-425a-8627-af4b77f95ec5",
   "metadata": {},
   "outputs": [],
   "source": [
    "# scikit-learn in python\n",
    "# https://scikit-learn.org/stable/"
   ]
  },
  {
   "cell_type": "code",
   "execution_count": 2,
   "id": "cbbbba84-3006-4fa6-8f12-3d009bcd468e",
   "metadata": {},
   "outputs": [
    {
     "name": "stdout",
     "output_type": "stream",
     "text": [
      "Defaulting to user installation because normal site-packages is not writeable\n",
      "Requirement already satisfied: scikit-learn in c:\\users\\programming\\appdata\\roaming\\python\\python312\\site-packages (1.6.1)\n",
      "Requirement already satisfied: numpy>=1.19.5 in c:\\users\\programming\\appdata\\roaming\\python\\python312\\site-packages (from scikit-learn) (1.26.4)\n",
      "Requirement already satisfied: scipy>=1.6.0 in c:\\programdata\\anaconda3\\lib\\site-packages (from scikit-learn) (1.13.1)\n",
      "Requirement already satisfied: joblib>=1.2.0 in c:\\programdata\\anaconda3\\lib\\site-packages (from scikit-learn) (1.4.2)\n",
      "Requirement already satisfied: threadpoolctl>=3.1.0 in c:\\programdata\\anaconda3\\lib\\site-packages (from scikit-learn) (3.5.0)\n",
      "Note: you may need to restart the kernel to use updated packages.\n"
     ]
    },
    {
     "name": "stderr",
     "output_type": "stream",
     "text": [
      "\n",
      "[notice] A new release of pip is available: 24.3.1 -> 25.0.1\n",
      "[notice] To update, run: python.exe -m pip install --upgrade pip\n"
     ]
    }
   ],
   "source": [
    "# installation\n",
    "%pip install -U scikit-learn"
   ]
  },
  {
   "cell_type": "code",
   "execution_count": 4,
   "id": "2679a677-2818-405b-ad7d-4adf77601c5a",
   "metadata": {},
   "outputs": [],
   "source": [
    "# import libraries\n",
    "\n",
    "from sklearn.linear_model import LogisticRegression # this is a prediction model\n",
    "import numpy as np"
   ]
  },
  {
   "cell_type": "code",
   "execution_count": 6,
   "id": "cd505ec6-5ff5-4c96-a047-f83206ae132b",
   "metadata": {},
   "outputs": [],
   "source": [
    "# logistic regression model is a tool that guesses Yes / No answer (Like pass / fail)\n",
    "# numpy is a library that helps us to work with arrays and matrices"
   ]
  },
  {
   "cell_type": "code",
   "execution_count": 8,
   "id": "cf922c23-f5a2-456b-806e-a304e527eb56",
   "metadata": {},
   "outputs": [],
   "source": [
    "# hours studied and whether the student passed or failed\n",
    "# create a dataset\n",
    "\n",
    "hours_studied = np.array([[1], [2], [3], [4], [5],[6]])\n",
    "# 0 = fail, 1 = pass\n",
    "pass_or_fail = np.array([0,0,0,1,1,1])"
   ]
  },
  {
   "cell_type": "code",
   "execution_count": 10,
   "id": "ae510a1d-9c45-48c8-bc12-fe9f0ba6a473",
   "metadata": {},
   "outputs": [
    {
     "data": {
      "text/html": [
       "<style>#sk-container-id-1 {\n",
       "  /* Definition of color scheme common for light and dark mode */\n",
       "  --sklearn-color-text: #000;\n",
       "  --sklearn-color-text-muted: #666;\n",
       "  --sklearn-color-line: gray;\n",
       "  /* Definition of color scheme for unfitted estimators */\n",
       "  --sklearn-color-unfitted-level-0: #fff5e6;\n",
       "  --sklearn-color-unfitted-level-1: #f6e4d2;\n",
       "  --sklearn-color-unfitted-level-2: #ffe0b3;\n",
       "  --sklearn-color-unfitted-level-3: chocolate;\n",
       "  /* Definition of color scheme for fitted estimators */\n",
       "  --sklearn-color-fitted-level-0: #f0f8ff;\n",
       "  --sklearn-color-fitted-level-1: #d4ebff;\n",
       "  --sklearn-color-fitted-level-2: #b3dbfd;\n",
       "  --sklearn-color-fitted-level-3: cornflowerblue;\n",
       "\n",
       "  /* Specific color for light theme */\n",
       "  --sklearn-color-text-on-default-background: var(--sg-text-color, var(--theme-code-foreground, var(--jp-content-font-color1, black)));\n",
       "  --sklearn-color-background: var(--sg-background-color, var(--theme-background, var(--jp-layout-color0, white)));\n",
       "  --sklearn-color-border-box: var(--sg-text-color, var(--theme-code-foreground, var(--jp-content-font-color1, black)));\n",
       "  --sklearn-color-icon: #696969;\n",
       "\n",
       "  @media (prefers-color-scheme: dark) {\n",
       "    /* Redefinition of color scheme for dark theme */\n",
       "    --sklearn-color-text-on-default-background: var(--sg-text-color, var(--theme-code-foreground, var(--jp-content-font-color1, white)));\n",
       "    --sklearn-color-background: var(--sg-background-color, var(--theme-background, var(--jp-layout-color0, #111)));\n",
       "    --sklearn-color-border-box: var(--sg-text-color, var(--theme-code-foreground, var(--jp-content-font-color1, white)));\n",
       "    --sklearn-color-icon: #878787;\n",
       "  }\n",
       "}\n",
       "\n",
       "#sk-container-id-1 {\n",
       "  color: var(--sklearn-color-text);\n",
       "}\n",
       "\n",
       "#sk-container-id-1 pre {\n",
       "  padding: 0;\n",
       "}\n",
       "\n",
       "#sk-container-id-1 input.sk-hidden--visually {\n",
       "  border: 0;\n",
       "  clip: rect(1px 1px 1px 1px);\n",
       "  clip: rect(1px, 1px, 1px, 1px);\n",
       "  height: 1px;\n",
       "  margin: -1px;\n",
       "  overflow: hidden;\n",
       "  padding: 0;\n",
       "  position: absolute;\n",
       "  width: 1px;\n",
       "}\n",
       "\n",
       "#sk-container-id-1 div.sk-dashed-wrapped {\n",
       "  border: 1px dashed var(--sklearn-color-line);\n",
       "  margin: 0 0.4em 0.5em 0.4em;\n",
       "  box-sizing: border-box;\n",
       "  padding-bottom: 0.4em;\n",
       "  background-color: var(--sklearn-color-background);\n",
       "}\n",
       "\n",
       "#sk-container-id-1 div.sk-container {\n",
       "  /* jupyter's `normalize.less` sets `[hidden] { display: none; }`\n",
       "     but bootstrap.min.css set `[hidden] { display: none !important; }`\n",
       "     so we also need the `!important` here to be able to override the\n",
       "     default hidden behavior on the sphinx rendered scikit-learn.org.\n",
       "     See: https://github.com/scikit-learn/scikit-learn/issues/21755 */\n",
       "  display: inline-block !important;\n",
       "  position: relative;\n",
       "}\n",
       "\n",
       "#sk-container-id-1 div.sk-text-repr-fallback {\n",
       "  display: none;\n",
       "}\n",
       "\n",
       "div.sk-parallel-item,\n",
       "div.sk-serial,\n",
       "div.sk-item {\n",
       "  /* draw centered vertical line to link estimators */\n",
       "  background-image: linear-gradient(var(--sklearn-color-text-on-default-background), var(--sklearn-color-text-on-default-background));\n",
       "  background-size: 2px 100%;\n",
       "  background-repeat: no-repeat;\n",
       "  background-position: center center;\n",
       "}\n",
       "\n",
       "/* Parallel-specific style estimator block */\n",
       "\n",
       "#sk-container-id-1 div.sk-parallel-item::after {\n",
       "  content: \"\";\n",
       "  width: 100%;\n",
       "  border-bottom: 2px solid var(--sklearn-color-text-on-default-background);\n",
       "  flex-grow: 1;\n",
       "}\n",
       "\n",
       "#sk-container-id-1 div.sk-parallel {\n",
       "  display: flex;\n",
       "  align-items: stretch;\n",
       "  justify-content: center;\n",
       "  background-color: var(--sklearn-color-background);\n",
       "  position: relative;\n",
       "}\n",
       "\n",
       "#sk-container-id-1 div.sk-parallel-item {\n",
       "  display: flex;\n",
       "  flex-direction: column;\n",
       "}\n",
       "\n",
       "#sk-container-id-1 div.sk-parallel-item:first-child::after {\n",
       "  align-self: flex-end;\n",
       "  width: 50%;\n",
       "}\n",
       "\n",
       "#sk-container-id-1 div.sk-parallel-item:last-child::after {\n",
       "  align-self: flex-start;\n",
       "  width: 50%;\n",
       "}\n",
       "\n",
       "#sk-container-id-1 div.sk-parallel-item:only-child::after {\n",
       "  width: 0;\n",
       "}\n",
       "\n",
       "/* Serial-specific style estimator block */\n",
       "\n",
       "#sk-container-id-1 div.sk-serial {\n",
       "  display: flex;\n",
       "  flex-direction: column;\n",
       "  align-items: center;\n",
       "  background-color: var(--sklearn-color-background);\n",
       "  padding-right: 1em;\n",
       "  padding-left: 1em;\n",
       "}\n",
       "\n",
       "\n",
       "/* Toggleable style: style used for estimator/Pipeline/ColumnTransformer box that is\n",
       "clickable and can be expanded/collapsed.\n",
       "- Pipeline and ColumnTransformer use this feature and define the default style\n",
       "- Estimators will overwrite some part of the style using the `sk-estimator` class\n",
       "*/\n",
       "\n",
       "/* Pipeline and ColumnTransformer style (default) */\n",
       "\n",
       "#sk-container-id-1 div.sk-toggleable {\n",
       "  /* Default theme specific background. It is overwritten whether we have a\n",
       "  specific estimator or a Pipeline/ColumnTransformer */\n",
       "  background-color: var(--sklearn-color-background);\n",
       "}\n",
       "\n",
       "/* Toggleable label */\n",
       "#sk-container-id-1 label.sk-toggleable__label {\n",
       "  cursor: pointer;\n",
       "  display: flex;\n",
       "  width: 100%;\n",
       "  margin-bottom: 0;\n",
       "  padding: 0.5em;\n",
       "  box-sizing: border-box;\n",
       "  text-align: center;\n",
       "  align-items: start;\n",
       "  justify-content: space-between;\n",
       "  gap: 0.5em;\n",
       "}\n",
       "\n",
       "#sk-container-id-1 label.sk-toggleable__label .caption {\n",
       "  font-size: 0.6rem;\n",
       "  font-weight: lighter;\n",
       "  color: var(--sklearn-color-text-muted);\n",
       "}\n",
       "\n",
       "#sk-container-id-1 label.sk-toggleable__label-arrow:before {\n",
       "  /* Arrow on the left of the label */\n",
       "  content: \"▸\";\n",
       "  float: left;\n",
       "  margin-right: 0.25em;\n",
       "  color: var(--sklearn-color-icon);\n",
       "}\n",
       "\n",
       "#sk-container-id-1 label.sk-toggleable__label-arrow:hover:before {\n",
       "  color: var(--sklearn-color-text);\n",
       "}\n",
       "\n",
       "/* Toggleable content - dropdown */\n",
       "\n",
       "#sk-container-id-1 div.sk-toggleable__content {\n",
       "  max-height: 0;\n",
       "  max-width: 0;\n",
       "  overflow: hidden;\n",
       "  text-align: left;\n",
       "  /* unfitted */\n",
       "  background-color: var(--sklearn-color-unfitted-level-0);\n",
       "}\n",
       "\n",
       "#sk-container-id-1 div.sk-toggleable__content.fitted {\n",
       "  /* fitted */\n",
       "  background-color: var(--sklearn-color-fitted-level-0);\n",
       "}\n",
       "\n",
       "#sk-container-id-1 div.sk-toggleable__content pre {\n",
       "  margin: 0.2em;\n",
       "  border-radius: 0.25em;\n",
       "  color: var(--sklearn-color-text);\n",
       "  /* unfitted */\n",
       "  background-color: var(--sklearn-color-unfitted-level-0);\n",
       "}\n",
       "\n",
       "#sk-container-id-1 div.sk-toggleable__content.fitted pre {\n",
       "  /* unfitted */\n",
       "  background-color: var(--sklearn-color-fitted-level-0);\n",
       "}\n",
       "\n",
       "#sk-container-id-1 input.sk-toggleable__control:checked~div.sk-toggleable__content {\n",
       "  /* Expand drop-down */\n",
       "  max-height: 200px;\n",
       "  max-width: 100%;\n",
       "  overflow: auto;\n",
       "}\n",
       "\n",
       "#sk-container-id-1 input.sk-toggleable__control:checked~label.sk-toggleable__label-arrow:before {\n",
       "  content: \"▾\";\n",
       "}\n",
       "\n",
       "/* Pipeline/ColumnTransformer-specific style */\n",
       "\n",
       "#sk-container-id-1 div.sk-label input.sk-toggleable__control:checked~label.sk-toggleable__label {\n",
       "  color: var(--sklearn-color-text);\n",
       "  background-color: var(--sklearn-color-unfitted-level-2);\n",
       "}\n",
       "\n",
       "#sk-container-id-1 div.sk-label.fitted input.sk-toggleable__control:checked~label.sk-toggleable__label {\n",
       "  background-color: var(--sklearn-color-fitted-level-2);\n",
       "}\n",
       "\n",
       "/* Estimator-specific style */\n",
       "\n",
       "/* Colorize estimator box */\n",
       "#sk-container-id-1 div.sk-estimator input.sk-toggleable__control:checked~label.sk-toggleable__label {\n",
       "  /* unfitted */\n",
       "  background-color: var(--sklearn-color-unfitted-level-2);\n",
       "}\n",
       "\n",
       "#sk-container-id-1 div.sk-estimator.fitted input.sk-toggleable__control:checked~label.sk-toggleable__label {\n",
       "  /* fitted */\n",
       "  background-color: var(--sklearn-color-fitted-level-2);\n",
       "}\n",
       "\n",
       "#sk-container-id-1 div.sk-label label.sk-toggleable__label,\n",
       "#sk-container-id-1 div.sk-label label {\n",
       "  /* The background is the default theme color */\n",
       "  color: var(--sklearn-color-text-on-default-background);\n",
       "}\n",
       "\n",
       "/* On hover, darken the color of the background */\n",
       "#sk-container-id-1 div.sk-label:hover label.sk-toggleable__label {\n",
       "  color: var(--sklearn-color-text);\n",
       "  background-color: var(--sklearn-color-unfitted-level-2);\n",
       "}\n",
       "\n",
       "/* Label box, darken color on hover, fitted */\n",
       "#sk-container-id-1 div.sk-label.fitted:hover label.sk-toggleable__label.fitted {\n",
       "  color: var(--sklearn-color-text);\n",
       "  background-color: var(--sklearn-color-fitted-level-2);\n",
       "}\n",
       "\n",
       "/* Estimator label */\n",
       "\n",
       "#sk-container-id-1 div.sk-label label {\n",
       "  font-family: monospace;\n",
       "  font-weight: bold;\n",
       "  display: inline-block;\n",
       "  line-height: 1.2em;\n",
       "}\n",
       "\n",
       "#sk-container-id-1 div.sk-label-container {\n",
       "  text-align: center;\n",
       "}\n",
       "\n",
       "/* Estimator-specific */\n",
       "#sk-container-id-1 div.sk-estimator {\n",
       "  font-family: monospace;\n",
       "  border: 1px dotted var(--sklearn-color-border-box);\n",
       "  border-radius: 0.25em;\n",
       "  box-sizing: border-box;\n",
       "  margin-bottom: 0.5em;\n",
       "  /* unfitted */\n",
       "  background-color: var(--sklearn-color-unfitted-level-0);\n",
       "}\n",
       "\n",
       "#sk-container-id-1 div.sk-estimator.fitted {\n",
       "  /* fitted */\n",
       "  background-color: var(--sklearn-color-fitted-level-0);\n",
       "}\n",
       "\n",
       "/* on hover */\n",
       "#sk-container-id-1 div.sk-estimator:hover {\n",
       "  /* unfitted */\n",
       "  background-color: var(--sklearn-color-unfitted-level-2);\n",
       "}\n",
       "\n",
       "#sk-container-id-1 div.sk-estimator.fitted:hover {\n",
       "  /* fitted */\n",
       "  background-color: var(--sklearn-color-fitted-level-2);\n",
       "}\n",
       "\n",
       "/* Specification for estimator info (e.g. \"i\" and \"?\") */\n",
       "\n",
       "/* Common style for \"i\" and \"?\" */\n",
       "\n",
       ".sk-estimator-doc-link,\n",
       "a:link.sk-estimator-doc-link,\n",
       "a:visited.sk-estimator-doc-link {\n",
       "  float: right;\n",
       "  font-size: smaller;\n",
       "  line-height: 1em;\n",
       "  font-family: monospace;\n",
       "  background-color: var(--sklearn-color-background);\n",
       "  border-radius: 1em;\n",
       "  height: 1em;\n",
       "  width: 1em;\n",
       "  text-decoration: none !important;\n",
       "  margin-left: 0.5em;\n",
       "  text-align: center;\n",
       "  /* unfitted */\n",
       "  border: var(--sklearn-color-unfitted-level-1) 1pt solid;\n",
       "  color: var(--sklearn-color-unfitted-level-1);\n",
       "}\n",
       "\n",
       ".sk-estimator-doc-link.fitted,\n",
       "a:link.sk-estimator-doc-link.fitted,\n",
       "a:visited.sk-estimator-doc-link.fitted {\n",
       "  /* fitted */\n",
       "  border: var(--sklearn-color-fitted-level-1) 1pt solid;\n",
       "  color: var(--sklearn-color-fitted-level-1);\n",
       "}\n",
       "\n",
       "/* On hover */\n",
       "div.sk-estimator:hover .sk-estimator-doc-link:hover,\n",
       ".sk-estimator-doc-link:hover,\n",
       "div.sk-label-container:hover .sk-estimator-doc-link:hover,\n",
       ".sk-estimator-doc-link:hover {\n",
       "  /* unfitted */\n",
       "  background-color: var(--sklearn-color-unfitted-level-3);\n",
       "  color: var(--sklearn-color-background);\n",
       "  text-decoration: none;\n",
       "}\n",
       "\n",
       "div.sk-estimator.fitted:hover .sk-estimator-doc-link.fitted:hover,\n",
       ".sk-estimator-doc-link.fitted:hover,\n",
       "div.sk-label-container:hover .sk-estimator-doc-link.fitted:hover,\n",
       ".sk-estimator-doc-link.fitted:hover {\n",
       "  /* fitted */\n",
       "  background-color: var(--sklearn-color-fitted-level-3);\n",
       "  color: var(--sklearn-color-background);\n",
       "  text-decoration: none;\n",
       "}\n",
       "\n",
       "/* Span, style for the box shown on hovering the info icon */\n",
       ".sk-estimator-doc-link span {\n",
       "  display: none;\n",
       "  z-index: 9999;\n",
       "  position: relative;\n",
       "  font-weight: normal;\n",
       "  right: .2ex;\n",
       "  padding: .5ex;\n",
       "  margin: .5ex;\n",
       "  width: min-content;\n",
       "  min-width: 20ex;\n",
       "  max-width: 50ex;\n",
       "  color: var(--sklearn-color-text);\n",
       "  box-shadow: 2pt 2pt 4pt #999;\n",
       "  /* unfitted */\n",
       "  background: var(--sklearn-color-unfitted-level-0);\n",
       "  border: .5pt solid var(--sklearn-color-unfitted-level-3);\n",
       "}\n",
       "\n",
       ".sk-estimator-doc-link.fitted span {\n",
       "  /* fitted */\n",
       "  background: var(--sklearn-color-fitted-level-0);\n",
       "  border: var(--sklearn-color-fitted-level-3);\n",
       "}\n",
       "\n",
       ".sk-estimator-doc-link:hover span {\n",
       "  display: block;\n",
       "}\n",
       "\n",
       "/* \"?\"-specific style due to the `<a>` HTML tag */\n",
       "\n",
       "#sk-container-id-1 a.estimator_doc_link {\n",
       "  float: right;\n",
       "  font-size: 1rem;\n",
       "  line-height: 1em;\n",
       "  font-family: monospace;\n",
       "  background-color: var(--sklearn-color-background);\n",
       "  border-radius: 1rem;\n",
       "  height: 1rem;\n",
       "  width: 1rem;\n",
       "  text-decoration: none;\n",
       "  /* unfitted */\n",
       "  color: var(--sklearn-color-unfitted-level-1);\n",
       "  border: var(--sklearn-color-unfitted-level-1) 1pt solid;\n",
       "}\n",
       "\n",
       "#sk-container-id-1 a.estimator_doc_link.fitted {\n",
       "  /* fitted */\n",
       "  border: var(--sklearn-color-fitted-level-1) 1pt solid;\n",
       "  color: var(--sklearn-color-fitted-level-1);\n",
       "}\n",
       "\n",
       "/* On hover */\n",
       "#sk-container-id-1 a.estimator_doc_link:hover {\n",
       "  /* unfitted */\n",
       "  background-color: var(--sklearn-color-unfitted-level-3);\n",
       "  color: var(--sklearn-color-background);\n",
       "  text-decoration: none;\n",
       "}\n",
       "\n",
       "#sk-container-id-1 a.estimator_doc_link.fitted:hover {\n",
       "  /* fitted */\n",
       "  background-color: var(--sklearn-color-fitted-level-3);\n",
       "}\n",
       "</style><div id=\"sk-container-id-1\" class=\"sk-top-container\"><div class=\"sk-text-repr-fallback\"><pre>LogisticRegression()</pre><b>In a Jupyter environment, please rerun this cell to show the HTML representation or trust the notebook. <br />On GitHub, the HTML representation is unable to render, please try loading this page with nbviewer.org.</b></div><div class=\"sk-container\" hidden><div class=\"sk-item\"><div class=\"sk-estimator fitted sk-toggleable\"><input class=\"sk-toggleable__control sk-hidden--visually\" id=\"sk-estimator-id-1\" type=\"checkbox\" checked><label for=\"sk-estimator-id-1\" class=\"sk-toggleable__label fitted sk-toggleable__label-arrow\"><div><div>LogisticRegression</div></div><div><a class=\"sk-estimator-doc-link fitted\" rel=\"noreferrer\" target=\"_blank\" href=\"https://scikit-learn.org/1.6/modules/generated/sklearn.linear_model.LogisticRegression.html\">?<span>Documentation for LogisticRegression</span></a><span class=\"sk-estimator-doc-link fitted\">i<span>Fitted</span></span></div></label><div class=\"sk-toggleable__content fitted\"><pre>LogisticRegression()</pre></div> </div></div></div></div>"
      ],
      "text/plain": [
       "LogisticRegression()"
      ]
     },
     "execution_count": 10,
     "metadata": {},
     "output_type": "execute_result"
    }
   ],
   "source": [
    "# create a model\n",
    "model = LogisticRegression()\n",
    "# fit the model with data\n",
    "model.fit(hours_studied, pass_or_fail)"
   ]
  },
  {
   "cell_type": "code",
   "execution_count": 12,
   "id": "7811bee6-01ec-47e3-aafe-0b187b1f72d4",
   "metadata": {},
   "outputs": [
    {
     "name": "stdout",
     "output_type": "stream",
     "text": [
      "Prediction for 2.5 hours studied: fail\n"
     ]
    }
   ],
   "source": [
    "# predict the for 2.5 hours studied\n",
    "new_hours = np.array([[2.5]])\n",
    "# use the model to predict the outcome\n",
    "prediction =model.predict(new_hours)\n",
    "print(\"Prediction for 2.5 hours studied:\", \"pass\" if prediction[0] == 1 else \"fail\")"
   ]
  },
  {
   "cell_type": "code",
   "execution_count": 14,
   "id": "c7f327a3-ea13-4941-8513-2dd4b7d17793",
   "metadata": {},
   "outputs": [
    {
     "name": "stdout",
     "output_type": "stream",
     "text": [
      "Hours Studied: [1 2 3 4 5 6]\n",
      "Actual Pass/Fail: [0 0 0 1 1 1]\n",
      "Predicted Pass/Fail: [0 0 0 1 1 1]\n"
     ]
    }
   ],
   "source": [
    "# check all predictions\n",
    "predictions = model.predict(hours_studied)\n",
    "print(\"Hours Studied:\", hours_studied.flatten())\n",
    "print(\"Actual Pass/Fail:\", pass_or_fail)\n",
    "print(\"Predicted Pass/Fail:\", predictions)"
   ]
  }
 ],
 "metadata": {
  "kernelspec": {
   "display_name": "Python 3 (ipykernel)",
   "language": "python",
   "name": "python3"
  },
  "language_info": {
   "codemirror_mode": {
    "name": "ipython",
    "version": 3
   },
   "file_extension": ".py",
   "mimetype": "text/x-python",
   "name": "python",
   "nbconvert_exporter": "python",
   "pygments_lexer": "ipython3",
   "version": "3.12.7"
  }
 },
 "nbformat": 4,
 "nbformat_minor": 5
}
