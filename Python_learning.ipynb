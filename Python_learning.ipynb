{
 "cells": [
  {
   "cell_type": "code",
   "execution_count": null,
   "id": "b25f42fd-c4be-4ed4-a4e3-aa046d074d60",
   "metadata": {},
   "outputs": [],
   "source": [
    "#Date:18 March 2025"
   ]
  },
  {
   "cell_type": "code",
   "execution_count": 2,
   "id": "371413ce-8740-4d54-bc2c-8604fe4d761f",
   "metadata": {},
   "outputs": [
    {
     "name": "stdout",
     "output_type": "stream",
     "text": [
      "welcome to codeswithcalvin.com\n"
     ]
    }
   ],
   "source": [
    "#print()\n",
    "print(\"welcome to codeswithcalvin.com\")"
   ]
  },
  {
   "cell_type": "code",
   "execution_count": 4,
   "id": "7582baa5-264a-40c0-b657-a46f0980f48c",
   "metadata": {},
   "outputs": [
    {
     "name": "stdout",
     "output_type": "stream",
     "text": [
      "welcome to blog cwpc.in\n"
     ]
    }
   ],
   "source": [
    "print('welcome to blog cwpc.in')"
   ]
  },
  {
   "cell_type": "code",
   "execution_count": 6,
   "id": "94a9a66c-ca49-44b0-8eeb-4abad757b7da",
   "metadata": {},
   "outputs": [
    {
     "name": "stdout",
     "output_type": "stream",
     "text": [
      "'cwpc.in'\n",
      "\"codeswithcalvin.com\"\n"
     ]
    }
   ],
   "source": [
    "print(\"'cwpc.in'\")\n",
    "print('\"codeswithcalvin.com\"')"
   ]
  },
  {
   "cell_type": "code",
   "execution_count": 8,
   "id": "f4d3c7b3-7cf3-444b-8485-f05d87d56175",
   "metadata": {},
   "outputs": [
    {
     "name": "stdout",
     "output_type": "stream",
     "text": [
      "this is number  10\n"
     ]
    }
   ],
   "source": [
    "# variable\n",
    "number = 10\n",
    "print('this is number ',number)"
   ]
  },
  {
   "cell_type": "code",
   "execution_count": 10,
   "id": "76805834-4f33-488c-9917-cdc21144c8f8",
   "metadata": {},
   "outputs": [
    {
     "name": "stdout",
     "output_type": "stream",
     "text": [
      "My name is   Nishant\n",
      "My age is   23\n",
      "height is  4.5\n"
     ]
    }
   ],
   "source": [
    "name = \"Nishant\"\n",
    "age = 23\n",
    "height = 4.5\n",
    "\n",
    "print(\"My name is  \",name)\n",
    "print(\"My age is  \",age)\n",
    "print(\"height is \",height)"
   ]
  },
  {
   "cell_type": "code",
   "execution_count": 12,
   "id": "6dbdc30d-7a11-48ed-9a76-32619689b921",
   "metadata": {},
   "outputs": [
    {
     "name": "stdin",
     "output_type": "stream",
     "text": [
      "Enter Your Name  Joy\n",
      "Enter Your Age  12\n",
      "Enter Your height  3.4\n"
     ]
    },
    {
     "name": "stdout",
     "output_type": "stream",
     "text": [
      "My name is   Joy\n",
      "My age is   12\n",
      "height is  3.4\n"
     ]
    }
   ],
   "source": [
    "# input\n",
    "name = input('Enter Your Name ')\n",
    "age = input('Enter Your Age ')\n",
    "height = input('Enter Your height ')\n",
    "\n",
    "print(\"My name is  \",name)\n",
    "print(\"My age is  \",age)\n",
    "print(\"height is \",height)"
   ]
  },
  {
   "cell_type": "code",
   "execution_count": 14,
   "id": "bb2da5ca-5a74-4533-a94d-e9ef5d960fb7",
   "metadata": {},
   "outputs": [
    {
     "name": "stdin",
     "output_type": "stream",
     "text": [
      "Enter Your Name  joy\n",
      "Enter Your Age  23\n",
      "Enter Your height  2.4\n"
     ]
    },
    {
     "name": "stdout",
     "output_type": "stream",
     "text": [
      "My name is   joy\n",
      "My age is   23\n",
      "height is  2.4\n"
     ]
    }
   ],
   "source": [
    "# int()\n",
    "# float()\n",
    "# str()\n",
    "\n",
    "name = str(input('Enter Your Name '))\n",
    "age = int(input('Enter Your Age '))\n",
    "height = float(input('Enter Your height '))\n",
    "\n",
    "print(\"My name is  \",name)\n",
    "print(\"My age is  \",age)\n",
    "print(\"height is \",height)"
   ]
  },
  {
   "cell_type": "code",
   "execution_count": null,
   "id": "192c3cd5-da1a-4385-80ec-86af4ebbd537",
   "metadata": {},
   "outputs": [],
   "source": [
    "#Date:20 March 2025"
   ]
  },
  {
   "cell_type": "code",
   "execution_count": 6,
   "id": "83f4c704-34c2-48d4-aee9-91a268ee3429",
   "metadata": {},
   "outputs": [],
   "source": [
    "#Arithmetic Operators"
   ]
  },
  {
   "cell_type": "code",
   "execution_count": 8,
   "id": "59e482ee-9e3b-454b-b5c3-d7d544fde3da",
   "metadata": {},
   "outputs": [
    {
     "name": "stdout",
     "output_type": "stream",
     "text": [
      "181\n",
      "135\n",
      "3634\n",
      "6.869565217391305\n",
      "6\n",
      "20\n",
      "24964\n"
     ]
    }
   ],
   "source": [
    "x = 158\n",
    "y = 23\n",
    "\n",
    "print(x + y)\n",
    "print(x - y)\n",
    "print(x * y)\n",
    "print(x / y)\n",
    "print(x // y)\n",
    "print(x % y)\n",
    "print(x ** 2)"
   ]
  },
  {
   "cell_type": "code",
   "execution_count": 10,
   "id": "cfecfdfc-3035-41ee-9cb8-ad0aed379c90",
   "metadata": {},
   "outputs": [],
   "source": [
    "#Comparison Operators"
   ]
  },
  {
   "cell_type": "code",
   "execution_count": 12,
   "id": "c2353d50-5d40-4f22-80d2-393e7b3d85c4",
   "metadata": {},
   "outputs": [
    {
     "name": "stdout",
     "output_type": "stream",
     "text": [
      "True\n",
      "False\n",
      "False\n",
      "True\n",
      "True\n",
      "False\n"
     ]
    }
   ],
   "source": [
    "print(23 < 34)\n",
    "print(23 > 34)\n",
    "print(23 == 34)\n",
    "print(23 != 34)\n",
    "print(23 <= 34)\n",
    "print(23 >= 34)"
   ]
  },
  {
   "cell_type": "code",
   "execution_count": 14,
   "id": "dbfdad01-962e-4e4e-a644-e25a5354da63",
   "metadata": {},
   "outputs": [],
   "source": [
    "#Logical Operators"
   ]
  },
  {
   "cell_type": "code",
   "execution_count": 16,
   "id": "62200e6d-251c-44cc-a55a-1e58bb075228",
   "metadata": {},
   "outputs": [
    {
     "name": "stdout",
     "output_type": "stream",
     "text": [
      "False\n",
      "True\n",
      "False\n"
     ]
    }
   ],
   "source": [
    "# and\n",
    "print(23 == 67 and 78 < 100) \n",
    "# or \n",
    "print(23 == 67 or 78 < 100) \n",
    "# not \n",
    "print( not 34 == 34)"
   ]
  },
  {
   "cell_type": "code",
   "execution_count": 18,
   "id": "66fde397-c3e5-4ea5-b592-ac09213dd019",
   "metadata": {},
   "outputs": [],
   "source": [
    "#Assignment Operators"
   ]
  },
  {
   "cell_type": "code",
   "execution_count": 20,
   "id": "f9648c53-0fe3-4ebc-9f40-4c368fbbdbb9",
   "metadata": {},
   "outputs": [
    {
     "name": "stdout",
     "output_type": "stream",
     "text": [
      "10\n",
      "20\n",
      "10\n",
      "100\n",
      "10.0\n"
     ]
    }
   ],
   "source": [
    "a = 10 \n",
    "print(a)\n",
    "\n",
    "# a = a + 10\n",
    "a += 10\n",
    "print(a)\n",
    "a -= 10\n",
    "print(a)\n",
    "a *= 10\n",
    "print(a)\n",
    "a /= 10\n",
    "print(a)"
   ]
  },
  {
   "cell_type": "code",
   "execution_count": 22,
   "id": "4dcb9536-f1a9-42be-9471-5a67dfe9af40",
   "metadata": {},
   "outputs": [],
   "source": [
    "#Identity Operators"
   ]
  },
  {
   "cell_type": "code",
   "execution_count": 24,
   "id": "c0ef3003-b36c-458d-9cb5-35b32cfa5da3",
   "metadata": {},
   "outputs": [
    {
     "name": "stdout",
     "output_type": "stream",
     "text": [
      "False\n",
      "True\n"
     ]
    }
   ],
   "source": [
    "#is \n",
    "a = 10\n",
    "b = 20\n",
    "print(a is b)\n",
    "# is not\n",
    "print(a is not b)"
   ]
  },
  {
   "cell_type": "code",
   "execution_count": null,
   "id": "e3ab2507-4af2-4fd7-8954-66bb634716fc",
   "metadata": {},
   "outputs": [],
   "source": [
    "#Membership Operators"
   ]
  },
  {
   "cell_type": "code",
   "execution_count": 26,
   "id": "94749c17-c2f6-4ca5-9da4-096a31aab32b",
   "metadata": {},
   "outputs": [
    {
     "name": "stdout",
     "output_type": "stream",
     "text": [
      "True\n",
      "False\n"
     ]
    }
   ],
   "source": [
    "web = \"codeswithcalvin.com\"\n",
    "print('c' in web)\n",
    "print('c' not in web)"
   ]
  },
  {
   "cell_type": "code",
   "execution_count": 28,
   "id": "f71c052a-d405-49f4-a2b6-5d63ae839748",
   "metadata": {},
   "outputs": [
    {
     "name": "stdout",
     "output_type": "stream",
     "text": [
      "a is smallest\n"
     ]
    }
   ],
   "source": [
    "# if else\n",
    "\n",
    "a = 10 \n",
    "b = 78\n",
    "\n",
    "# find the smallest values \n",
    "\n",
    "if a < b :\n",
    "    print(\"a is smallest\")\n",
    "else:\n",
    "    print(\"a is not smallest ...\")"
   ]
  },
  {
   "cell_type": "code",
   "execution_count": 30,
   "id": "b3819c39-8cd2-49ce-9212-9a65d023a0e6",
   "metadata": {},
   "outputs": [
    {
     "name": "stdout",
     "output_type": "stream",
     "text": [
      " a is smallest ...\n"
     ]
    }
   ],
   "source": [
    "a = 10\n",
    "b = 20\n",
    "c = 30\n",
    "\n",
    "if a < b and a < c:\n",
    "    print(' a is smallest ...')\n",
    "elif b < a and b < c:\n",
    "    print(\" b is smallest ...\")\n",
    "else:\n",
    "    print(' c is smallest ...')    "
   ]
  },
  {
   "cell_type": "code",
   "execution_count": null,
   "id": "4328f989-85e5-4d2e-82f2-81c7deea8f24",
   "metadata": {},
   "outputs": [],
   "source": [
    "#Date:22 March 2025"
   ]
  },
  {
   "cell_type": "code",
   "execution_count": 2,
   "id": "76847273-5057-4bae-b753-e14ef935ee55",
   "metadata": {},
   "outputs": [
    {
     "name": "stdout",
     "output_type": "stream",
     "text": [
      "c\n",
      "o\n",
      "d\n",
      "e\n",
      "s\n",
      "w\n",
      "i\n",
      "t\n",
      "h\n",
      "c\n",
      "a\n",
      "l\n",
      "v\n",
      "i\n",
      "n\n"
     ]
    }
   ],
   "source": [
    "web = \"codeswithcalvin\"\n",
    "for i in web:\n",
    "    print(i)"
   ]
  },
  {
   "cell_type": "code",
   "execution_count": 4,
   "id": "f3e832b7-1312-4c09-a6e0-1a408945361a",
   "metadata": {},
   "outputs": [
    {
     "name": "stdout",
     "output_type": "stream",
     "text": [
      "0\n",
      "1\n",
      "2\n",
      "3\n",
      "4\n",
      "5\n",
      "6\n",
      "7\n",
      "8\n",
      "9\n"
     ]
    }
   ],
   "source": [
    "# range(EndValue) # start 0\n",
    "\n",
    "for i in range(10):\n",
    "    print(i)"
   ]
  },
  {
   "cell_type": "code",
   "execution_count": 6,
   "id": "c1f20403-c146-417d-8863-4020921f774a",
   "metadata": {},
   "outputs": [
    {
     "name": "stdout",
     "output_type": "stream",
     "text": [
      "10\n",
      "11\n",
      "12\n",
      "13\n",
      "14\n",
      "15\n",
      "16\n",
      "17\n",
      "18\n",
      "19\n",
      "20\n",
      "21\n",
      "22\n"
     ]
    }
   ],
   "source": [
    "# range(start,end)\n",
    "\n",
    "for i in range(10,23):\n",
    "    print(i)"
   ]
  },
  {
   "cell_type": "code",
   "execution_count": 8,
   "id": "26de6af7-e8b0-435c-b1e4-f85a9394b767",
   "metadata": {},
   "outputs": [
    {
     "name": "stdout",
     "output_type": "stream",
     "text": [
      "1\n",
      "3\n",
      "5\n",
      "7\n",
      "9\n"
     ]
    }
   ],
   "source": [
    "# range(start,end,steps)\n",
    "\n",
    "for i in range(1,10,2):\n",
    "    print(i)"
   ]
  },
  {
   "cell_type": "code",
   "execution_count": 10,
   "id": "efe5dff0-fe03-44aa-8c50-6112a8c4eedd",
   "metadata": {},
   "outputs": [
    {
     "name": "stdin",
     "output_type": "stream",
     "text": [
      "enter start number  10\n",
      "enter end number  17\n"
     ]
    },
    {
     "name": "stdout",
     "output_type": "stream",
     "text": [
      "10\n",
      "11\n",
      "12\n",
      "13\n",
      "14\n",
      "15\n",
      "16\n",
      "17\n"
     ]
    }
   ],
   "source": [
    "# take user input\n",
    "start = int(input('enter start number '))\n",
    "end = int(input('enter end number '))\n",
    "\n",
    "for i in range(start,end+1):\n",
    "    print(i)"
   ]
  },
  {
   "cell_type": "code",
   "execution_count": 12,
   "id": "2bd0873f-474f-49bf-9cf0-daf7bf52b679",
   "metadata": {},
   "outputs": [
    {
     "name": "stdout",
     "output_type": "stream",
     "text": [
      "1 2 3 4 5 6 7 8 9 10 11 12 13 14 15 16 17 18 19 20 "
     ]
    }
   ],
   "source": [
    "#end=' '\n",
    "\n",
    "for i in range(1,21):\n",
    "    print(i,end=' ')"
   ]
  },
  {
   "cell_type": "code",
   "execution_count": 14,
   "id": "062cc4b8-dbb5-4dbb-9ce8-5a7a0a10b1ab",
   "metadata": {},
   "outputs": [
    {
     "name": "stdout",
     "output_type": "stream",
     "text": [
      "1\n",
      "2\n",
      "3\n",
      "4\n",
      "5\n",
      "6\n",
      "7\n",
      "8\n",
      "9\n",
      "10\n"
     ]
    }
   ],
   "source": [
    "# while loop \n",
    "\n",
    "# start point\n",
    "# end point\n",
    "# output\n",
    "# +/-\n",
    "\n",
    "i = 1\n",
    "while(i <= 10):\n",
    "    print(i)\n",
    "    i = i + 1"
   ]
  },
  {
   "cell_type": "code",
   "execution_count": 16,
   "id": "255f396a-7ca7-4e9f-9333-8efaffdfd8a8",
   "metadata": {},
   "outputs": [
    {
     "name": "stdout",
     "output_type": "stream",
     "text": [
      "welcome to codes with calvin\n",
      "cwpc.in\n",
      "welcome to codes with calvin\n",
      "cwpc.in\n"
     ]
    }
   ],
   "source": [
    "# function basic \n",
    "\n",
    "# def functionName():\n",
    "    # output\n",
    "\n",
    "def info():\n",
    "    print(\"welcome to codes with calvin\")\n",
    "    print(\"cwpc.in\")\n",
    "\n",
    "# call the function\n",
    "info()\n",
    "info()     "
   ]
  },
  {
   "cell_type": "code",
   "execution_count": 18,
   "id": "d01f409c-206d-42b3-97cb-2414bfd850de",
   "metadata": {},
   "outputs": [
    {
     "name": "stdout",
     "output_type": "stream",
     "text": [
      "1267\n"
     ]
    }
   ],
   "source": [
    "# with arg\n",
    "\n",
    "def add(num1,num2):\n",
    "    print(num1+num2)\n",
    "\n",
    "add(1200,67) "
   ]
  },
  {
   "cell_type": "code",
   "execution_count": 20,
   "id": "68ed977c-2bdb-4219-8f8e-605f3be23df6",
   "metadata": {},
   "outputs": [
    {
     "name": "stdout",
     "output_type": "stream",
     "text": [
      "this is number :  900\n"
     ]
    }
   ],
   "source": [
    "# return type\n",
    "\n",
    "def get_number():\n",
    "    return 900\n",
    "\n",
    "print(\"this is number : \",get_number())"
   ]
  },
  {
   "cell_type": "code",
   "execution_count": 22,
   "id": "0b159d43-ae3d-4c82-a8ca-644824aaa368",
   "metadata": {},
   "outputs": [],
   "source": [
    "# return type and with arg\n",
    "\n",
    "def get_result(total,per):\n",
    "    f_total = total*per/100\n",
    "    f_total = total+ f_total\n",
    "    return f_total"
   ]
  },
  {
   "cell_type": "code",
   "execution_count": 24,
   "id": "1adeaa15-7624-4f56-abc1-1c3c235c0100",
   "metadata": {},
   "outputs": [
    {
     "name": "stdout",
     "output_type": "stream",
     "text": [
      " this is main result  1416.0\n"
     ]
    }
   ],
   "source": [
    "final = get_result(1200,18)\n",
    "\n",
    "m_final = 345 + final\n",
    "print(' this is main result ',final)"
   ]
  },
  {
   "cell_type": "code",
   "execution_count": null,
   "id": "412ae7af-a1b1-470b-9bb7-3263d0d7d929",
   "metadata": {},
   "outputs": [],
   "source": [
    "#Date:25 March 2025"
   ]
  },
  {
   "cell_type": "code",
   "execution_count": 26,
   "id": "2687f273-2cf9-4794-b9d7-f9b1045ce34f",
   "metadata": {},
   "outputs": [
    {
     "name": "stdout",
     "output_type": "stream",
     "text": [
      "2025-03-29 10:17:55.084868\n"
     ]
    }
   ],
   "source": [
    "# Date and time in python \n",
    "\n",
    "import datetime\n",
    "\n",
    "# Get the current date and time\n",
    "now = datetime.datetime.now()\n",
    "\n",
    "print(now)"
   ]
  },
  {
   "cell_type": "code",
   "execution_count": 28,
   "id": "a12800e4-8446-455b-87d9-9b4ef9acc35e",
   "metadata": {},
   "outputs": [
    {
     "name": "stdout",
     "output_type": "stream",
     "text": [
      "3\n",
      "29\n",
      "2025\n",
      "10\n",
      "17\n",
      "55\n"
     ]
    }
   ],
   "source": [
    "# get only month \n",
    "print(now.month)\n",
    "\n",
    "# get only day\n",
    "print(now.day)\n",
    "\n",
    "# get only year\n",
    "print(now.year)\n",
    "\n",
    "\n",
    "# get only hour\n",
    "print(now.hour)\n",
    "\n",
    "# get only minute\n",
    "print(now.minute)\n",
    "\n",
    "# get only second\n",
    "print(now.second)"
   ]
  },
  {
   "cell_type": "code",
   "execution_count": 30,
   "id": "7ec7203b-5b74-4657-9de3-5fc513bb19b4",
   "metadata": {},
   "outputs": [
    {
     "name": "stdout",
     "output_type": "stream",
     "text": [
      "2025-03-29\n",
      "10:17:55\n",
      "March\n"
     ]
    }
   ],
   "source": [
    "# get complete date\n",
    "print(now.strftime(\"%Y-%m-%d\"))\n",
    "\n",
    "# get complete time\n",
    "print(now.strftime(\"%H:%M:%S\"))\n",
    "\n",
    "# get month name in character\n",
    "print(now.strftime(\"%B\"))"
   ]
  },
  {
   "cell_type": "code",
   "execution_count": 32,
   "id": "535c9b3c-e53c-468d-a64f-2d25f80cb925",
   "metadata": {},
   "outputs": [
    {
     "name": "stdout",
     "output_type": "stream",
     "text": [
      "     March 2025\n",
      "Mo Tu We Th Fr Sa Su\n",
      "                1  2\n",
      " 3  4  5  6  7  8  9\n",
      "10 11 12 13 14 15 16\n",
      "17 18 19 20 21 22 23\n",
      "24 25 26 27 28 29 30\n",
      "31\n",
      "\n"
     ]
    }
   ],
   "source": [
    "# show calendar\n",
    "import calendar\n",
    "print(calendar.month(2025, 3))  # prints the calendar for February 2024"
   ]
  },
  {
   "cell_type": "code",
   "execution_count": 34,
   "id": "8bab055a-cf4a-401d-a6ff-909bad1cfe69",
   "metadata": {},
   "outputs": [
    {
     "name": "stdout",
     "output_type": "stream",
     "text": [
      "                                  1995\n",
      "\n",
      "      January                   February                   March\n",
      "Mo Tu We Th Fr Sa Su      Mo Tu We Th Fr Sa Su      Mo Tu We Th Fr Sa Su\n",
      "                   1             1  2  3  4  5             1  2  3  4  5\n",
      " 2  3  4  5  6  7  8       6  7  8  9 10 11 12       6  7  8  9 10 11 12\n",
      " 9 10 11 12 13 14 15      13 14 15 16 17 18 19      13 14 15 16 17 18 19\n",
      "16 17 18 19 20 21 22      20 21 22 23 24 25 26      20 21 22 23 24 25 26\n",
      "23 24 25 26 27 28 29      27 28                     27 28 29 30 31\n",
      "30 31\n",
      "\n",
      "       April                      May                       June\n",
      "Mo Tu We Th Fr Sa Su      Mo Tu We Th Fr Sa Su      Mo Tu We Th Fr Sa Su\n",
      "                1  2       1  2  3  4  5  6  7                1  2  3  4\n",
      " 3  4  5  6  7  8  9       8  9 10 11 12 13 14       5  6  7  8  9 10 11\n",
      "10 11 12 13 14 15 16      15 16 17 18 19 20 21      12 13 14 15 16 17 18\n",
      "17 18 19 20 21 22 23      22 23 24 25 26 27 28      19 20 21 22 23 24 25\n",
      "24 25 26 27 28 29 30      29 30 31                  26 27 28 29 30\n",
      "\n",
      "        July                     August                  September\n",
      "Mo Tu We Th Fr Sa Su      Mo Tu We Th Fr Sa Su      Mo Tu We Th Fr Sa Su\n",
      "                1  2          1  2  3  4  5  6                   1  2  3\n",
      " 3  4  5  6  7  8  9       7  8  9 10 11 12 13       4  5  6  7  8  9 10\n",
      "10 11 12 13 14 15 16      14 15 16 17 18 19 20      11 12 13 14 15 16 17\n",
      "17 18 19 20 21 22 23      21 22 23 24 25 26 27      18 19 20 21 22 23 24\n",
      "24 25 26 27 28 29 30      28 29 30 31               25 26 27 28 29 30\n",
      "31\n",
      "\n",
      "      October                   November                  December\n",
      "Mo Tu We Th Fr Sa Su      Mo Tu We Th Fr Sa Su      Mo Tu We Th Fr Sa Su\n",
      "                   1             1  2  3  4  5                   1  2  3\n",
      " 2  3  4  5  6  7  8       6  7  8  9 10 11 12       4  5  6  7  8  9 10\n",
      " 9 10 11 12 13 14 15      13 14 15 16 17 18 19      11 12 13 14 15 16 17\n",
      "16 17 18 19 20 21 22      20 21 22 23 24 25 26      18 19 20 21 22 23 24\n",
      "23 24 25 26 27 28 29      27 28 29 30               25 26 27 28 29 30 31\n",
      "30 31\n",
      "\n"
     ]
    }
   ],
   "source": [
    "# get full year calendar\n",
    "year = 1995\n",
    "print(calendar.calendar(year))  # prints the calendar for 2022"
   ]
  },
  {
   "cell_type": "code",
   "execution_count": 18,
   "id": "a1a382da-c753-4a40-b8f6-c5ef983d36e7",
   "metadata": {},
   "outputs": [
    {
     "name": "stdout",
     "output_type": "stream",
     "text": [
      "👍\n"
     ]
    }
   ],
   "source": [
    "import emoji\n",
    "print(emoji.emojize(\":thumbs_up:\"))\n"
   ]
  },
  {
   "cell_type": "code",
   "execution_count": 40,
   "id": "2eaa4c5b-4e47-4109-ac8a-ce828925a837",
   "metadata": {},
   "outputs": [],
   "source": [
    "# List in python \n",
    "# List is a collection which is ordered and changeable. Allows duplicate members."
   ]
  },
  {
   "cell_type": "code",
   "execution_count": 42,
   "id": "65ebc2b5-1097-4805-9184-dc3d96549679",
   "metadata": {},
   "outputs": [
    {
     "name": "stdout",
     "output_type": "stream",
     "text": [
      "[]\n",
      "<class 'list'>\n"
     ]
    }
   ],
   "source": [
    "# create a empty list\n",
    "my_list = []\n",
    "print(my_list)  # Output: []\n",
    "# check the type of my_list\n",
    "print(type(my_list))  # Output: <class 'list'>"
   ]
  },
  {
   "cell_type": "code",
   "execution_count": 44,
   "id": "de5b0fdf-40f5-42e5-b80b-73e4be75c49e",
   "metadata": {},
   "outputs": [
    {
     "name": "stdout",
     "output_type": "stream",
     "text": [
      "[1, 2, 3, 4, 5]\n"
     ]
    }
   ],
   "source": [
    "# init list with values\n",
    "my_list = [1, 2, 3, 4, 5]\n",
    "print(my_list)  # Output: [1, 2, 3, 4,"
   ]
  },
  {
   "cell_type": "code",
   "execution_count": 46,
   "id": "e8dcd0b7-87c1-4312-ac5b-afca0b061739",
   "metadata": {},
   "outputs": [
    {
     "name": "stdout",
     "output_type": "stream",
     "text": [
      "[1, 2, 3, 4, 5, 'hello', 3.14]\n"
     ]
    }
   ],
   "source": [
    "# mixed data types\n",
    "my_list = [1, 2, 3, 4, 5, \"hello\", 3.14]\n",
    "print(my_list)  # Output: [1, 2, 3, 4, 5, 'hello', 3.14]"
   ]
  },
  {
   "cell_type": "code",
   "execution_count": 48,
   "id": "2da52f39-0b46-4689-bfe6-3775a2bbb2e1",
   "metadata": {},
   "outputs": [
    {
     "name": "stdout",
     "output_type": "stream",
     "text": [
      "apple\n",
      "apple\n",
      "banana\n"
     ]
    }
   ],
   "source": [
    "# aeccess list element\n",
    "#index       0        1          2        3        4        5       6\n",
    "fruits = [\"apple\", \"banana\", \"cherry\", \"orange\", \"kiwi\", \"melon\", \"mango\"]\n",
    "#-ve         -7       -6         -5       -4       -3       -2      -1\n",
    "\n",
    "# print the element at index 0\n",
    "print(fruits[0])  # Output: apple\n",
    "print(fruits[-7])  # Output: apple\n",
    "\n",
    "print(fruits[1])  # Output: banana"
   ]
  },
  {
   "cell_type": "code",
   "execution_count": 50,
   "id": "306044f9-4067-4cad-92e9-85d094bc2d1b",
   "metadata": {},
   "outputs": [
    {
     "name": "stdout",
     "output_type": "stream",
     "text": [
      "['banana', 'cherry', 'orange']\n",
      "['banana', 'cherry', 'orange']\n",
      "['apple', 'banana', 'cherry', 'orange']\n",
      "['cherry', 'orange', 'kiwi', 'melon', 'mango']\n",
      "['apple', 'banana', 'cherry', 'orange', 'kiwi', 'melon', 'mango']\n",
      "['apple', 'banana', 'cherry', 'orange', 'kiwi', 'melon', 'mango']\n"
     ]
    }
   ],
   "source": [
    "#slice list\n",
    "# get the elements from index 1 to 4 (not included)\n",
    "print(fruits[1:4])  # Output: ['banana', 'cherry', 'orange']\n",
    "print(fruits[-6:-3])  # Output: ['banana', 'cherry', 'orange']\n",
    "\n",
    "print(fruits[:4])  # Output: ['apple', 'banana', 'cherry', 'orange']\n",
    "\n",
    "print(fruits[2:])\n",
    "\n",
    "print(fruits[:])\n",
    "print(fruits)"
   ]
  },
  {
   "cell_type": "code",
   "execution_count": 52,
   "id": "106bf6a5-f483-45ca-a882-a74e0339b62d",
   "metadata": {},
   "outputs": [
    {
     "name": "stdout",
     "output_type": "stream",
     "text": [
      "['apple', 'banana', 'cherry', 'orange', 'kiwi', 'melon', 'mango']\n",
      "['avocado', 'banana', 'cherry', 'orange', 'kiwi', 'melon', 'mango']\n"
     ]
    }
   ],
   "source": [
    "print(fruits)\n",
    "# change the value of an element\n",
    "fruits[0] = \"avocado\"\n",
    "print(fruits)"
   ]
  },
  {
   "cell_type": "code",
   "execution_count": 54,
   "id": "b5ecadb3-8943-43e2-8f30-4789c58af450",
   "metadata": {},
   "outputs": [
    {
     "name": "stdout",
     "output_type": "stream",
     "text": [
      "['avocado', 'banana', 'blueberry', 'cherry', 'orange', 'kiwi', 'melon', 'mango']\n"
     ]
    }
   ],
   "source": [
    "# insert element at specific index\n",
    "fruits.insert(2, \"blueberry\")\n",
    "print(fruits)"
   ]
  },
  {
   "cell_type": "code",
   "execution_count": 56,
   "id": "9c55deea-c3f8-45b9-85e4-f2281141d913",
   "metadata": {},
   "outputs": [
    {
     "name": "stdout",
     "output_type": "stream",
     "text": [
      "['avocado', 'banana', 'blueberry', 'cherry', 'orange', 'kiwi', 'melon', 'mango', 'strawberry']\n"
     ]
    }
   ],
   "source": [
    "# append element at the end of the list\n",
    "fruits.append(\"strawberry\")\n",
    "print(fruits)"
   ]
  },
  {
   "cell_type": "code",
   "execution_count": 58,
   "id": "67be8f0f-8fa2-4382-82b7-ee93d4c2abb8",
   "metadata": {},
   "outputs": [
    {
     "name": "stdout",
     "output_type": "stream",
     "text": [
      "['avocado', 'blueberry', 'cherry', 'orange', 'kiwi', 'melon', 'mango', 'strawberry']\n"
     ]
    }
   ],
   "source": [
    "# remove element\n",
    "fruits.remove(\"banana\")\n",
    "print(fruits)"
   ]
  },
  {
   "cell_type": "code",
   "execution_count": 60,
   "id": "ef4fc3db-b376-4aca-a3db-5162e3b22d01",
   "metadata": {},
   "outputs": [
    {
     "data": {
      "text/plain": [
       "'cherry'"
      ]
     },
     "execution_count": 60,
     "metadata": {},
     "output_type": "execute_result"
    }
   ],
   "source": [
    "# remove element at specific index\n",
    "fruits.pop(2)"
   ]
  },
  {
   "cell_type": "code",
   "execution_count": 62,
   "id": "a219bcb1-2a99-452e-bb2a-52488fadd498",
   "metadata": {},
   "outputs": [
    {
     "name": "stdout",
     "output_type": "stream",
     "text": [
      "['avocado', 'blueberry', 'orange', 'kiwi', 'melon', 'mango', 'strawberry']\n"
     ]
    }
   ],
   "source": [
    "print(fruits)"
   ]
  },
  {
   "cell_type": "code",
   "execution_count": 64,
   "id": "650ee021-392e-4049-84a2-52679c4e157f",
   "metadata": {},
   "outputs": [
    {
     "name": "stdout",
     "output_type": "stream",
     "text": [
      "['avocado', 'blueberry', 'orange', 'kiwi', 'melon', 'mango', 'strawberry', 'grapes', 'watermelon']\n"
     ]
    }
   ],
   "source": [
    "# extend list\n",
    "new_fruits = [\"grapes\", \"watermelon\"]\n",
    "fruits.extend(new_fruits)\n",
    "print(fruits)"
   ]
  },
  {
   "cell_type": "code",
   "execution_count": 66,
   "id": "ef280894-ab93-48d3-a6a5-036a8bd4f38f",
   "metadata": {},
   "outputs": [
    {
     "name": "stdout",
     "output_type": "stream",
     "text": [
      "['avocado', 'blueberry', 'orange', 'kiwi', 'melon', 'mango', 'strawberry', 'grapes']\n"
     ]
    }
   ],
   "source": [
    "# pop element from the end of the list\n",
    "fruits.pop()\n",
    "print(fruits)"
   ]
  },
  {
   "cell_type": "code",
   "execution_count": 68,
   "id": "7ee19bb6-0e89-4d93-80e7-441e88ec0862",
   "metadata": {},
   "outputs": [
    {
     "name": "stdout",
     "output_type": "stream",
     "text": [
      "avocado\n",
      "blueberry\n",
      "orange\n",
      "kiwi\n",
      "melon\n",
      "mango\n",
      "strawberry\n",
      "grapes\n"
     ]
    }
   ],
   "source": [
    "# intreting list\n",
    "for i in fruits:\n",
    "    print(i)"
   ]
  },
  {
   "cell_type": "code",
   "execution_count": 70,
   "id": "03bdb2a4-4d26-4938-87d3-77689fa87f6b",
   "metadata": {},
   "outputs": [
    {
     "name": "stdout",
     "output_type": "stream",
     "text": [
      "False\n",
      "True\n"
     ]
    }
   ],
   "source": [
    "# check if an element is in the list\n",
    "\n",
    "print(\"apple\" in fruits) \n",
    "\n",
    "print(\"kiwi\" in fruits)  "
   ]
  },
  {
   "cell_type": "code",
   "execution_count": 5,
   "id": "2f4ce22a-b0d1-483c-9342-435d1c1059b3",
   "metadata": {},
   "outputs": [
    {
     "name": "stdin",
     "output_type": "stream",
     "text": [
      "Enter the size of the list:  2\n",
      "Enter the food:  jalebi\n",
      "Enter the food:  pav\n"
     ]
    },
    {
     "name": "stdout",
     "output_type": "stream",
     "text": [
      "jalebi\n",
      "pav\n"
     ]
    }
   ],
   "source": [
    "# how to take user input into list \n",
    "\n",
    "# define size and list \n",
    "\n",
    "size = int(input(\"Enter the size of the list: \"))\n",
    "food = []\n",
    "\n",
    "# take input from user\n",
    "for i in range(size):\n",
    "    f = input(\"Enter the food: \")\n",
    "    food.append(f)\n",
    "    \n",
    "    \n",
    "\n",
    "for i in food:\n",
    "    print(i)"
   ]
  },
  {
   "cell_type": "code",
   "execution_count": null,
   "id": "cd336c13-6ed8-4b5e-93d9-2ed8f67fef8c",
   "metadata": {},
   "outputs": [],
   "source": [
    "#Date:27 March 2025"
   ]
  },
  {
   "cell_type": "code",
   "execution_count": 7,
   "id": "8e13aeed-6fa0-49d8-808c-6a98d0497a84",
   "metadata": {},
   "outputs": [],
   "source": [
    "# name = joy\n",
    "# key = value\n",
    "\n",
    "# dict = {key1: value1, key2: value2, key3: value3}\n",
    "\n",
    "# Dictionary is a collection of key-value pairs\n",
    "# Dictionary is mutable\n",
    "# Dictionary is unordered\n",
    "# Dictionary is indexed"
   ]
  },
  {
   "cell_type": "code",
   "execution_count": 9,
   "id": "9c9b0be4-fda9-44c8-a786-52fca171abd7",
   "metadata": {},
   "outputs": [
    {
     "name": "stdout",
     "output_type": "stream",
     "text": [
      "{'name': 'joy', 'age': 25, 'city': 'Dhaka'}\n"
     ]
    }
   ],
   "source": [
    "# EXAMPLE : \n",
    "\n",
    "data = {'name': 'joy', 'age': 25, 'city': 'Dhaka'}\n",
    "print(data)"
   ]
  },
  {
   "cell_type": "code",
   "execution_count": 11,
   "id": "db70cb70-f95e-4038-99dc-0cad0c6d254d",
   "metadata": {},
   "outputs": [
    {
     "name": "stdout",
     "output_type": "stream",
     "text": [
      "joy\n"
     ]
    }
   ],
   "source": [
    "# access the items of a dictionary\n",
    "print(data['name'])"
   ]
  },
  {
   "cell_type": "code",
   "execution_count": 13,
   "id": "1ea13824-f122-483e-9fce-5dca0d63f0b0",
   "metadata": {},
   "outputs": [
    {
     "name": "stdout",
     "output_type": "stream",
     "text": [
      "dict_keys(['name', 'age', 'city'])\n"
     ]
    }
   ],
   "source": [
    "# get all keys of a dictionary\n",
    "print(data.keys())"
   ]
  },
  {
   "cell_type": "code",
   "execution_count": 15,
   "id": "913cb9d7-78e5-40a7-8afc-4e02f60e5d16",
   "metadata": {},
   "outputs": [
    {
     "name": "stdout",
     "output_type": "stream",
     "text": [
      "dict_values(['joy', 25, 'Dhaka'])\n"
     ]
    }
   ],
   "source": [
    "# get all values of a dictionary\n",
    "print(data.values())"
   ]
  },
  {
   "cell_type": "code",
   "execution_count": 17,
   "id": "8706a948-9f2c-4ba6-aaf5-c574e7659136",
   "metadata": {},
   "outputs": [
    {
     "name": "stdout",
     "output_type": "stream",
     "text": [
      "joy\n"
     ]
    }
   ],
   "source": [
    "# get data from keys \n",
    "print(data.get('name'))"
   ]
  },
  {
   "cell_type": "code",
   "execution_count": 19,
   "id": "e7f0442c-7a7c-47e3-b123-ccbe50acb82b",
   "metadata": {},
   "outputs": [
    {
     "name": "stdout",
     "output_type": "stream",
     "text": [
      "dict_items([('name', 'joy'), ('age', 25), ('city', 'Dhaka')])\n"
     ]
    }
   ],
   "source": [
    "# get all data from using items() method\n",
    "print(data.items())"
   ]
  },
  {
   "cell_type": "code",
   "execution_count": 21,
   "id": "e6e26006-88e5-4d91-82fd-d6c304c3eeaa",
   "metadata": {},
   "outputs": [
    {
     "name": "stdout",
     "output_type": "stream",
     "text": [
      "{'name': 'joy', 'age': 30, 'city': 'Dhaka'}\n"
     ]
    }
   ],
   "source": [
    "# update values of a dictionary\n",
    "data['age'] = 30\n",
    "print(data)"
   ]
  },
  {
   "cell_type": "code",
   "execution_count": 23,
   "id": "e9bd8ea5-c271-4e3e-b72e-4b0508126aad",
   "metadata": {},
   "outputs": [
    {
     "name": "stdout",
     "output_type": "stream",
     "text": [
      "{'name': 'joy', 'age': 30, 'city': 'Dhaka', 'country': 'Bangladesh'}\n"
     ]
    }
   ],
   "source": [
    "# add new key-value pair in a dictionary\n",
    "\n",
    "data['country'] = 'Bangladesh'\n",
    "print(data)"
   ]
  },
  {
   "cell_type": "code",
   "execution_count": 25,
   "id": "1b3b0174-0a0f-40a8-a162-11f46193f613",
   "metadata": {},
   "outputs": [
    {
     "name": "stdout",
     "output_type": "stream",
     "text": [
      "{'name': 'joy', 'age': 30, 'country': 'Bangladesh'}\n"
     ]
    }
   ],
   "source": [
    "# delete a key-value pair from a dictionary\n",
    "del data['city']\n",
    "print(data)"
   ]
  },
  {
   "cell_type": "code",
   "execution_count": 27,
   "id": "c418ff9a-5de6-426a-9b64-e8a74cf1f184",
   "metadata": {},
   "outputs": [
    {
     "name": "stdout",
     "output_type": "stream",
     "text": [
      "name = joy\n",
      "age = 30\n",
      "country = Bangladesh\n"
     ]
    }
   ],
   "source": [
    "# iterate through a dictionary\n",
    "# fetch data from loop\n",
    "for i in data:\n",
    "    print(i,'=', data[i])"
   ]
  },
  {
   "cell_type": "code",
   "execution_count": 29,
   "id": "0fcdefce-b5cd-4fea-86c8-bbc704bc3d98",
   "metadata": {},
   "outputs": [
    {
     "name": "stdout",
     "output_type": "stream",
     "text": [
      "name = joy\n",
      "age = 30\n",
      "country = Bangladesh\n"
     ]
    }
   ],
   "source": [
    "# fetch data from items() method\n",
    "for key, value in data.items():\n",
    "    print(key, '=', value)"
   ]
  },
  {
   "cell_type": "code",
   "execution_count": 31,
   "id": "863860e1-f14e-4e77-a6b2-25da2146bcda",
   "metadata": {},
   "outputs": [
    {
     "name": "stdout",
     "output_type": "stream",
     "text": [
      "True\n",
      "False\n"
     ]
    }
   ],
   "source": [
    "# check if a key exists in a dictionary\n",
    "\n",
    "print('name' in data)\n",
    "print('city' in data)"
   ]
  },
  {
   "cell_type": "code",
   "execution_count": 33,
   "id": "ea871cce-7ef9-490b-a6c8-432572de7ced",
   "metadata": {},
   "outputs": [
    {
     "name": "stdout",
     "output_type": "stream",
     "text": [
      "my name is :  joy\n",
      "my age is :  25\n",
      "my height is :  5.6\n"
     ]
    }
   ],
   "source": [
    "# format using in String\n",
    "\n",
    "name = 'joy'\n",
    "age = 25\n",
    "height = 5.6\n",
    "\n",
    "print('my name is : ',name)\n",
    "print('my age is : ',age)\n",
    "print('my height is : ',height)"
   ]
  },
  {
   "cell_type": "code",
   "execution_count": 35,
   "id": "e1cea12b-b56c-4f9f-970f-66c5890e0ee1",
   "metadata": {},
   "outputs": [
    {
     "name": "stdout",
     "output_type": "stream",
     "text": [
      "my name is  joy age is  25 height is  5.6\n"
     ]
    }
   ],
   "source": [
    "print('my name is ',name,'age is ',age,'height is ',height)"
   ]
  },
  {
   "cell_type": "code",
   "execution_count": 37,
   "id": "fc7037a3-035e-4f94-b39b-ff10499728e2",
   "metadata": {},
   "outputs": [
    {
     "name": "stdout",
     "output_type": "stream",
     "text": [
      "My name joy , height  5.6 and age 25\n"
     ]
    }
   ],
   "source": [
    "print('My name {0} , height  {2} and age {1}'.format(name, age, height))"
   ]
  },
  {
   "cell_type": "code",
   "execution_count": 39,
   "id": "b612f05c-8ef8-41ef-a297-a180785927df",
   "metadata": {},
   "outputs": [
    {
     "name": "stdout",
     "output_type": "stream",
     "text": [
      "My name is joy, age is 25 and height is 5.6\n"
     ]
    }
   ],
   "source": [
    "print(f'My name is {name}, age is {age} and height is {height}')"
   ]
  },
  {
   "cell_type": "code",
   "execution_count": 41,
   "id": "7f42e9f0-b885-4015-8b48-1293e1c0ee59",
   "metadata": {},
   "outputs": [
    {
     "name": "stdout",
     "output_type": "stream",
     "text": [
      "name = joy\n",
      "age = 30\n",
      "country = Bangladesh\n"
     ]
    }
   ],
   "source": [
    "for key, value in data.items():\n",
    "    print(f'{key} = {value}')"
   ]
  },
  {
   "cell_type": "code",
   "execution_count": 43,
   "id": "2006e026-abcc-4be1-adad-3a344098267b",
   "metadata": {},
   "outputs": [
    {
     "name": "stdin",
     "output_type": "stream",
     "text": [
      "Enter your name :  name\n",
      "Enter your age :  23\n",
      "Enter your city :  44\n"
     ]
    },
    {
     "name": "stdout",
     "output_type": "stream",
     "text": [
      "{'name': 'name', 'age': '23', 'city': '44'}\n"
     ]
    }
   ],
   "source": [
    "# how to take user input and store in a dictionary\n",
    "\n",
    "# step 1 : create a dictionary\n",
    "# step 2 : take user input\n",
    "# step 3 : store the input in the dictionary\n",
    "# step 4 : print the dictionary\n",
    "data = {}\n",
    "\n",
    "name = input('Enter your name : ')\n",
    "age = input('Enter your age : ')\n",
    "city = input('Enter your city : ')\n",
    "\n",
    "data['name'] = name\n",
    "data['age'] = age\n",
    "data['city'] = city\n",
    "\n",
    "print(data)"
   ]
  },
  {
   "cell_type": "code",
   "execution_count": 5,
   "id": "dafde618-9c67-47f4-bc03-c19880589210",
   "metadata": {},
   "outputs": [
    {
     "name": "stdout",
     "output_type": "stream",
     "text": [
      "0      Word\n",
      "1     Excel\n",
      "2       SQL\n",
      "3    Access\n",
      "dtype: object\n"
     ]
    }
   ],
   "source": [
    "# import pandas as pd\n",
    "\n",
    "import pandas as pd\n",
    "\n",
    "# series\n",
    "\n",
    "# what is a series\n",
    "# a series is a one-dimensional labeled array capable of holding any data type\n",
    "# (integers, strings, floating point numbers, python objects, etc.)\n",
    "# the axis labels are collectively called the index\n",
    "\n",
    "# create a series\n",
    "\n",
    "data = [\"Word\", \"Excel\", \"SQL\", \"Access\"]\n",
    "\n",
    "# create a series from a list\n",
    "\n",
    "\n",
    "s = pd.Series(data)\n",
    "print(s)"
   ]
  },
  {
   "cell_type": "code",
   "execution_count": 7,
   "id": "5c2be060-35d4-4258-a7a5-232cc13597c4",
   "metadata": {},
   "outputs": [
    {
     "name": "stdout",
     "output_type": "stream",
     "text": [
      "name       Gopal\n",
      "age           20\n",
      "city    New York\n",
      "dtype: object\n"
     ]
    }
   ],
   "source": [
    "# create a series from a dictionary\n",
    "\n",
    "data = {\n",
    "    \"name\": \"Gopal\",\n",
    "    \"age\": 20,\n",
    "    \"city\": \"New York\"\n",
    "}\n",
    "\n",
    "s = pd.Series(data)\n",
    "print(s)"
   ]
  },
  {
   "cell_type": "code",
   "execution_count": 9,
   "id": "64f8a17f-1379-4dc6-b2e5-68590d88f247",
   "metadata": {},
   "outputs": [
    {
     "name": "stdout",
     "output_type": "stream",
     "text": [
      "a      Word\n",
      "b     Excel\n",
      "c       SQL\n",
      "d    Access\n",
      "dtype: object\n"
     ]
    }
   ],
   "source": [
    "# rename the index\n",
    "\n",
    "data = [\"Word\", \"Excel\", \"SQL\", \"Access\"]\n",
    "\n",
    "s = pd.Series(data, index=[\"a\", \"b\", \"c\", \"d\"])\n",
    "print(s)"
   ]
  },
  {
   "cell_type": "code",
   "execution_count": 11,
   "id": "4ffe0e88-6edd-4189-b410-d9e38ae18022",
   "metadata": {},
   "outputs": [
    {
     "name": "stdout",
     "output_type": "stream",
     "text": [
      "     name  age      city\n",
      "0   Gopal   28  New York\n",
      "1  Madhav   24     Paris\n",
      "2  Laxman   35    Berlin\n"
     ]
    }
   ],
   "source": [
    "#  data frame\n",
    "\n",
    "# what is a data frame\n",
    "# a data frame is a two-dimensional labeled data structure with columns of potentially different types\n",
    "# it is similar to a spreadsheet or SQL table, or a dictionary of Series objects\n",
    "# the data frame has an index and columns\n",
    "\n",
    "\n",
    "# example \n",
    "\n",
    "data = {\n",
    "    \"name\": [\"Gopal\", \"Madhav\", \"Laxman\"],\n",
    "    \"age\": [28, 24, 35],\n",
    "    \"city\": [\"New York\", \"Paris\", \"Berlin\"]\n",
    "}\n",
    "\n",
    "df = pd.DataFrame(data)\n",
    "\n",
    "print(df)"
   ]
  },
  {
   "cell_type": "code",
   "execution_count": 65,
   "id": "70ec5297-f742-411d-93eb-e21c1790386a",
   "metadata": {},
   "outputs": [
    {
     "name": "stdout",
     "output_type": "stream",
     "text": [
      "     name  age      city\n",
      "a   Gopal   28  New York\n",
      "b  Madhav   24     Paris\n",
      "c  Laxman   35    Berlin\n"
     ]
    }
   ],
   "source": [
    "# add index\n",
    "data = {\n",
    "    \"name\": [\"Gopal\", \"Madhav\", \"Laxman\"],\n",
    "    \"age\": [28, 24, 35],\n",
    "    \"city\": [\"New York\", \"Paris\", \"Berlin\"]\n",
    "}\n",
    "df = pd.DataFrame(data, index=[\"a\", \"b\", \"c\"])\n",
    "print(df)"
   ]
  },
  {
   "cell_type": "code",
   "execution_count": 67,
   "id": "9fb15862-7889-4e18-b7b8-1ef44178f2af",
   "metadata": {},
   "outputs": [
    {
     "name": "stdout",
     "output_type": "stream",
     "text": [
      "           id  Gender   Age           City Profession  Academic Pressure  \\\n",
      "0           2    Male  33.0  Visakhapatnam    Student                5.0   \n",
      "1           8  Female  24.0      Bangalore    Student                2.0   \n",
      "2          26    Male  31.0       Srinagar    Student                3.0   \n",
      "3          30  Female  28.0       Varanasi    Student                3.0   \n",
      "4          32  Female  25.0         Jaipur    Student                4.0   \n",
      "...       ...     ...   ...            ...        ...                ...   \n",
      "27896  140685  Female  27.0          Surat    Student                5.0   \n",
      "27897  140686    Male  27.0       Ludhiana    Student                2.0   \n",
      "27898  140689    Male  31.0      Faridabad    Student                3.0   \n",
      "27899  140690  Female  18.0       Ludhiana    Student                5.0   \n",
      "27900  140699    Male  27.0          Patna    Student                4.0   \n",
      "\n",
      "       Work Pressure  CGPA  Study Satisfaction  Job Satisfaction  \\\n",
      "0                0.0  8.97                 2.0               0.0   \n",
      "1                0.0  5.90                 5.0               0.0   \n",
      "2                0.0  7.03                 5.0               0.0   \n",
      "3                0.0  5.59                 2.0               0.0   \n",
      "4                0.0  8.13                 3.0               0.0   \n",
      "...              ...   ...                 ...               ...   \n",
      "27896            0.0  5.75                 5.0               0.0   \n",
      "27897            0.0  9.40                 3.0               0.0   \n",
      "27898            0.0  6.61                 4.0               0.0   \n",
      "27899            0.0  6.88                 2.0               0.0   \n",
      "27900            0.0  9.24                 1.0               0.0   \n",
      "\n",
      "            Sleep Duration Dietary Habits      Degree  \\\n",
      "0              '5-6 hours'        Healthy     B.Pharm   \n",
      "1              '5-6 hours'       Moderate         BSc   \n",
      "2      'Less than 5 hours'        Healthy          BA   \n",
      "3              '7-8 hours'       Moderate         BCA   \n",
      "4              '5-6 hours'       Moderate      M.Tech   \n",
      "...                    ...            ...         ...   \n",
      "27896          '5-6 hours'      Unhealthy  'Class 12'   \n",
      "27897  'Less than 5 hours'        Healthy         MSc   \n",
      "27898          '5-6 hours'      Unhealthy          MD   \n",
      "27899  'Less than 5 hours'        Healthy  'Class 12'   \n",
      "27900  'Less than 5 hours'        Healthy         BCA   \n",
      "\n",
      "      Have you ever had suicidal thoughts ?  Work/Study Hours  \\\n",
      "0                                       Yes               3.0   \n",
      "1                                        No               3.0   \n",
      "2                                        No               9.0   \n",
      "3                                       Yes               4.0   \n",
      "4                                       Yes               1.0   \n",
      "...                                     ...               ...   \n",
      "27896                                   Yes               7.0   \n",
      "27897                                    No               0.0   \n",
      "27898                                    No              12.0   \n",
      "27899                                   Yes              10.0   \n",
      "27900                                   Yes               2.0   \n",
      "\n",
      "      Financial Stress Family History of Mental Illness  Depression  \n",
      "0                  1.0                               No           1  \n",
      "1                  2.0                              Yes           0  \n",
      "2                  1.0                              Yes           0  \n",
      "3                  5.0                              Yes           1  \n",
      "4                  1.0                               No           0  \n",
      "...                ...                              ...         ...  \n",
      "27896              1.0                              Yes           0  \n",
      "27897              3.0                              Yes           0  \n",
      "27898              2.0                               No           0  \n",
      "27899              5.0                               No           1  \n",
      "27900              3.0                              Yes           1  \n",
      "\n",
      "[27901 rows x 18 columns]\n"
     ]
    }
   ],
   "source": [
    "# read csv file\n",
    "data = pd.read_csv(\"student_depression_dataset.csv\")\n",
    "print(data)"
   ]
  },
  {
   "cell_type": "code",
   "execution_count": 69,
   "id": "91d6a7e2-a5cb-4e2a-a140-7262299da87e",
   "metadata": {},
   "outputs": [
    {
     "name": "stdout",
     "output_type": "stream",
     "text": [
      "   id  Gender   Age           City Profession  Academic Pressure  \\\n",
      "0   2    Male  33.0  Visakhapatnam    Student                5.0   \n",
      "1   8  Female  24.0      Bangalore    Student                2.0   \n",
      "2  26    Male  31.0       Srinagar    Student                3.0   \n",
      "3  30  Female  28.0       Varanasi    Student                3.0   \n",
      "4  32  Female  25.0         Jaipur    Student                4.0   \n",
      "\n",
      "   Work Pressure  CGPA  Study Satisfaction  Job Satisfaction  \\\n",
      "0            0.0  8.97                 2.0               0.0   \n",
      "1            0.0  5.90                 5.0               0.0   \n",
      "2            0.0  7.03                 5.0               0.0   \n",
      "3            0.0  5.59                 2.0               0.0   \n",
      "4            0.0  8.13                 3.0               0.0   \n",
      "\n",
      "        Sleep Duration Dietary Habits   Degree  \\\n",
      "0          '5-6 hours'        Healthy  B.Pharm   \n",
      "1          '5-6 hours'       Moderate      BSc   \n",
      "2  'Less than 5 hours'        Healthy       BA   \n",
      "3          '7-8 hours'       Moderate      BCA   \n",
      "4          '5-6 hours'       Moderate   M.Tech   \n",
      "\n",
      "  Have you ever had suicidal thoughts ?  Work/Study Hours Financial Stress  \\\n",
      "0                                   Yes               3.0              1.0   \n",
      "1                                    No               3.0              2.0   \n",
      "2                                    No               9.0              1.0   \n",
      "3                                   Yes               4.0              5.0   \n",
      "4                                   Yes               1.0              1.0   \n",
      "\n",
      "  Family History of Mental Illness  Depression  \n",
      "0                               No           1  \n",
      "1                              Yes           0  \n",
      "2                              Yes           0  \n",
      "3                              Yes           1  \n",
      "4                               No           0  \n"
     ]
    }
   ],
   "source": [
    "# print the first 5 rows\n",
    "print(data.head())"
   ]
  },
  {
   "cell_type": "code",
   "execution_count": 71,
   "id": "11b80d1b-7eba-4634-be5d-35825e86268c",
   "metadata": {},
   "outputs": [
    {
     "name": "stdout",
     "output_type": "stream",
     "text": [
      "(27901, 18)\n"
     ]
    }
   ],
   "source": [
    "# find the shape of the data frame\n",
    "print(data.shape)"
   ]
  },
  {
   "cell_type": "code",
   "execution_count": 73,
   "id": "6af98c0e-140b-4c05-a880-3d0b7e2bdf31",
   "metadata": {},
   "outputs": [
    {
     "name": "stdout",
     "output_type": "stream",
     "text": [
      "Index(['id', 'Gender', 'Age', 'City', 'Profession', 'Academic Pressure',\n",
      "       'Work Pressure', 'CGPA', 'Study Satisfaction', 'Job Satisfaction',\n",
      "       'Sleep Duration', 'Dietary Habits', 'Degree',\n",
      "       'Have you ever had suicidal thoughts ?', 'Work/Study Hours',\n",
      "       'Financial Stress', 'Family History of Mental Illness', 'Depression'],\n",
      "      dtype='object')\n"
     ]
    }
   ],
   "source": [
    "# get all columns name \n",
    "print(data.columns)"
   ]
  },
  {
   "cell_type": "code",
   "execution_count": 75,
   "id": "a1d5bba3-2c9b-44f5-ac4f-ae820b5c3f88",
   "metadata": {},
   "outputs": [
    {
     "name": "stdout",
     "output_type": "stream",
     "text": [
      "                  id           Age  Academic Pressure  Work Pressure  \\\n",
      "count   27901.000000  27901.000000       27901.000000   27901.000000   \n",
      "mean    70442.149421     25.822300           3.141214       0.000430   \n",
      "std     40641.175216      4.905687           1.381465       0.043992   \n",
      "min         2.000000     18.000000           0.000000       0.000000   \n",
      "25%     35039.000000     21.000000           2.000000       0.000000   \n",
      "50%     70684.000000     25.000000           3.000000       0.000000   \n",
      "75%    105818.000000     30.000000           4.000000       0.000000   \n",
      "max    140699.000000     59.000000           5.000000       5.000000   \n",
      "\n",
      "               CGPA  Study Satisfaction  Job Satisfaction  Work/Study Hours  \\\n",
      "count  27901.000000        27901.000000      27901.000000      27901.000000   \n",
      "mean       7.656104            2.943837          0.000681          7.156984   \n",
      "std        1.470707            1.361148          0.044394          3.707642   \n",
      "min        0.000000            0.000000          0.000000          0.000000   \n",
      "25%        6.290000            2.000000          0.000000          4.000000   \n",
      "50%        7.770000            3.000000          0.000000          8.000000   \n",
      "75%        8.920000            4.000000          0.000000         10.000000   \n",
      "max       10.000000            5.000000          4.000000         12.000000   \n",
      "\n",
      "         Depression  \n",
      "count  27901.000000  \n",
      "mean       0.585499  \n",
      "std        0.492645  \n",
      "min        0.000000  \n",
      "25%        0.000000  \n",
      "50%        1.000000  \n",
      "75%        1.000000  \n",
      "max        1.000000  \n"
     ]
    }
   ],
   "source": [
    "print(data.describe())"
   ]
  },
  {
   "cell_type": "code",
   "execution_count": 77,
   "id": "017a24d7-922c-446a-9224-efd0b3edb3fe",
   "metadata": {},
   "outputs": [
    {
     "name": "stdout",
     "output_type": "stream",
     "text": [
      "id                                         int64\n",
      "Gender                                    object\n",
      "Age                                      float64\n",
      "City                                      object\n",
      "Profession                                object\n",
      "Academic Pressure                        float64\n",
      "Work Pressure                            float64\n",
      "CGPA                                     float64\n",
      "Study Satisfaction                       float64\n",
      "Job Satisfaction                         float64\n",
      "Sleep Duration                            object\n",
      "Dietary Habits                            object\n",
      "Degree                                    object\n",
      "Have you ever had suicidal thoughts ?     object\n",
      "Work/Study Hours                         float64\n",
      "Financial Stress                          object\n",
      "Family History of Mental Illness          object\n",
      "Depression                                 int64\n",
      "dtype: object\n"
     ]
    }
   ],
   "source": [
    "# get the data types of each column\n",
    "print(data.dtypes)"
   ]
  },
  {
   "cell_type": "code",
   "execution_count": 79,
   "id": "18d2d7b5-061c-4618-a989-8221d9763be1",
   "metadata": {},
   "outputs": [
    {
     "name": "stdout",
     "output_type": "stream",
     "text": [
      "0        Visakhapatnam\n",
      "1            Bangalore\n",
      "2             Srinagar\n",
      "3             Varanasi\n",
      "4               Jaipur\n",
      "             ...      \n",
      "27896            Surat\n",
      "27897         Ludhiana\n",
      "27898        Faridabad\n",
      "27899         Ludhiana\n",
      "27900            Patna\n",
      "Name: City, Length: 27901, dtype: object 0        33.0\n",
      "1        24.0\n",
      "2        31.0\n",
      "3        28.0\n",
      "4        25.0\n",
      "         ... \n",
      "27896    27.0\n",
      "27897    27.0\n",
      "27898    31.0\n",
      "27899    18.0\n",
      "27900    27.0\n",
      "Name: Age, Length: 27901, dtype: float64\n"
     ]
    }
   ],
   "source": [
    "# get specific column\n",
    "print(data[\"City\"], data[\"Age\"])"
   ]
  },
  {
   "cell_type": "code",
   "execution_count": 81,
   "id": "916c3f37-4bc7-4dbd-8537-5e1bbbd706d1",
   "metadata": {},
   "outputs": [
    {
     "name": "stdout",
     "output_type": "stream",
     "text": [
      "id                                                        33\n",
      "Gender                                                  Male\n",
      "Age                                                     29.0\n",
      "City                                                    Pune\n",
      "Profession                                           Student\n",
      "Academic Pressure                                        2.0\n",
      "Work Pressure                                            0.0\n",
      "CGPA                                                     5.7\n",
      "Study Satisfaction                                       3.0\n",
      "Job Satisfaction                                         0.0\n",
      "Sleep Duration                           'Less than 5 hours'\n",
      "Dietary Habits                                       Healthy\n",
      "Degree                                                   PhD\n",
      "Have you ever had suicidal thoughts ?                     No\n",
      "Work/Study Hours                                         4.0\n",
      "Financial Stress                                         1.0\n",
      "Family History of Mental Illness                          No\n",
      "Depression                                                 0\n",
      "Name: 5, dtype: object\n"
     ]
    }
   ],
   "source": [
    "# get specific row\n",
    "print(data.iloc[5])"
   ]
  },
  {
   "cell_type": "code",
   "execution_count": 83,
   "id": "4679e592-e2f5-4d7e-95d7-b9a13f361aab",
   "metadata": {},
   "outputs": [
    {
     "name": "stdout",
     "output_type": "stream",
     "text": [
      "29.0\n"
     ]
    }
   ],
   "source": [
    "# get specific row and column\n",
    "\n",
    "print(data.iloc[5, 2])"
   ]
  },
  {
   "cell_type": "code",
   "execution_count": 85,
   "id": "c87e472c-5fe0-4b60-9d00-e37d8c2c6e71",
   "metadata": {},
   "outputs": [],
   "source": [
    "# find the employee with  age is more than 30\n",
    "new_data = data[data[\"Age\"] > 30]\n",
    "\n",
    "# write the new data to a csv file\n",
    "new_data.to_csv(\"student_depression_dataset.csv\", index=False)"
   ]
  },
  {
   "cell_type": "code",
   "execution_count": 89,
   "id": "3b2499d5-d6e4-4b59-b3c2-2a7bdded4720",
   "metadata": {},
   "outputs": [
    {
     "name": "stdout",
     "output_type": "stream",
     "text": [
      "id                                         int64\n",
      "Gender                                    object\n",
      "Age                                      float64\n",
      "City                                      object\n",
      "Profession                                object\n",
      "Academic Pressure                        float64\n",
      "Work Pressure                            float64\n",
      "CGPA                                     float64\n",
      "Study Satisfaction                       float64\n",
      "Job Satisfaction                         float64\n",
      "Sleep Duration                            object\n",
      "Dietary Habits                            object\n",
      "Degree                                    object\n",
      "Have you ever had suicidal thoughts ?     object\n",
      "Work/Study Hours                         float64\n",
      "Financial Stress                          object\n",
      "Family History of Mental Illness          object\n",
      "Depression                                 int64\n",
      "dtype: object\n"
     ]
    }
   ],
   "source": [
    "# check the data types of each column\n",
    "print(data.dtypes)"
   ]
  },
  {
   "cell_type": "code",
   "execution_count": 95,
   "id": "6f709ea2-b708-4aad-a1d3-1dc38845c565",
   "metadata": {},
   "outputs": [
    {
     "data": {
      "image/png": "[encoded data removed]",
      "text/plain": [
       "<Figure size 640x480 with 1 Axes>"
      ]
     },
     "metadata": {},
     "output_type": "display_data"
    }
   ],
   "source": [
    "#Date: 3 April 2025\n",
    "\n",
    "import matplotlib.pyplot as plt\n",
    "import numpy as np\n",
    "x = np.linspace(0, 2 * np.pi, 50)\n",
    "y = np.sin(x)\n",
    "plt.plot(x, y)\n",
    "plt.xlabel('X-axis')\n",
    "plt.ylabel('Y-axis')\n",
    "plt.title('Sine Wave')\n",
    "plt.show()"
   ]
  },
  {
   "cell_type": "code",
   "execution_count": 97,
   "id": "0549c97d-52fc-4c2f-993c-2a8b0217577b",
   "metadata": {},
   "outputs": [
    {
     "data": {
      "image/png": "[encoded data removed]",
      "text/plain": [
       "<Figure size 640x480 with 1 Axes>"
      ]
     },
     "metadata": {},
     "output_type": "display_data"
    }
   ],
   "source": [
    "import matplotlib.pyplot as plt\n",
    "import numpy as np\n",
    "x = np.random.rand(5)\n",
    "y = np.random.rand(5)\n",
    "plt.scatter(x, y)\n",
    "plt.xlabel('X-axis')\n",
    "plt.ylabel('Y-axis')\n",
    "plt.title('Scatter Plot')\n",
    "plt.show()"
   ]
  },
  {
   "cell_type": "code",
   "execution_count": 99,
   "id": "a814ff18-9d30-4673-8808-4a589c44a894",
   "metadata": {},
   "outputs": [
    {
     "data": {
      "image/png": "[encoded data removed]",
      "text/plain": [
       "<Figure size 640x480 with 1 Axes>"
      ]
     },
     "metadata": {},
     "output_type": "display_data"
    }
   ],
   "source": [
    "categories = ['Category A', 'Category B', 'Category C']\n",
    "values = [2, 5, 10]\n",
    "plt.bar(categories, values)\n",
    "plt.xlabel('Categories')\n",
    "plt.ylabel('Values')\n",
    "plt.title('Bar Plot')\n",
    "plt.show()"
   ]
  },
  {
   "cell_type": "code",
   "execution_count": 101,
   "id": "c6bf6a78-e0e0-4d30-8097-dcd4f9827631",
   "metadata": {},
   "outputs": [
    {
     "data": {
      "image/png": "[encoded data removed]",
      "text/plain": [
       "<Figure size 640x480 with 1 Axes>"
      ]
     },
     "metadata": {},
     "output_type": "display_data"
    }
   ],
   "source": [
    "data = np.random.randn(1000)  # Generating random data\n",
    "plt.hist(data, bins=15, color='skyblue', edgecolor='black')\n",
    "plt.xlabel('Values')\n",
    "plt.ylabel('Frequency')\n",
    "plt.title('Histogram')\n",
    "plt.show()"
   ]
  },
  {
   "cell_type": "code",
   "execution_count": 103,
   "id": "27f44eb1-03f9-4e2b-b46b-ecf6e8f9c9ff",
   "metadata": {},
   "outputs": [
    {
     "data": {
      "image/png": "[encoded data removed]",
      "text/plain": [
       "<Figure size 640x480 with 1 Axes>"
      ]
     },
     "metadata": {},
     "output_type": "display_data"
    }
   ],
   "source": [
    "labels = 'A', 'B', 'C', 'D'\n",
    "sizes = [2000, 100, 85, 5]\n",
    "colors = ['gold', 'yellowgreen', 'lightcoral', 'lightskyblue']\n",
    "plt.pie(sizes, labels=labels, colors=colors, autopct='%1.1f%%', shadow=True)\n",
    "plt.axis('equal')  # Equal aspect ratio ensures a circular pie\n",
    "plt.title('Pie Chart')\n",
    "plt.show()"
   ]
  },
  {
   "cell_type": "code",
   "execution_count": 105,
   "id": "89ef8542-e28f-4a91-a36a-3f14701b710e",
   "metadata": {},
   "outputs": [
    {
     "data": {
      "image/png": "[encoded data removed]",
      "text/plain": [
       "<Figure size 640x480 with 1 Axes>"
      ]
     },
     "metadata": {},
     "output_type": "display_data"
    }
   ],
   "source": [
    "data = [np.random.normal(0, std, 50) for std in range(1, 4)]\n",
    "plt.boxplot(data, vert=True, patch_artist=True)\n",
    "plt.xlabel('Data Sets')\n",
    "plt.ylabel('Values')\n",
    "plt.title('Box Plot')\n",
    "plt.show()"
   ]
  },
  {
   "cell_type": "code",
   "execution_count": 6,
   "id": "04009c4c-1eb7-460e-81a6-13791199e69d",
   "metadata": {},
   "outputs": [
    {
     "data": {
      "image/png": "[encoded data removed]",
      "text/plain": [
       "<Figure size 640x480 with 2 Axes>"
      ]
     },
     "metadata": {},
     "output_type": "display_data"
    }
   ],
   "source": [
    "import matplotlib.pyplot as plt\n",
    "import numpy as np\n",
    "data = np.random.rand(50, 50)\n",
    "plt.imshow(data, cmap='viridis')\n",
    "plt.colorbar()\n",
    "plt.title('Heatmap')\n",
    "plt.show()"
   ]
  }
 ],
 "metadata": {
  "kernelspec": {
   "display_name": "Python 3 (ipykernel)",
   "language": "python",
   "name": "python3"
  },
  "language_info": {
   "codemirror_mode": {
    "name": "ipython",
    "version": 3
   },
   "file_extension": ".py",
   "mimetype": "text/x-python",
   "name": "python",
   "nbconvert_exporter": "python",
   "pygments_lexer": "ipython3",
   "version": "3.12.7"
  }
 },
 "nbformat": 4,
 "nbformat_minor": 5
}
