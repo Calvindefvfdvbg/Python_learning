{
 "cells": [
  {
   "cell_type": "code",
   "execution_count": null,
   "id": "31e8320e-6c61-41a3-ad06-aa651584062d",
   "metadata": {},
   "outputs": [],
   "source": [
    "\n",
    "# --- input Section ---\n",
    "# Enter SKU ( Unique Number ) : 101\n",
    "# Enter Product Name : Books\n",
    "# Enter Product QT : 20\n",
    "# Enter Single Book Price : 120/-\n",
    "\n",
    "# Do you Want Add more [Y/N]\n",
    "# Y\n",
    "# Enter SKU ( Unique Number ) : 102\n",
    "# Enter Product Name : toy\n",
    "# Enter Product QT : 5\n",
    "# Enter Single Book Price : 560/-\n",
    "\n",
    "# Do you Want Add more [Y/N]\n",
    "# Y\n",
    "# Enter SKU ( Unique Number ) : 103\n",
    "# Enter Product Name : Samosa\n",
    "# Enter Product QT : 250\n",
    "# Enter Single Book Price : 20/-\n",
    "\n",
    "# Do you Want Add more [Y/N]\n",
    "# N\n",
    "# --- Output Section---------\n",
    "# ------  Search Item ------\n",
    "# Enter Product Item Form SKU No. 103\n",
    "# Total Cost : 5000/-\n",
    "# Product Name : Samosa\n",
    "# QT : 250 \n",
    "# Single Price : 20/-"
   ]
  },
  {
   "cell_type": "code",
   "execution_count": 2,
   "id": "a8942037-529c-4fca-a50b-581e76f23753",
   "metadata": {},
   "outputs": [
    {
     "name": "stdin",
     "output_type": "stream",
     "text": [
      "Enter SKU (Unique Number):  101\n",
      "Enter Product Name:  Pizza\n",
      "Enter Product QT:  50\n",
      "Enter Single Product Price:  10\n",
      "Do you Want to Add more [Y/N]:  Y\n",
      "Enter SKU (Unique Number):  103\n",
      "Enter Product Name:  Upma\n",
      "Enter Product QT:  10\n",
      "Enter Single Product Price:  50\n",
      "Do you Want to Add more [Y/N]:  Y\n",
      "Enter SKU (Unique Number):  102\n",
      "Enter Product Name:  Rajma\n",
      "Enter Product QT:  10\n",
      "Enter Single Product Price:  20\n",
      "Do you Want to Add more [Y/N]:  Y\n",
      "Enter SKU (Unique Number):  104\n",
      "Enter Product Name:  Dahi\n",
      "Enter Product QT:  10\n",
      "Enter Single Product Price:  100\n",
      "Do you Want to Add more [Y/N]:  N\n"
     ]
    },
    {
     "name": "stdout",
     "output_type": "stream",
     "text": [
      "\n",
      "------ Search Item ------\n"
     ]
    },
    {
     "name": "stdin",
     "output_type": "stream",
     "text": [
      "Enter Product Item Form SKU No.:  103\n"
     ]
    },
    {
     "name": "stdout",
     "output_type": "stream",
     "text": [
      "Total Cost: 500/-\n",
      "Product Name: Upma\n",
      "QT: 10\n",
      "Single Price: 50/-\n"
     ]
    }
   ],
   "source": [
    "product_data = {}\n",
    "\n",
    "while True:\n",
    "    \n",
    "    sku = input(\"Enter SKU (Unique Number): \")\n",
    "    name = input(\"Enter Product Name: \")\n",
    "    quantity = int(input(\"Enter Product QT: \"))\n",
    "    price = int(input(\"Enter Single Product Price: \").replace(\"/-\", \"\"))\n",
    "\n",
    "    \n",
    "    product_data[sku] = {\n",
    "        \"name\": name,\n",
    "        \"quantity\": quantity,\n",
    "        \"price\": price\n",
    "    }\n",
    "\n",
    "    \n",
    "    add_more = input(\"Do you Want to Add more [Y/N]: \").strip().upper()\n",
    "    if add_more != \"Y\":\n",
    "        break\n",
    "\n",
    "print(\"\\n------ Search Item ------\")\n",
    "search_sku = input(\"Enter Product Item Form SKU No.: \").strip()\n",
    "\n",
    "if search_sku in product_data:\n",
    "    item = product_data[search_sku]\n",
    "    total_cost = item[\"quantity\"] * item[\"price\"]\n",
    "\n",
    "    \n",
    "    print(f\"Total Cost: {total_cost}/-\")\n",
    "    print(f\"Product Name: {item['name']}\")\n",
    "    print(f\"QT: {item['quantity']}\")\n",
    "    print(f\"Single Price: {item['price']}/-\")\n",
    "else:\n",
    "    print(\"Product not found!\")"
   ]
  }
 ],
 "metadata": {
  "kernelspec": {
   "display_name": "Python 3 (ipykernel)",
   "language": "python",
   "name": "python3"
  },
  "language_info": {
   "codemirror_mode": {
    "name": "ipython",
    "version": 3
   },
   "file_extension": ".py",
   "mimetype": "text/x-python",
   "name": "python",
   "nbconvert_exporter": "python",
   "pygments_lexer": "ipython3",
   "version": "3.12.7"
  }
 },
 "nbformat": 4,
 "nbformat_minor": 5
}
