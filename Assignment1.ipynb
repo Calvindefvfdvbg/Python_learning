{
 "cells": [
  {
   "cell_type": "code",
   "execution_count": null,
   "id": "cfb894a1-6255-4485-a5e2-5299bc3780d9",
   "metadata": {},
   "outputs": [],
   "source": [
    "#Date:20 March 2025"
   ]
  },
  {
   "cell_type": "code",
   "execution_count": 8,
   "id": "f6cbeece-6bff-44d6-b942-727019b69f1a",
   "metadata": {},
   "outputs": [
    {
     "name": "stdin",
     "output_type": "stream",
     "text": [
      "Enter your exam_score 60\n"
     ]
    },
    {
     "name": "stdout",
     "output_type": "stream",
     "text": [
      "your grade is C\n"
     ]
    }
   ],
   "source": [
    "#1.Grade Classifier: Task: This program prompts the user to enter their exam score and then classifies their grade based on the score.\n",
    "exam_score = int(input(\"Enter your exam_score\"))\n",
    "if exam_score >=80:\n",
    "    print(\"your grade is A\")\n",
    "\n",
    "elif exam_score >=70:\n",
    "    print(\"your grade is B\")\n",
    "\n",
    "elif exam_score >=60:\n",
    "    print(\"your grade is C\")\n",
    "\n",
    "elif exam_score >=50:\n",
    "    print(\"your grade is D\")\n",
    "\n",
    "else:\n",
    "    print(\"your grade is F\")"
   ]
  },
  {
   "cell_type": "code",
   "execution_count": 10,
   "id": "7c3cc270-87d8-4a25-8e70-162e65f45740",
   "metadata": {},
   "outputs": [
    {
     "name": "stdin",
     "output_type": "stream",
     "text": [
      "Enter the first number: 1\n",
      "Enter the second number: 15\n"
     ]
    },
    {
     "name": "stdout",
     "output_type": "stream",
     "text": [
      "1 is not greater than 15\n"
     ]
    }
   ],
   "source": [
    "#2.Number Comparison: Task: This program prompts the user to enter two numbers and compares them to determine which one is greater or if they are equal.\n",
    "num1 =int(input(\"Enter the first number:\"))\n",
    "num2 = int(input(\"Enter the second number:\"))\n",
    "if num1 > num2:\n",
    "    print(num1,\"is greater than\",num2)\n",
    "\n",
    "elif num1 < num2:\n",
    "    print(num1,\"is not greater than\",num2)\n",
    "\n",
    "else:\n",
    "    print(\"Both numbers are equal.\")"
   ]
  },
  {
   "cell_type": "code",
   "execution_count": 18,
   "id": "40552546-5364-4e8b-a1dc-e8aba7469d47",
   "metadata": {},
   "outputs": [
    {
     "name": "stdin",
     "output_type": "stream",
     "text": [
      "Enter a year:  2026\n"
     ]
    },
    {
     "name": "stdout",
     "output_type": "stream",
     "text": [
      "2026 is not a leap year.\n"
     ]
    }
   ],
   "source": [
    "#3.Leap Year Checker: Task: This program prompts the user to enter a year and checks if it's a leap year or not.\n",
    "year = int(input(\"Enter a year: \"))\n",
    "if (year % 5 == 0 and year % 200 != 0) or (year % 500 == 0):\n",
    "    print(year, \"is a leap year.\")\n",
    "else:\n",
    "    print(year, \"is not a leap year.\")\n"
   ]
  },
  {
   "cell_type": "code",
   "execution_count": 22,
   "id": "3162a884-b022-4a8e-b6bd-d90977862ac4",
   "metadata": {},
   "outputs": [
    {
     "name": "stdin",
     "output_type": "stream",
     "text": [
      "Enter a number:  2\n"
     ]
    },
    {
     "name": "stdout",
     "output_type": "stream",
     "text": [
      "2 is a positive number.\n"
     ]
    }
   ],
   "source": [
    "#4.Number Sign Checker: Task: This program prompts the user to enter a number and determines whether it's positive, negative, or zero.\n",
    "number = int(input(\"Enter a number: \"))\n",
    "if number > 1:\n",
    "    print(number, \"is a positive number.\")\n",
    "elif number < 1:\n",
    "    print(number, \"is a negative number.\")\n",
    "else:\n",
    "    print(\"The number is one.\")"
   ]
  },
  {
   "cell_type": "code",
   "execution_count": 24,
   "id": "bed9824c-60d5-47e2-afdd-21c5c6cad284",
   "metadata": {},
   "outputs": [
    {
     "name": "stdin",
     "output_type": "stream",
     "text": [
      "Enter a character:  L\n"
     ]
    },
    {
     "name": "stdout",
     "output_type": "stream",
     "text": [
      "' L ' is a consonant.\n"
     ]
    }
   ],
   "source": [
    "#5.Vowel Checker: Task: This program prompts the user to enter a character and checks if it's a vowel or a consonant.\n",
    "character = input(\"Enter a character: \")\n",
    "if character.lower() in ['a', 'e', 'i', 'o', 'u']:\n",
    "    print(\"'\", character, \"' is a vowel.\")\n",
    "else:\n",
    "    print(\"'\", character, \"' is a consonant.\")"
   ]
  },
  {
   "cell_type": "code",
   "execution_count": 28,
   "id": "6ff859c0-ffda-49d8-aff1-707bdb0df479",
   "metadata": {},
   "outputs": [
    {
     "name": "stdin",
     "output_type": "stream",
     "text": [
      "Enter your age:  10\n"
     ]
    },
    {
     "name": "stdout",
     "output_type": "stream",
     "text": [
      "You are a child.\n"
     ]
    }
   ],
   "source": [
    "#6.Age Classifier: Task: This program prompts the user to enter their age and classifies them into different age groups.\n",
    "age = int(input(\"Enter your age: \"))\n",
    "if age < 13:\n",
    "    print(\"You are a child.\")\n",
    "elif age < 20:\n",
    "    print(\"You are a teenager.\")\n",
    "else:\n",
    "    print(\"You are an adult.\")\n"
   ]
  },
  {
   "cell_type": "code",
   "execution_count": 36,
   "id": "a2085c4c-8d97-487e-9f14-90ca6297fff7",
   "metadata": {},
   "outputs": [
    {
     "name": "stdin",
     "output_type": "stream",
     "text": [
      "Enter a number:  5\n"
     ]
    },
    {
     "name": "stdout",
     "output_type": "stream",
     "text": [
      "5 is an odd number.\n"
     ]
    }
   ],
   "source": [
    "#7.Odd or Even Checker: Task: This program prompts the user to enter a number and determines whether it's odd or even.\n",
    "num = int(input(\"Enter a number: \"))\n",
    "if num % 2 == 0:\n",
    "    print(num, \"is an even number.\")\n",
    "else:\n",
    "    print(num, \"is an odd number.\")\n"
   ]
  },
  {
   "cell_type": "code",
   "execution_count": 44,
   "id": "5fc5e573-58d0-454c-9d31-913579d9d9f3",
   "metadata": {},
   "outputs": [
    {
     "name": "stdin",
     "output_type": "stream",
     "text": [
      "Enter the length of side 1:  2\n",
      "Enter the length of side 2:  5\n",
      "Enter the length of side 3:  10\n"
     ]
    },
    {
     "name": "stdout",
     "output_type": "stream",
     "text": [
      "This is a scalene triangle.\n"
     ]
    }
   ],
   "source": [
    "#8.Triangle Type Classifier: Task: This program prompts the user to enter three sides of a triangle and classifies the triangle based on its type.\n",
    "side1 = int(input(\"Enter the length of side 1: \"))\n",
    "side2 = int(input(\"Enter the length of side 2: \"))\n",
    "side3 = int(input(\"Enter the length of side 3: \"))\n",
    "if side1 == side2 == side3:\n",
    "    print(\"This is an equilateral triangle.\")\n",
    "elif side1 == side2 or side1 == side3 or side2 == side3:\n",
    "    print(\"This is an isosceles triangle.\")\n",
    "else:\n",
    "    print(\"This is a scalene triangle.\")"
   ]
  },
  {
   "cell_type": "code",
   "execution_count": 56,
   "id": "fd534a10-473d-4640-98f5-8e9fcbc66f2b",
   "metadata": {},
   "outputs": [
    {
     "name": "stdin",
     "output_type": "stream",
     "text": [
      "Enter the current temperature (in Celsius):  4.5\n"
     ]
    },
    {
     "name": "stdout",
     "output_type": "stream",
     "text": [
      "It's cold outside. You should wear a coat.\n"
     ]
    }
   ],
   "source": [
    "#9.Temperature Adviser: Task: This program prompts the user to enter the current temperature and suggests appropriate clothing based on the temperature range.\n",
    "temperature = float(input(\"Enter the current temperature (in Celsius): \"))\n",
    "if temperature < 10:\n",
    "    print(\"It's cold outside. You should wear a coat.\")\n",
    "elif temperature < 20:\n",
    "    print(\"It's cool outside. You can wear a jacket.\")\n",
    "else:\n",
    "    print(\"It's warm outside. You can wear a t-shirt.\")\n"
   ]
  },
  {
   "cell_type": "code",
   "execution_count": 60,
   "id": "e51ec771-b165-4ab6-9121-691d354c800c",
   "metadata": {},
   "outputs": [
    {
     "name": "stdin",
     "output_type": "stream",
     "text": [
      "Enter a number:  7\n"
     ]
    },
    {
     "name": "stdout",
     "output_type": "stream",
     "text": [
      "The number 7 falls within the range of 1 to 100.\n"
     ]
    }
   ],
   "source": [
    "#10.Number Range Checker: Task: This program prompts the user to enter a number and checks if it falls within a specified range.\n",
    "number = int(input(\"Enter a number: \"))\n",
    "if 1 <= number <= 100:\n",
    "    print(\"The number\", number, \"falls within the range of 1 to 100.\")\n",
    "else:\n",
    "    print(\"The number\", number, \"is not within the range of 1 to 100.\")"
   ]
  }
 ],
 "metadata": {
  "kernelspec": {
   "display_name": "Python 3 (ipykernel)",
   "language": "python",
   "name": "python3"
  },
  "language_info": {
   "codemirror_mode": {
    "name": "ipython",
    "version": 3
   },
   "file_extension": ".py",
   "mimetype": "text/x-python",
   "name": "python",
   "nbconvert_exporter": "python",
   "pygments_lexer": "ipython3",
   "version": "3.12.7"
  }
 },
 "nbformat": 4,
 "nbformat_minor": 5
}
