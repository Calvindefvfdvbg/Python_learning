{
 "cells": [
  {
   "cell_type": "code",
   "execution_count": 8,
   "id": "df3310f7-e1d1-40a6-88cc-6dc2c200ce34",
   "metadata": {},
   "outputs": [
    {
     "name": "stdin",
     "output_type": "stream",
     "text": [
      "Enter start number:  5\n",
      "Enter end number:  6\n"
     ]
    },
    {
     "name": "stdout",
     "output_type": "stream",
     "text": [
      "Total sum from 5 to 6 = 11\n"
     ]
    }
   ],
   "source": [
    "#1.Write a Program to Calculate the Sum of Natural Numbers ?\n",
    "\n",
    "\n",
    "def get_sum(start, end):\n",
    "    total = 0\n",
    "    for i in range(start, end + 1):\n",
    "        total += i\n",
    "    return total\n",
    "\n",
    "start = int(input('Enter start number: '))\n",
    "end = int(input('Enter end number: '))\n",
    "\n",
    "if start > 0 and end >= start:\n",
    "    total_sum = get_sum(start, end)\n",
    "    print(\"Total sum from\", start, \"to\", end, \"=\", total_sum)\n",
    "else:\n",
    "    print(\"Enter valid natural numbers with start <= end\")"
   ]
  },
  {
   "cell_type": "code",
   "execution_count": 14,
   "id": "70dc379c-7fe7-43ce-b3c5-52c4f82435e7",
   "metadata": {},
   "outputs": [
    {
     "name": "stdin",
     "output_type": "stream",
     "text": [
      "Enter Table Number:  5\n"
     ]
    },
    {
     "name": "stdout",
     "output_type": "stream",
     "text": [
      "Multiplication Table for 5:\n",
      "5 × 1 = 5\n",
      "5 × 2 = 10\n",
      "5 × 3 = 15\n",
      "5 × 4 = 20\n",
      "5 × 5 = 25\n",
      "5 × 6 = 30\n",
      "5 × 7 = 35\n",
      "5 × 8 = 40\n",
      "5 × 9 = 45\n",
      "5 × 10 = 50\n"
     ]
    }
   ],
   "source": [
    "#2.Write a Program to Generate Multiplication Table ?\n",
    "\n",
    "def get_result(total, per):\n",
    "    f_total = total * per / 100\n",
    "    return f_total\n",
    "\n",
    "Table_number = int(input(\"Enter Table Number: \"))\n",
    "\n",
    "# Generate multiplication table\n",
    "print(f\"Multiplication Table for {Table_number}:\")\n",
    "for i in range(1, 11):\n",
    "    result = Table_number * i\n",
    "    print(f\"{Table_number} × {i} = {result}\")"
   ]
  },
  {
   "cell_type": "code",
   "execution_count": 20,
   "id": "fbfa664e-6276-4b8a-9cc2-700c22bd6deb",
   "metadata": {},
   "outputs": [
    {
     "name": "stdin",
     "output_type": "stream",
     "text": [
      "Enter a string:  CALVIN\n"
     ]
    },
    {
     "name": "stdout",
     "output_type": "stream",
     "text": [
      "Total number of alphabets in the String: 6\n"
     ]
    }
   ],
   "source": [
    "#3.Write a Program to Display count of Alphabets in to String\n",
    "\n",
    "def count_alphabets(string):\n",
    "    count = 0\n",
    "    for char in string:\n",
    "        if (char >= \"A\" and char <= \"Z\") or (char >= \"a\" and char <= \"z\"):\n",
    "            count += 1\n",
    "    return count\n",
    "\n",
    "string = input(\"Enter a string: \")\n",
    "\n",
    "alphabet_count = count_alphabets(string)\n",
    "print(\"Total number of alphabets in the String:\", alphabet_count)"
   ]
  },
  {
   "cell_type": "code",
   "execution_count": 2,
   "id": "c0512fe6-a132-433a-93e7-30b82963406a",
   "metadata": {},
   "outputs": [
    {
     "name": "stdin",
     "output_type": "stream",
     "text": [
      "Enter an integer:  12345\n"
     ]
    },
    {
     "name": "stdout",
     "output_type": "stream",
     "text": [
      "Number of digits: 5\n"
     ]
    }
   ],
   "source": [
    "#4.Write a Program to Count Number of Digits in an Integer\n",
    "\n",
    "def count_digits(n):\n",
    "    return len(str(abs(n)))  # Convert to string and count characters\n",
    "\n",
    "# Example usage\n",
    "num = int(input(\"Enter an integer: \"))\n",
    "print(\"Number of digits:\", count_digits(num))"
   ]
  },
  {
   "cell_type": "code",
   "execution_count": 4,
   "id": "eb97a112-0bb5-4c97-9f91-db2e2c6ba04c",
   "metadata": {},
   "outputs": [
    {
     "name": "stdin",
     "output_type": "stream",
     "text": [
      "Enter a number:  8965\n"
     ]
    },
    {
     "name": "stdout",
     "output_type": "stream",
     "text": [
      "Reversed number: 5698\n"
     ]
    }
   ],
   "source": [
    "#5.Write a Program to Reverse a Number\n",
    "\n",
    "def reverse_number(n):\n",
    "    return int(str(n)[::-1]) if n >= 0 else -int(str(abs(n))[::-1])\n",
    "\n",
    "# Example usage\n",
    "num = int(input(\"Enter a number: \"))\n",
    "print(\"Reversed number:\", reverse_number(num))"
   ]
  }
 ],
 "metadata": {
  "kernelspec": {
   "display_name": "Python 3 (ipykernel)",
   "language": "python",
   "name": "python3"
  },
  "language_info": {
   "codemirror_mode": {
    "name": "ipython",
    "version": 3
   },
   "file_extension": ".py",
   "mimetype": "text/x-python",
   "name": "python",
   "nbconvert_exporter": "python",
   "pygments_lexer": "ipython3",
   "version": "3.12.7"
  }
 },
 "nbformat": 4,
 "nbformat_minor": 5
}
