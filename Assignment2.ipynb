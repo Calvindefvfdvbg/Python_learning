{
 "cells": [
  {
   "cell_type": "code",
   "execution_count": null,
   "id": "ab5cee4a-8d55-43d6-bc3e-e68e5d638474",
   "metadata": {},
   "outputs": [],
   "source": [
    "#Date:22 March 2025"
   ]
  },
  {
   "cell_type": "code",
   "execution_count": null,
   "id": "b6285a74-4ac8-484e-82db-2f0cfbbed1ae",
   "metadata": {},
   "outputs": [],
   "source": [
    "# -- input Section \n",
    "# 1. Enter Student Name : Ravi\n",
    "# 2. Enter Roll Number : RAVI009912\n",
    "# 3. Enter Class : MCA\n",
    "# 4. Enter JAVA Marks : 56\n",
    "# 5. Enter C++ Marks : 89\n",
    "# 6. Enter Python Marks : 12\n",
    "# 7. Enter Ruby Marks : 56\n",
    "# 8. Enter SQL Marks : 78\n",
    "\n",
    "# -- Output Section\n",
    "# Student Name : Ravi\n",
    "# Roll Number : RAVI009912\n",
    "# Class : MCA\n",
    "# Enter JAVA Marks : 56/100\n",
    "# C++ Marks : 89/100\n",
    "# Python Marks : 12/100\n",
    "# Ruby Marks : 56/100\n",
    "# SQL Marks : 78/100\n",
    "#    total = ?\n",
    "#    Per % = ?%"
   ]
  },
  {
   "cell_type": "code",
   "execution_count": 33,
   "id": "8b250146-0da3-4612-bdfd-4ae015749967",
   "metadata": {},
   "outputs": [
    {
     "name": "stdin",
     "output_type": "stream",
     "text": [
      "Enter Student Name Calvin\n",
      "Enter Roll Number CALVIN008812\n",
      "Enter Class DVA\n",
      "Enter Java marks 86\n",
      "Enter C++ marks 56\n",
      "Enter python marks 45\n",
      "Enter Ruby marks 90\n",
      "Enter SQL marks 30\n"
     ]
    },
    {
     "name": "stdout",
     "output_type": "stream",
     "text": [
      "Student name is: Calvin\n",
      "Roll Number is: CALVIN008812\n",
      "Class is: DVA\n",
      "Java marks is: 86\n",
      "C++ marks is: 56\n",
      "Python marks is: 45\n",
      "Ruby marks is: 90\n",
      "SQL marks is: 30\n"
     ]
    }
   ],
   "source": [
    "Student_name = str(input(\"Enter Student Name\"))\n",
    "Roll_name = str(input(\"Enter Roll Number\"))\n",
    "Student_class = str(input(\"Enter Class\"))\n",
    "Java_marks = int(input(\"Enter Java marks\"))\n",
    "C_marks = int(input(\"Enter C++ marks\"))\n",
    "Python_marks = int(input(\"Enter python marks\"))\n",
    "Ruby_marks = int(input(\"Enter Ruby marks\"))\n",
    "SQL_marks = int(input(\"Enter SQL marks\"))\n",
    "\n",
    "print(\"Student name is:\", Student_name)\n",
    "print(\"Roll Number is:\", Roll_name)\n",
    "print(\"Class is:\", Student_class)\n",
    "print(\"Java marks is:\", Java_marks)\n",
    "print(\"C++ marks is:\", C_marks)\n",
    "print(\"Python marks is:\", Python_marks)\n",
    "print(\"Ruby marks is:\", Ruby_marks)\n",
    "print(\"SQL marks is:\", SQL_marks)"
   ]
  },
  {
   "cell_type": "code",
   "execution_count": 2,
   "id": "617efe19-1769-4bbe-a93c-558c9f78fb19",
   "metadata": {},
   "outputs": [
    {
     "name": "stdin",
     "output_type": "stream",
     "text": [
      "Enter Student Name Calvin\n",
      "Enter Roll Number CALVIN008812\n",
      "Enter Class DVA\n",
      "Enter Java marks 86\n",
      "Enter C++ marks 56\n",
      "Enter python marks 45\n",
      "Enter Ruby marks 90\n",
      "Enter SQL marks 30\n"
     ]
    },
    {
     "name": "stdout",
     "output_type": "stream",
     "text": [
      "Student name is: Calvin\n",
      "Roll Number is: CALVIN008812\n",
      "Class is: DVA\n",
      "Java marks is: 86\n",
      "C++ marks is: 56\n",
      "Python marks is: 45\n",
      "Ruby marks is: 90\n",
      "SQL marks is: 30\n",
      "The total marks is: 307 /500\n"
     ]
    }
   ],
   "source": [
    "Student_name = str(input(\"Enter Student Name\"))\n",
    "Roll_name = str(input(\"Enter Roll Number\"))\n",
    "Student_class = str(input(\"Enter Class\"))\n",
    "Java_marks = int(input(\"Enter Java marks\"))\n",
    "C_marks = int(input(\"Enter C++ marks\"))\n",
    "Python_marks = int(input(\"Enter python marks\"))\n",
    "Ruby_marks = int(input(\"Enter Ruby marks\"))\n",
    "SQL_marks = int(input(\"Enter SQL marks\"))\n",
    "\n",
    "print(\"Student name is:\", Student_name)\n",
    "print(\"Roll Number is:\", Roll_name)\n",
    "print(\"Class is:\", Student_class)\n",
    "print(\"Java marks is:\", Java_marks)\n",
    "print(\"C++ marks is:\", C_marks)\n",
    "print(\"Python marks is:\", Python_marks)\n",
    "print(\"Ruby marks is:\", Ruby_marks)\n",
    "print(\"SQL marks is:\", SQL_marks)\n",
    "\n",
    "\n",
    "total_marks = Java_marks + C_marks + Python_marks + Ruby_marks + SQL_marks\n",
    "print(\"The total marks is:\", total_marks, \"/500\")\n",
    "\n"
   ]
  },
  {
   "cell_type": "code",
   "execution_count": 10,
   "id": "42d3725d-9bd5-4aeb-90bf-4ef73e3ed23b",
   "metadata": {},
   "outputs": [
    {
     "name": "stdin",
     "output_type": "stream",
     "text": [
      "Enter Student Name Calvin\n",
      "Enter Roll Number CALVIN008812\n",
      "Enter Class DVA\n",
      "Enter Java marks 86\n",
      "Enter C++ marks 56\n",
      "Enter python marks 45\n",
      "Enter Ruby marks 90\n",
      "Enter SQL marks 30\n"
     ]
    },
    {
     "name": "stdout",
     "output_type": "stream",
     "text": [
      "Student name is: Calvin\n",
      "Roll Number is: CALVIN008812\n",
      "Class is: DVA\n",
      "Java marks is: 86\n",
      "C++ marks is: 56\n",
      "Python marks is: 45\n",
      "Ruby marks is: 90\n",
      "SQL marks is: 30\n",
      "The total marks is: 307 /500\n",
      "The total percentage is: 61.4 %\n"
     ]
    }
   ],
   "source": [
    "Student_name = str(input(\"Enter Student Name\"))\n",
    "Roll_name = str(input(\"Enter Roll Number\"))\n",
    "Student_class = str(input(\"Enter Class\"))\n",
    "Java_marks = int(input(\"Enter Java marks\"))\n",
    "C_marks = int(input(\"Enter C++ marks\"))\n",
    "Python_marks = int(input(\"Enter python marks\"))\n",
    "Ruby_marks = int(input(\"Enter Ruby marks\"))\n",
    "SQL_marks = int(input(\"Enter SQL marks\"))\n",
    "\n",
    "print(\"Student name is:\", Student_name)\n",
    "print(\"Roll Number is:\", Roll_name)\n",
    "print(\"Class is:\", Student_class)\n",
    "print(\"Java marks is:\", Java_marks)\n",
    "print(\"C++ marks is:\", C_marks)\n",
    "print(\"Python marks is:\", Python_marks)\n",
    "print(\"Ruby marks is:\", Ruby_marks)\n",
    "print(\"SQL marks is:\", SQL_marks)\n",
    "\n",
    "\n",
    "total_marks = Java_marks + C_marks + Python_marks + Ruby_marks + SQL_marks\n",
    "print(\"The total marks is:\", total_marks, \"/500\")\n",
    "\n",
    "\n",
    "percentage =(total_marks/500)*100\n",
    "print(\"The total percentage is:\",percentage,\"%\")"
   ]
  },
  {
   "cell_type": "code",
   "execution_count": 15,
   "id": "48893df7-837f-49d4-a269-7a97cd12045c",
   "metadata": {},
   "outputs": [
    {
     "name": "stdin",
     "output_type": "stream",
     "text": [
      "Enter Student Name Calvin\n",
      "Enter Roll Number CALVIN008812\n",
      "Enter Class DVA\n",
      "Enter Java marks 86\n",
      "Enter C++ marks 56\n",
      "Enter python marks 45\n",
      "Enter Ruby marks 90\n",
      "Enter SQL marks 30\n"
     ]
    },
    {
     "name": "stdout",
     "output_type": "stream",
     "text": [
      "Student name is: Calvin\n",
      "Roll Number is: CALVIN008812\n",
      "Class is: DVA\n",
      "Java marks is: 86\n",
      "C++ marks is: 56\n",
      "Python marks is: 45\n",
      "Ruby marks is: 90\n",
      "SQL marks is: 30\n",
      "The total marks is: 307 /500\n",
      "The total percentage is: 61.4 %\n",
      "Your grade is: B\n"
     ]
    }
   ],
   "source": [
    "Student_name = str(input(\"Enter Student Name\"))\n",
    "Roll_name = str(input(\"Enter Roll Number\"))\n",
    "Student_class = str(input(\"Enter Class\"))\n",
    "Java_marks = int(input(\"Enter Java marks\"))\n",
    "C_marks = int(input(\"Enter C++ marks\"))\n",
    "Python_marks = int(input(\"Enter python marks\"))\n",
    "Ruby_marks = int(input(\"Enter Ruby marks\"))\n",
    "SQL_marks = int(input(\"Enter SQL marks\"))\n",
    "\n",
    "print(\"Student name is:\", Student_name)\n",
    "print(\"Roll Number is:\", Roll_name)\n",
    "print(\"Class is:\", Student_class)\n",
    "print(\"Java marks is:\", Java_marks)\n",
    "print(\"C++ marks is:\", C_marks)\n",
    "print(\"Python marks is:\", Python_marks)\n",
    "print(\"Ruby marks is:\", Ruby_marks)\n",
    "print(\"SQL marks is:\", SQL_marks)\n",
    "\n",
    "\n",
    "total_marks = Java_marks + C_marks + Python_marks + Ruby_marks + SQL_marks\n",
    "print(\"The total marks is:\", total_marks, \"/500\")\n",
    "\n",
    "\n",
    "percentage =(total_marks/500)*100\n",
    "print(\"The total percentage is:\",percentage,\"%\")\n",
    "\n",
    "\n",
    "def calculate_grade(percentage):\n",
    "    if percentage < 45:\n",
    "        return \"F (Fail)\"\n",
    "    elif percentage < 55:\n",
    "        return \"C\"\n",
    "    elif percentage < 65:\n",
    "        return \"B\"\n",
    "    elif percentage <= 100:\n",
    "        return \"A\"\n",
    "    else:\n",
    "        return \"Invalid percentage\"\n",
    "\n",
    "# Calculate the grade using the function\n",
    "grade = calculate_grade(percentage)\n",
    "\n",
    "# Print the result\n",
    "print(\"Your grade is:\", grade)\n",
    "    "
   ]
  }
 ],
 "metadata": {
  "kernelspec": {
   "display_name": "Python 3 (ipykernel)",
   "language": "python",
   "name": "python3"
  },
  "language_info": {
   "codemirror_mode": {
    "name": "ipython",
    "version": 3
   },
   "file_extension": ".py",
   "mimetype": "text/x-python",
   "name": "python",
   "nbconvert_exporter": "python",
   "pygments_lexer": "ipython3",
   "version": "3.12.7"
  }
 },
 "nbformat": 4,
 "nbformat_minor": 5
}
